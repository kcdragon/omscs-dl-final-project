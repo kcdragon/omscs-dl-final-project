{
 "cells": [
  {
   "cell_type": "code",
   "execution_count": 1,
   "id": "924bc271-165a-4d74-8f7d-8434ad9991d8",
   "metadata": {},
   "outputs": [],
   "source": [
    "%load_ext autoreload\n",
    "%autoreload 2"
   ]
  },
  {
   "cell_type": "code",
   "execution_count": null,
   "id": "d012a5ea-5e24-4d61-9eee-af0c7e928d16",
   "metadata": {},
   "outputs": [],
   "source": [
    "\"\"\"\n",
    "Blackbox Attack\n",
    "\n",
    "The way the blackbox attack works is as follows:\n",
    "Since we do not know details about the model we are attacking, we train a \"substitute model\" to approximate the \"target model\".\n",
    "This is done using a small sample of training data, labeled by the target model instead of using the ground-truth labels. \n",
    "In addition, we augment this training data using \"Jacobian-based data augmentation\" (TODO)\n",
    "Finally, we use one of the regular attacks on the substitute model. Supposedly, an attack that works well against the substitute\n",
    "will also work well against the target. \n",
    "\"\"\""
   ]
  },
  {
   "cell_type": "code",
   "execution_count": 2,
   "id": "62f478a7-7dd8-4d49-a5ca-c213a8ca572e",
   "metadata": {},
   "outputs": [],
   "source": [
    "import os.path\n",
    "import matplotlib.pyplot as plt\n",
    "from IPython.display import Image \n",
    "import torch\n",
    "import torch.nn as nn\n",
    "import torchvision\n",
    "import torchvision.transforms as transforms\n",
    "from torch.utils.data import Subset\n",
    "\n",
    "import team36\n",
    "from team36.mnist.data_loading import MNIST_Loader\n",
    "from team36.mnist.vgg import VGG\n",
    "from team36.mnist.cnn import CNN\n",
    "from team36.attacks.fast_gradient_attack_data_set import FastSignGradientAttackDataSet\n",
    "from team36.training import train, validate, accuracy, predict, predict_from_loader, do_training, load_or_train\n",
    "\n",
    "DIR = '.'\n",
    "DATA_DIR = f'{DIR}/data'"
   ]
  },
  {
   "cell_type": "code",
   "execution_count": null,
   "id": "557589a6-1c27-4fe2-aa10-dc4e790cd4e8",
   "metadata": {},
   "outputs": [],
   "source": [
    "\"\"\"\n",
    "Step 1\n",
    "Train the target model (aka the Oracle) on a large portion of the training data, or load a checkpoint\n",
    "\"\"\""
   ]
  },
  {
   "cell_type": "code",
   "execution_count": 3,
   "id": "4420edfe-9701-4c4b-b328-3989d9f4432c",
   "metadata": {},
   "outputs": [
    {
     "name": "stderr",
     "output_type": "stream",
     "text": [
      "C:\\Users\\bkest\\miniconda3\\envs\\cs7643-final-project-cpu\\lib\\site-packages\\torchvision\\datasets\\mnist.py:498: UserWarning: The given NumPy array is not writeable, and PyTorch does not support non-writeable tensors. This means you can write to the underlying (supposedly non-writeable) NumPy array using the tensor. You may want to copy the array to protect its data or make it writeable before converting it to a tensor. This type of warning will be suppressed for the rest of this program. (Triggered internally at  ..\\torch\\csrc\\utils\\tensor_numpy.cpp:180.)\n",
      "  return torch.from_numpy(parsed.astype(m[2], copy=False)).view(*s)\n"
     ]
    }
   ],
   "source": [
    "mnist_loader = MNIST_Loader(DIR, DATA_DIR)"
   ]
  },
  {
   "cell_type": "code",
   "execution_count": 4,
   "id": "e8988865-ab3e-46b5-a23c-b4e20a2231ae",
   "metadata": {},
   "outputs": [],
   "source": [
    "data = torchvision.datasets.MNIST(root=DATA_DIR, train=True, download=True, \n",
    "                                          transform=transforms.ToTensor())"
   ]
  },
  {
   "cell_type": "code",
   "execution_count": 5,
   "id": "54a8a768-bb15-4d79-9677-4667566a2df7",
   "metadata": {},
   "outputs": [],
   "source": [
    "oracle = VGG() # set the target model here\n",
    "oracle_checkpoint = 'mnist-vgg.pth'\n",
    "EPOCHS = 2\n",
    "# TODO: define specific train/val split to avoid conflict with substitute model\n",
    "load_or_train(oracle, oracle_checkpoint, epochs=2)\n",
    "# if os.path.exists(oracle_checkpoint_path): # if trained checkpoint exists, load it\n",
    "#     state_dict = torch.load(f\"{DIR}/checkpoints/{checkpoint}\", map_location=torch.device('cpu'))\n",
    "#     model.load_state_dict(state_dict)\n",
    "# else: # else, train the model\n",
    "#     oracle_train_split, oracle_val_split = mnist_loader.train_val_split()\n",
    "#     print(f\"{len(oracle_train_split)} in training set\")\n",
    "#     print(f\"{len(oracle_val_split)} in validation set\")\n",
    "#     do_training(oracle, training_split=oracle_train_split, validation_split=oracle_val_split, epochs=EPOCHS)"
   ]
  },
  {
   "cell_type": "code",
   "execution_count": null,
   "id": "9b1f30d2-c77d-4b06-91d8-4d8e624bfb03",
   "metadata": {},
   "outputs": [],
   "source": [
    "\"\"\"\n",
    "Step 2\n",
    "Train the substitute model on a small portion of the training data, using the oracle's predictions as the labels\n",
    "\n",
    "oracle pred full mnist\n",
    "replace targets\n",
    "train val split (small train)\n",
    "\"\"\""
   ]
  },
  {
   "cell_type": "code",
   "execution_count": 6,
   "id": "7b9a9e09-4881-43de-b0ec-fe6ff1b8ff53",
   "metadata": {},
   "outputs": [],
   "source": [
    "substitute = CNN()\n",
    "substitute_checkpoint = 'substitute.pth'"
   ]
  },
  {
   "cell_type": "code",
   "execution_count": 7,
   "id": "4225531d-0182-438f-bdbe-cc3eef309f89",
   "metadata": {},
   "outputs": [],
   "source": [
    "loader = torch.utils.data.DataLoader(data, batch_size=100, shuffle=False, num_workers=2)"
   ]
  },
  {
   "cell_type": "code",
   "execution_count": 8,
   "id": "f52fece1-9a25-4957-a734-a03affe7e7ef",
   "metadata": {},
   "outputs": [
    {
     "name": "stderr",
     "output_type": "stream",
     "text": [
      "C:\\Users\\bkest\\miniconda3\\envs\\cs7643-final-project-cpu\\lib\\site-packages\\torch\\cuda\\__init__.py:52: UserWarning: CUDA initialization: The NVIDIA driver on your system is too old (found version 10010). Please update your GPU driver by downloading and installing a new version from the URL: http://www.nvidia.com/Download/index.aspx Alternatively, go to: https://pytorch.org to install a PyTorch version that has been compiled with your version of the CUDA driver. (Triggered internally at  ..\\c10\\cuda\\CUDAFunctions.cpp:115.)\n",
      "  return torch._C._cuda_getDeviceCount() > 0\n",
      "C:\\Users\\bkest\\miniconda3\\envs\\cs7643-final-project-cpu\\lib\\site-packages\\torch\\nn\\functional.py:718: UserWarning: Named tensors and all their associated APIs are an experimental feature and subject to change. Please do not use them for anything important until they are released as stable. (Triggered internally at  ..\\c10/core/TensorImpl.h:1156.)\n",
      "  return torch.max_pool2d(input, kernel_size, stride, padding, dilation, ceil_mode)\n"
     ]
    },
    {
     "name": "stdout",
     "output_type": "stream",
     "text": [
      "Wall time: 2min 34s\n"
     ]
    }
   ],
   "source": [
    "%%time\n",
    "oracle_preds = predict_from_loader(oracle, loader)"
   ]
  },
  {
   "cell_type": "code",
   "execution_count": 9,
   "id": "54401f17-407a-46cb-ba1a-7d6759d023c6",
   "metadata": {},
   "outputs": [],
   "source": [
    "oracle_preds = oracle_preds.argmax(axis=1)"
   ]
  },
  {
   "cell_type": "code",
   "execution_count": 10,
   "id": "18728701-7b1e-4c1e-b27d-bbb66748cc27",
   "metadata": {},
   "outputs": [
    {
     "data": {
      "text/plain": [
       "torch.Size([60000])"
      ]
     },
     "execution_count": 10,
     "metadata": {},
     "output_type": "execute_result"
    }
   ],
   "source": [
    "oracle_preds.shape"
   ]
  },
  {
   "cell_type": "code",
   "execution_count": 11,
   "id": "ffd89050-b754-4560-8baf-9d4e1f2c11f3",
   "metadata": {},
   "outputs": [
    {
     "data": {
      "text/plain": [
       "10914"
      ]
     },
     "execution_count": 11,
     "metadata": {},
     "output_type": "execute_result"
    }
   ],
   "source": [
    "len(oracle_preds[oracle_preds != data.targets]) # check oracle preds mostly matches true labels"
   ]
  },
  {
   "cell_type": "code",
   "execution_count": 14,
   "id": "2e51dceb-0107-4646-9380-d3c3c6ad9a1b",
   "metadata": {},
   "outputs": [],
   "source": [
    "data.targets = oracle_preds"
   ]
  },
  {
   "cell_type": "code",
   "execution_count": 19,
   "id": "74f282ec-fb7f-41e4-a0fe-4fe5494dab4e",
   "metadata": {},
   "outputs": [
    {
     "name": "stdout",
     "output_type": "stream",
     "text": [
      "100 in training set\n",
      "100 in validation set\n",
      "Epoch: [0][0/8]\tLoss 1.3544 (1.3544)\tPrec @1 0.6641 (0.6641)\t\n",
      "Epoch 0 | Training accuracy: 0.7419999837875366% | Validation accuracy: 0.75%\n",
      "Epoch: [1][0/8]\tLoss 1.2081 (1.2081)\tPrec @1 0.8125 (0.8125)\t\n",
      "Epoch 1 | Training accuracy: 0.7820000052452087% | Validation accuracy: 0.7699999809265137%\n",
      "Epoch: [2][0/8]\tLoss 1.1510 (1.1510)\tPrec @1 0.8672 (0.8672)\t\n",
      "Epoch 2 | Training accuracy: 0.8209999799728394% | Validation accuracy: 0.7400000095367432%\n",
      "Epoch: [3][0/8]\tLoss 1.2538 (1.2538)\tPrec @1 0.7969 (0.7969)\t\n",
      "Epoch 3 | Training accuracy: 0.8069999814033508% | Validation accuracy: 0.75%\n",
      "Epoch: [4][0/8]\tLoss 1.2242 (1.2242)\tPrec @1 0.7891 (0.7891)\t\n",
      "Epoch 4 | Training accuracy: 0.7900000214576721% | Validation accuracy: 0.7699999809265137%\n",
      "Epoch: [5][0/8]\tLoss 1.2124 (1.2124)\tPrec @1 0.7734 (0.7734)\t\n",
      "Epoch 5 | Training accuracy: 0.8389999866485596% | Validation accuracy: 0.7799999713897705%\n",
      "Epoch: [6][0/8]\tLoss 1.1953 (1.1953)\tPrec @1 0.8047 (0.8047)\t\n",
      "Epoch 6 | Training accuracy: 0.8289999961853027% | Validation accuracy: 0.7799999713897705%\n",
      "Epoch: [7][0/8]\tLoss 1.1096 (1.1096)\tPrec @1 0.8828 (0.8828)\t\n",
      "Epoch 7 | Training accuracy: 0.8619999885559082% | Validation accuracy: 0.800000011920929%\n",
      "Epoch: [8][0/8]\tLoss 1.0802 (1.0802)\tPrec @1 0.8672 (0.8672)\t\n",
      "Epoch 8 | Training accuracy: 0.8730000257492065% | Validation accuracy: 0.8100000023841858%\n",
      "Epoch: [9][0/8]\tLoss 1.1115 (1.1115)\tPrec @1 0.8438 (0.8438)\t\n",
      "Epoch 9 | Training accuracy: 0.875% | Validation accuracy: 0.8399999737739563%\n"
     ]
    },
    {
     "data": {
      "image/png": "[encoded data removed]",
      "text/plain": [
       "<Figure size 432x288 with 1 Axes>"
      ]
     },
     "metadata": {
      "needs_background": "light"
     },
     "output_type": "display_data"
    },
    {
     "data": {
      "image/png": "[encoded data removed]",
      "text/plain": [
       "<Figure size 432x288 with 1 Axes>"
      ]
     },
     "metadata": {
      "needs_background": "light"
     },
     "output_type": "display_data"
    },
    {
     "name": "stdout",
     "output_type": "stream",
     "text": [
      "Best Validation Acccuracy: 0.8400\n"
     ]
    }
   ],
   "source": [
    "train_size = 100\n",
    "train = Subset(data, range(train_size))\n",
    "val = Subset(data, range(train_size, train_size*2)) # val split same size as train split\n",
    "load_or_train(substitute, substitute_checkpoint, train_split=train, val_split=val, epochs=10)"
   ]
  },
  {
   "cell_type": "code",
   "execution_count": null,
   "id": "42ddca46-5f9b-4456-afbb-a825748f4786",
   "metadata": {},
   "outputs": [],
   "source": [
    "\"\"\"\n",
    "Step 3\n",
    "Generate attack data for the substitute model and test both models with it\n",
    "\"\"\""
   ]
  },
  {
   "cell_type": "code",
   "execution_count": 20,
   "id": "7f01ac1b-1aec-4121-b1d4-39c7788043de",
   "metadata": {},
   "outputs": [],
   "source": [
    "target = oracle\n",
    "criterion = nn.CrossEntropyLoss()"
   ]
  },
  {
   "cell_type": "code",
   "execution_count": 21,
   "id": "8f9eef07-8bd1-437f-b78d-af44471b76c7",
   "metadata": {},
   "outputs": [
    {
     "name": "stdout",
     "output_type": "stream",
     "text": [
      "Substitute Regular Test Accuracy is 0.6643000245094299\n",
      "Substitute Regular Test Loss is 1.3816022872924805\n",
      "Target Regular Test Accuracy is 0.8274999856948853\n",
      "Target Regular Test Loss is 0.8391931653022766\n"
     ]
    }
   ],
   "source": [
    "\"\"\"Regular Test\"\"\"\n",
    "test_set = torchvision.datasets.MNIST(root=DATA_DIR, train=False, download=True, \n",
    "                                      transform=transforms.ToTensor())\n",
    "\n",
    "test_loader = torch.utils.data.DataLoader(test_set, batch_size=100, shuffle=False, num_workers=2)\n",
    "\n",
    "substitute_test_accuracy, _, substitute_test_loss = validate(None, test_loader, substitute, criterion)\n",
    "target_test_accuracy, _, target_test_loss = validate(None, test_loader, target, criterion)\n",
    "\n",
    "print(f\"Substitute Regular Test Accuracy is {substitute_test_accuracy}\")\n",
    "print(f\"Substitute Regular Test Loss is {substitute_test_loss}\")\n",
    "\n",
    "print(f\"Target Regular Test Accuracy is {target_test_accuracy}\")\n",
    "print(f\"Target Regular Test Loss is {target_test_loss}\")"
   ]
  },
  {
   "cell_type": "code",
   "execution_count": 24,
   "id": "697795cf-818f-469c-8174-3b87234f943f",
   "metadata": {},
   "outputs": [
    {
     "name": "stdout",
     "output_type": "stream",
     "text": [
      "Substitute Attack Test Accuracy is 0.08290000259876251\n",
      "Substitute Attack Test Loss is 2.5031323432922363\n",
      "Target Attack Test Accuracy is 0.3978999853134155\n",
      "Target Attack Test Loss is 1.8616756200790405\n"
     ]
    }
   ],
   "source": [
    "\"\"\"Attack Test\"\"\"\n",
    "attack_test_set = torchvision.datasets.MNIST(root=DATA_DIR, train=False, download=True, \n",
    "                                             transform=transforms.ToTensor())\n",
    "attack_test_set = FastSignGradientAttackDataSet(attack_test_set, substitute, criterion, \n",
    "                                                               epsilon=0.25)\n",
    "attack_test_loader = torch.utils.data.DataLoader(attack_test_set, batch_size=100, \n",
    "                                                 shuffle=False, num_workers=0)\n",
    "\n",
    "substitute_attack_test_accuracy, _, substitute_attack_test_loss = validate(None, attack_test_loader, substitute, criterion)\n",
    "target_attack_test_accuracy, _, target_attack_test_loss = validate(None, attack_test_loader, \n",
    "                                                                     target, criterion)\n",
    "\n",
    "print(f\"Substitute Attack Test Accuracy is {substitute_attack_test_accuracy}\")\n",
    "print(f\"Substitute Attack Test Loss is {substitute_attack_test_loss}\")\n",
    "\n",
    "print(f\"Target Attack Test Accuracy is {target_attack_test_accuracy}\")\n",
    "print(f\"Target Attack Test Loss is {target_attack_test_loss}\")"
   ]
  },
  {
   "cell_type": "code",
   "execution_count": null,
   "id": "ba884cfd-8429-4ffb-af30-9b07a0cb4f97",
   "metadata": {},
   "outputs": [],
   "source": []
  },
  {
   "cell_type": "code",
   "execution_count": null,
   "id": "0aa12b12-ab6a-4c47-8efb-30aaa22a5877",
   "metadata": {},
   "outputs": [],
   "source": []
  }
 ],
 "metadata": {
  "kernelspec": {
   "display_name": "cs7643-final-project-cpu",
   "language": "python",
   "name": "cs7643-final-project-cpu"
  },
  "language_info": {
   "codemirror_mode": {
    "name": "ipython",
    "version": 3
   },
   "file_extension": ".py",
   "mimetype": "text/x-python",
   "name": "python",
   "nbconvert_exporter": "python",
   "pygments_lexer": "ipython3",
   "version": "3.9.4"
  }
 },
 "nbformat": 4,
 "nbformat_minor": 5
}
