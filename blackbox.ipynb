{
 "cells": [
  {
   "cell_type": "code",
   "execution_count": 1,
   "id": "924bc271-165a-4d74-8f7d-8434ad9991d8",
   "metadata": {},
   "outputs": [],
   "source": [
    "%load_ext autoreload\n",
    "%autoreload 2"
   ]
  },
  {
   "cell_type": "code",
   "execution_count": 2,
   "id": "d012a5ea-5e24-4d61-9eee-af0c7e928d16",
   "metadata": {},
   "outputs": [
    {
     "data": {
      "text/plain": [
       "'\\nBlackbox Attack\\n\\nThe blackbox attack works as follows:\\nSince we do not know details about the model we are attacking, we train a \"substitute model\" to approximate the \"target model\".\\nThis is done using a small sample of training data, labeled by the target model (aka the oracle) instead of using the true labels. \\nThis way, the substitute learns to mimic the target model.\\nIn addition, we augment this training data using \"Jacobian-based data augmentation\" (TODO)\\nFinally, we use one of the regular attacks on the substitute model. Supposedly, an attack that works well against the substitute\\nwill also work well against the target. \\n'"
      ]
     },
     "execution_count": 2,
     "metadata": {},
     "output_type": "execute_result"
    }
   ],
   "source": [
    "\"\"\"\n",
    "Blackbox Attack\n",
    "\n",
    "The blackbox attack works as follows:\n",
    "Since we do not know details about the model we are attacking, we train a \"substitute model\" to approximate the \"target model\".\n",
    "This is done using a small sample of training data, labeled by the target model (aka the oracle) instead of using the true labels. \n",
    "This way, the substitute learns to mimic the target model.\n",
    "In addition, we augment this training data using \"Jacobian-based data augmentation\" (TODO)\n",
    "Finally, we use one of the regular attacks on the substitute model. Supposedly, an attack that works well against the substitute\n",
    "will also work well against the target. \n",
    "\"\"\""
   ]
  },
  {
   "cell_type": "code",
   "execution_count": 3,
   "id": "62f478a7-7dd8-4d49-a5ca-c213a8ca572e",
   "metadata": {},
   "outputs": [],
   "source": [
    "import os.path\n",
    "import matplotlib.pyplot as plt\n",
    "from IPython.display import Image \n",
    "import torch\n",
    "import torch.nn as nn\n",
    "import torchvision\n",
    "import torchvision.transforms as transforms\n",
    "from torch.utils.data import Subset\n",
    "from torch.autograd.functional import jacobian\n",
    "from torch.autograd import grad\n",
    "from sklearn.model_selection import train_test_split\n",
    "\n",
    "import team36\n",
    "from team36.mnist.data_loading import MNIST_Loader\n",
    "from team36.mnist.vgg import VGG\n",
    "from team36.mnist.cnn import CNN\n",
    "from team36.attacks.fast_gradient_attack_data_set import FastSignGradientAttackDataSet\n",
    "from team36.training import train, validate, accuracy, predict, predict_from_loader, do_training, load_or_train, train_val_split\n",
    "\n",
    "DIR = '.'\n",
    "DATA_DIR = f'{DIR}/data'"
   ]
  },
  {
   "cell_type": "code",
   "execution_count": 4,
   "id": "557589a6-1c27-4fe2-aa10-dc4e790cd4e8",
   "metadata": {},
   "outputs": [
    {
     "data": {
      "text/plain": [
       "'\\nStep 1\\nTrain the target model (aka the Oracle) or load from a checkpoint\\n'"
      ]
     },
     "execution_count": 4,
     "metadata": {},
     "output_type": "execute_result"
    }
   ],
   "source": [
    "\"\"\"\n",
    "Step 1\n",
    "Train the target model (aka the Oracle) or load from a checkpoint\n",
    "\"\"\""
   ]
  },
  {
   "cell_type": "code",
   "execution_count": 5,
   "id": "e8988865-ab3e-46b5-a23c-b4e20a2231ae",
   "metadata": {},
   "outputs": [
    {
     "name": "stdout",
     "output_type": "stream",
     "text": [
      "Files already downloaded and verified\n",
      "Files already downloaded and verified\n",
      "Files already downloaded and verified\n",
      "Files already downloaded and verified\n"
     ]
    },
    {
     "data": {
      "text/plain": [
       "[Dataset CIFAR10\n",
       "     Number of datapoints: 50000\n",
       "     Root location: ./data\n",
       "     Split: Train\n",
       "     StandardTransform\n",
       " Transform: Compose(\n",
       "                ToTensor()\n",
       "            ),\n",
       " Dataset CIFAR10\n",
       "     Number of datapoints: 50000\n",
       "     Root location: ./data\n",
       "     Split: Train\n",
       "     StandardTransform\n",
       " Transform: Compose(\n",
       "                ToTensor()\n",
       "            )]"
      ]
     },
     "execution_count": 5,
     "metadata": {},
     "output_type": "execute_result"
    }
   ],
   "source": [
    "\"\"\"\n",
    "Set up the datasets\n",
    "It is interesting to compare using the same dataset for the substitute and oracle vs. using different datasets\n",
    "\"\"\"\n",
    "ORACLE_DATASET = 'CIFAR10' # 'MNIST' or 'CIFAR10'\n",
    "SUB_DATASET = 'CIFAR10' \n",
    "DATASET_NAMES = [ORACLE_DATASET, SUB_DATASET]\n",
    "MODEL_NAMES = ['oracle', 'sub']\n",
    "ORACLE = 0\n",
    "SUB = 1\n",
    "datasets = [] # two-element list to store the oracle dataset and the substitute dataset\n",
    "dataset_image_sizes = []\n",
    "dataset_channels = []\n",
    "test_datasets = []\n",
    "\n",
    "# class Grayscale_to_RGB(object):\n",
    "#     def __call__(self, sample):\n",
    "#         print(sample)\n",
    "#         return sample\n",
    "\n",
    "# def grayscale_to_rgb(sample):\n",
    "#     print(sample)\n",
    "#     return sample\n",
    "# #     return sample.repeat(1, 3, 1, 1)\n",
    "\n",
    "for idx, dataset_name in enumerate(DATASET_NAMES):\n",
    "    transform_seq = [transforms.ToTensor()]\n",
    "    if dataset_name == 'MNIST':\n",
    "        image_size = 28\n",
    "        in_channels = 1\n",
    "        if idx == SUB and ORACLE_DATASET != 'MNIST': # if substitute uses mnist, but oracle uses other dataset add padding to match image size\n",
    "            padding = (dataset_image_sizes[ORACLE] - image_size) // 2\n",
    "            transform_seq.append(transforms.Pad(padding, fill=0))\n",
    "            image_size += padding * 2\n",
    "#             transform_seq.append(transforms.Lambda(lambda x: x))\n",
    "            transform_seq.append(transforms.Lambda(lambda x: x.repeat(3, 1, 1)))\n",
    "            in_channels = 3 # also need to copy to 3 channels to match rgb cifar\n",
    "            # NOTE: above assumes oracle_dataset has larger images and that there is an even number difference in the image sizes\n",
    "        dataset = torchvision.datasets.MNIST(root=DATA_DIR, train=True, download=True, \n",
    "                                              transform=transforms.Compose(transform_seq))\n",
    "        test_dataset = torchvision.datasets.MNIST(root=DATA_DIR, train=False, download=True, \n",
    "                                              transform=transforms.Compose(transform_seq))\n",
    "#         if idx == SUB and ORACLE_DATASET != 'MNIST':\n",
    "#             # also need to copy to image to 3 channels to match rgb cifar\n",
    "# #             transform_seq.append(grayscale_to_rgb) # copy single channel to 3 channels (from https://discuss.pytorch.org/t/grayscale-to-rgb-transform/18315)\n",
    "#             dataset.data = dataset.data.unsqueeze(1).repeat(1, 3, 1, 1)            \n",
    "#             in_channels = 3\n",
    "    elif dataset_name == 'CIFAR10':\n",
    "        image_size = 32\n",
    "        in_channels = 3\n",
    "        dataset = torchvision.datasets.CIFAR10(root=DATA_DIR, train=True, download=True,\n",
    "                                                transform=transforms.Compose(transform_seq))\n",
    "        test_dataset = torchvision.datasets.CIFAR10(root=DATA_DIR, train=False, download=True, \n",
    "                                              transform=transforms.Compose(transform_seq))\n",
    "    datasets.append(dataset)\n",
    "    dataset_image_sizes.append(image_size)\n",
    "    dataset_channels.append(in_channels)\n",
    "    test_datasets.append(test_dataset)\n",
    "\n",
    "datasets"
   ]
  },
  {
   "cell_type": "code",
   "execution_count": 6,
   "id": "54a8a768-bb15-4d79-9677-4667566a2df7",
   "metadata": {},
   "outputs": [
    {
     "name": "stdout",
     "output_type": "stream",
     "text": [
      "Wall time: 17 ms\n"
     ]
    }
   ],
   "source": [
    "%%time\n",
    "image_size = dataset_image_sizes[ORACLE]\n",
    "in_channels = dataset_channels[ORACLE]\n",
    "oracle = VGG(image_size=image_size, in_channels=in_channels) # set the target model here\n",
    "oracle_checkpoint = f'{DATASET_NAMES[ORACLE]}-vgg.pth' # e.g. 'MNIST-vgg.pth'\n",
    "# oracle_checkpoint = 'mnist-vgg.pth'\n",
    "oracle_checkpoint = oracle_checkpoint.lower()\n",
    "\n",
    "learning_rate = 5e-4\n",
    "momentum = 5e-1\n",
    "# momentum = .9\n",
    "weight_decay = 1e-1\n",
    "batch_size = 32\n",
    "epochs = 10\n",
    "\n",
    "load_or_train(oracle, oracle_checkpoint, dataset=datasets[ORACLE], epochs=epochs, learning_rate=learning_rate, \n",
    "              weight_decay=weight_decay, momentum=momentum, batch_size=batch_size,\n",
    "             optim=torch.optim.SGD)\n",
    "# hyperparam tuning notes: \n",
    "# small learning rate is good for VGG on CIFAR (0.001 better than 0.01 and much better than 0.1)\n",
    "\n",
    "# if os.path.exists(oracle_checkpoint_path): # if trained checkpoint exists, load it\n",
    "#     state_dict = torch.load(f\"{DIR}/checkpoints/{checkpoint}\", map_location=torch.device('cpu'))\n",
    "#     model.load_state_dict(state_dict)\n",
    "# else: # else, train the model\n",
    "# training_indices, validation_indices, _, _ = train_test_split(\n",
    "#     range(len(target_data)),\n",
    "#     target_data.targets,\n",
    "#     stratify=target_data.targets,\n",
    "#     test_size=0.1,\n",
    "# )\n",
    "# oracle_train_split = torch.utils.data.Subset(target_data, training_indices)\n",
    "# oracle_val_split = torch.utils.data.Subset(target_data, validation_indices)\n",
    "# print(f\"{len(oracle_train_split)} in training set\")\n",
    "# print(f\"{len(oracle_val_split)} in validation set\")\n",
    "\n",
    "# do_training(oracle, training_split=oracle_train_split, validation_split=oracle_val_split, epochs=EPOCHS)"
   ]
  },
  {
   "cell_type": "code",
   "execution_count": 7,
   "id": "9b1f30d2-c77d-4b06-91d8-4d8e624bfb03",
   "metadata": {},
   "outputs": [
    {
     "data": {
      "text/plain": [
       "\"\\nStep 2\\nTrain the substitute model on a small portion of the training data, using the oracle's predictions as the labels\\n\\noracle pred full mnist\\nreplace targets\\ntrain val split (small train)\\n\""
      ]
     },
     "execution_count": 7,
     "metadata": {},
     "output_type": "execute_result"
    }
   ],
   "source": [
    "\"\"\"\n",
    "Step 2\n",
    "Train the substitute model on a small portion of the training data, using the oracle's predictions as the labels\n",
    "\n",
    "oracle pred full mnist\n",
    "replace targets\n",
    "train val split (small train)\n",
    "\"\"\""
   ]
  },
  {
   "cell_type": "code",
   "execution_count": 8,
   "id": "7b9a9e09-4881-43de-b0ec-fe6ff1b8ff53",
   "metadata": {},
   "outputs": [],
   "source": [
    "sub = CNN(image_size = dataset_image_sizes[SUB], in_channels = dataset_channels[SUB])\n",
    "sub_checkpoint = f'{DATASET_NAMES[SUB]}-substitute.pth' # e.g. 'MNIST-substitute.pth'"
   ]
  },
  {
   "cell_type": "code",
   "execution_count": 9,
   "id": "4225531d-0182-438f-bdbe-cc3eef309f89",
   "metadata": {},
   "outputs": [],
   "source": [
    "loader = torch.utils.data.DataLoader(datasets[SUB], batch_size=100, shuffle=False, num_workers=0)\n",
    "# NOTE: due to a bug with lambda transforms on Windows, num_workers needs to be 0 or there will be an error\n",
    "# https://github.com/belskikh/kekas/issues/26"
   ]
  },
  {
   "cell_type": "code",
   "execution_count": 10,
   "id": "aecbb988-e729-456f-9f7e-4e9f54770cb9",
   "metadata": {},
   "outputs": [
    {
     "data": {
      "text/plain": [
       "Dataset CIFAR10\n",
       "    Number of datapoints: 50000\n",
       "    Root location: ./data\n",
       "    Split: Train\n",
       "    StandardTransform\n",
       "Transform: Compose(\n",
       "               ToTensor()\n",
       "           )"
      ]
     },
     "execution_count": 10,
     "metadata": {},
     "output_type": "execute_result"
    }
   ],
   "source": [
    "datasets[SUB]"
   ]
  },
  {
   "cell_type": "code",
   "execution_count": 11,
   "id": "cc9ef9ad-a7e7-4fa6-8f7b-bb94e76613fc",
   "metadata": {},
   "outputs": [],
   "source": [
    "# datasets[SUB].data.shape"
   ]
  },
  {
   "cell_type": "code",
   "execution_count": 12,
   "id": "5d8e65fa-2ab1-44f5-ac0a-f077423a2776",
   "metadata": {},
   "outputs": [],
   "source": [
    "# for idx, (data, target) in enumerate(loader):\n",
    "#         if torch.cuda.is_available():\n",
    "#             data = data.cuda()\n",
    "#             target = target.cuda()\n",
    "#         print(data.shape)\n",
    "# #         print(data.repeat(1, 3, 1, 1).shape)\n",
    "#         print(target)\n",
    "#         if idx > 1: break"
   ]
  },
  {
   "cell_type": "code",
   "execution_count": 13,
   "id": "f52fece1-9a25-4957-a734-a03affe7e7ef",
   "metadata": {},
   "outputs": [
    {
     "name": "stderr",
     "output_type": "stream",
     "text": [
      "C:\\Users\\bkest\\miniconda3\\envs\\cs7643-final-project-cpu\\lib\\site-packages\\torch\\cuda\\__init__.py:52: UserWarning: CUDA initialization: The NVIDIA driver on your system is too old (found version 10010). Please update your GPU driver by downloading and installing a new version from the URL: http://www.nvidia.com/Download/index.aspx Alternatively, go to: https://pytorch.org to install a PyTorch version that has been compiled with your version of the CUDA driver. (Triggered internally at  ..\\c10\\cuda\\CUDAFunctions.cpp:115.)\n",
      "  return torch._C._cuda_getDeviceCount() > 0\n",
      "C:\\Users\\bkest\\miniconda3\\envs\\cs7643-final-project-cpu\\lib\\site-packages\\torch\\nn\\functional.py:718: UserWarning: Named tensors and all their associated APIs are an experimental feature and subject to change. Please do not use them for anything important until they are released as stable. (Triggered internally at  ..\\c10/core/TensorImpl.h:1156.)\n",
      "  return torch.max_pool2d(input, kernel_size, stride, padding, dilation, ceil_mode)\n"
     ]
    },
    {
     "name": "stdout",
     "output_type": "stream",
     "text": [
      "Wall time: 2min 2s\n"
     ]
    }
   ],
   "source": [
    "%%time\n",
    "oracle_preds = predict_from_loader(oracle, loader)"
   ]
  },
  {
   "cell_type": "code",
   "execution_count": 14,
   "id": "54401f17-407a-46cb-ba1a-7d6759d023c6",
   "metadata": {},
   "outputs": [],
   "source": [
    "oracle_preds = oracle_preds.argmax(axis=1)"
   ]
  },
  {
   "cell_type": "code",
   "execution_count": 15,
   "id": "ffd89050-b754-4560-8baf-9d4e1f2c11f3",
   "metadata": {},
   "outputs": [
    {
     "data": {
      "text/plain": [
       "1"
      ]
     },
     "execution_count": 15,
     "metadata": {},
     "output_type": "execute_result"
    }
   ],
   "source": [
    "len(oracle_preds[oracle_preds != datasets[SUB].targets]) # check oracle preds mostly matches true labels (if oracle was trained on same dataset)"
   ]
  },
  {
   "cell_type": "code",
   "execution_count": 16,
   "id": "2e51dceb-0107-4646-9380-d3c3c6ad9a1b",
   "metadata": {},
   "outputs": [],
   "source": [
    "datasets[SUB].targets = oracle_preds # replace true labels with oracle's predictions"
   ]
  },
  {
   "cell_type": "code",
   "execution_count": 17,
   "id": "74f282ec-fb7f-41e4-a0fe-4fe5494dab4e",
   "metadata": {},
   "outputs": [],
   "source": [
    "train_size = 10000\n",
    "train = Subset(datasets[SUB], range(train_size))\n",
    "val = Subset(datasets[SUB], range(train_size, train_size*2)) # val split same size as train split\n",
    "load_or_train(sub, sub_checkpoint, train_split=train, val_split=val, epochs=30)"
   ]
  },
  {
   "cell_type": "code",
   "execution_count": 18,
   "id": "42ddca46-5f9b-4456-afbb-a825748f4786",
   "metadata": {},
   "outputs": [
    {
     "data": {
      "text/plain": [
       "'\\nStep 3\\nGenerate attack data for the substitute model and test both models with it\\n'"
      ]
     },
     "execution_count": 18,
     "metadata": {},
     "output_type": "execute_result"
    }
   ],
   "source": [
    "\"\"\"\n",
    "Step 3\n",
    "Generate attack data for the substitute model and test both models with it\n",
    "\"\"\""
   ]
  },
  {
   "cell_type": "code",
   "execution_count": 19,
   "id": "7f01ac1b-1aec-4121-b1d4-39c7788043de",
   "metadata": {},
   "outputs": [],
   "source": [
    "target = oracle\n",
    "criterion = nn.CrossEntropyLoss()\n",
    "models = [oracle, sub]"
   ]
  },
  {
   "cell_type": "code",
   "execution_count": 20,
   "id": "b302e607-115f-42d9-b4bf-011b997f6cef",
   "metadata": {},
   "outputs": [
    {
     "data": {
      "text/plain": [
       "[Dataset CIFAR10\n",
       "     Number of datapoints: 10000\n",
       "     Root location: ./data\n",
       "     Split: Test\n",
       "     StandardTransform\n",
       " Transform: Compose(\n",
       "                ToTensor()\n",
       "            ),\n",
       " Dataset CIFAR10\n",
       "     Number of datapoints: 10000\n",
       "     Root location: ./data\n",
       "     Split: Test\n",
       "     StandardTransform\n",
       " Transform: Compose(\n",
       "                ToTensor()\n",
       "            )]"
      ]
     },
     "execution_count": 20,
     "metadata": {},
     "output_type": "execute_result"
    }
   ],
   "source": [
    "test_datasets"
   ]
  },
  {
   "cell_type": "code",
   "execution_count": 21,
   "id": "8f9eef07-8bd1-437f-b78d-af44471b76c7",
   "metadata": {},
   "outputs": [
    {
     "name": "stdout",
     "output_type": "stream",
     "text": [
      "oracle\n",
      "oracle Regular Test Accuracy is 0.7721999883651733\n",
      "oracle Regular Test Loss is 0.7499974966049194\n",
      "sub\n",
      "sub Regular Test Accuracy is 0.2856000065803528\n",
      "sub Regular Test Loss is 2.1041390895843506\n"
     ]
    }
   ],
   "source": [
    "\"\"\"Regular Test\"\"\"\n",
    "# test_set = torchvision.datasets.MNIST(root=DATA_DIR, train=False, download=True, \n",
    "#                                       transform=transforms.ToTensor())\n",
    "test_set = test_datasets[ORACLE] # since the substitute tries to mimic the oracle, we may as well test on the oracle's test set\n",
    "for model, name in zip(models, MODEL_NAMES):\n",
    "    print(name)\n",
    "    test_loader = torch.utils.data.DataLoader(test_set, batch_size=100, shuffle=False, num_workers=0)\n",
    "\n",
    "    test_accuracy, _, test_loss = validate(None, test_loader, model, criterion)\n",
    "\n",
    "    print(f\"{name} Regular Test Accuracy is {test_accuracy}\")\n",
    "    print(f\"{name} Regular Test Loss is {test_loss}\")"
   ]
  },
  {
   "cell_type": "code",
   "execution_count": 22,
   "id": "697795cf-818f-469c-8174-3b87234f943f",
   "metadata": {},
   "outputs": [
    {
     "name": "stdout",
     "output_type": "stream",
     "text": [
      "oracle\n",
      "oracle Attack Test Accuracy is 0.5281000137329102\n",
      "oracle Attack Test Loss is 1.3595935106277466\n",
      "sub\n",
      "sub Attack Test Accuracy is 0.028999999165534973\n",
      "sub Attack Test Loss is 2.677502155303955\n",
      "Wall time: 55.7 s\n"
     ]
    }
   ],
   "source": [
    "%%time\n",
    "\"\"\"Attack Test\"\"\"\n",
    "test_set = test_datasets[ORACLE] # since the substitute tries to mimic the oracle, we may as well test on the oracle's test set\n",
    "attack_test_set = FastSignGradientAttackDataSet(test_set, sub, criterion, epsilon=0.1)\n",
    "\n",
    "for model, name in zip(models, MODEL_NAMES):\n",
    "    print(name)\n",
    "    test_loader = torch.utils.data.DataLoader(attack_test_set, batch_size=100, shuffle=False, num_workers=0)\n",
    "\n",
    "    test_accuracy, _, test_loss = validate(None, test_loader, model, criterion)\n",
    "\n",
    "    print(f\"{name} Attack Test Accuracy is {test_accuracy}\")\n",
    "    print(f\"{name} Attack Test Loss is {test_loss}\")"
   ]
  },
  {
   "cell_type": "code",
   "execution_count": 23,
   "id": "ba884cfd-8429-4ffb-af30-9b07a0cb4f97",
   "metadata": {},
   "outputs": [
    {
     "data": {
      "image/png": "[encoded data removed]",
      "text/plain": [
       "<PIL.Image.Image image mode=RGB size=200x200 at 0x2109D9E7E20>"
      ]
     },
     "metadata": {},
     "output_type": "display_data"
    },
    {
     "name": "stdout",
     "output_type": "stream",
     "text": [
      "5\n",
      "tensor([[0.0199, 0.0436, 0.1074, 0.1736, 0.0480, 0.3805, 0.0529, 0.0832, 0.0386,\n",
      "         0.0522]], grad_fn=<SoftmaxBackward>)\n"
     ]
    },
    {
     "name": "stderr",
     "output_type": "stream",
     "text": [
      "C:\\Users\\bkest\\Documents\\OMSCS\\Deep_Learning\\project\\omscs-dl-final-project\\team36\\training.py:45: UserWarning: Implicit dimension choice for softmax has been deprecated. Change the call to include dim=X as an argument.\n",
      "  return nn.functional.softmax(out)\n"
     ]
    },
    {
     "data": {
      "image/png": "[encoded data removed]",
      "text/plain": [
       "<PIL.Image.Image image mode=RGB size=200x200 at 0x2109D9E7DC0>"
      ]
     },
     "metadata": {},
     "output_type": "display_data"
    },
    {
     "name": "stdout",
     "output_type": "stream",
     "text": [
      "5\n",
      "tensor([[0.0203, 0.0278, 0.1550, 0.1805, 0.1092, 0.2698, 0.0528, 0.0905, 0.0455,\n",
      "         0.0485]], grad_fn=<SoftmaxBackward>)\n",
      "True label 5\n"
     ]
    }
   ],
   "source": [
    "model = oracle\n",
    "index = 16\n",
    "# some clear images: 1=ship, 16=dog\n",
    "disp_width, disp_height = 200, 200\n",
    "\n",
    "input, _ = test_set[index]\n",
    "img = transforms.functional.to_pil_image(input)\n",
    "display(img.resize((disp_width, disp_height)))\n",
    "print(predict(model, input, soft=False))\n",
    "print(predict(model, input, soft=True))\n",
    "\n",
    "input, _ = attack_test_set[index]\n",
    "attack_img = transforms.functional.to_pil_image(input)\n",
    "display(attack_img.resize((disp_width, disp_height)))\n",
    "print(predict(model, input, soft=False))\n",
    "print(predict(model, input, soft=True))\n",
    "\n",
    "print('True label', test_set.targets[index])\n",
    "\n",
    "# input, _ = attack_test_set[index]\n",
    "# display(transforms.functional.to_pil_image(input))\n",
    "# print(predict(defense_model, input))\n",
    "\n",
    "# input, _ = attack_test_set[index]\n",
    "# display(transforms.functional.to_pil_image(input))\n",
    "# print(predict(fgsm_reg_defense_model, input))"
   ]
  },
  {
   "cell_type": "code",
   "execution_count": null,
   "id": "d46ca853-1ebe-4d5d-8845-d6f3c50a693d",
   "metadata": {},
   "outputs": [],
   "source": [
    "%%time\n",
    "batch = iter(test_loader).next()[0]\n",
    "J = jacobian(sub, batch)"
   ]
  },
  {
   "cell_type": "code",
   "execution_count": null,
   "id": "69ba46b6-245b-4f17-a474-7c9608468306",
   "metadata": {},
   "outputs": [],
   "source": [
    "%%time\n",
    "batch = iter(test_loader).next()[0]\n",
    "J = jacobian(sub, batch[0].unsqueeze(0))"
   ]
  },
  {
   "cell_type": "code",
   "execution_count": null,
   "id": "b99317b2-7324-43b8-8fc0-84d098e60a06",
   "metadata": {},
   "outputs": [],
   "source": [
    "J.squeeze().shape"
   ]
  },
  {
   "cell_type": "code",
   "execution_count": null,
   "id": "9990fdec-4c92-4470-ace0-0e2b1f96bf53",
   "metadata": {},
   "outputs": [],
   "source": [
    "batch.shape"
   ]
  },
  {
   "cell_type": "code",
   "execution_count": null,
   "id": "087a756a-9e1a-4740-833f-fa7e9d706fea",
   "metadata": {},
   "outputs": [],
   "source": [
    "J[0].shape"
   ]
  },
  {
   "cell_type": "code",
   "execution_count": null,
   "id": "5c40576d-afac-4140-a4c6-383e8d780096",
   "metadata": {},
   "outputs": [],
   "source": [
    "J[0][0].shape"
   ]
  },
  {
   "cell_type": "code",
   "execution_count": null,
   "id": "bc014d3c-7a0d-4823-a5ac-a1e07638334b",
   "metadata": {},
   "outputs": [],
   "source": [
    "iter(test_loader).next()[0].shape"
   ]
  },
  {
   "cell_type": "code",
   "execution_count": null,
   "id": "c8c83bae-d29e-4361-947f-13b75605e362",
   "metadata": {},
   "outputs": [],
   "source": [
    "iter(test_loader).next()[0][0].shape"
   ]
  },
  {
   "cell_type": "code",
   "execution_count": null,
   "id": "5e56ace2-0232-4f44-ad0d-8eef43d39394",
   "metadata": {},
   "outputs": [],
   "source": [
    "(iter(test_loader).next()[0] + J).shape"
   ]
  },
  {
   "cell_type": "code",
   "execution_count": null,
   "id": "4f7b473f-c6d1-417f-af2a-f676c8eaa028",
   "metadata": {},
   "outputs": [],
   "source": [
    "batch = iter(test_loader).next()[0]\n",
    "sub(batch).shape"
   ]
  },
  {
   "cell_type": "code",
   "execution_count": null,
   "id": "f2ac1c26-5dd5-45b5-abd3-c41f727c2867",
   "metadata": {},
   "outputs": [],
   "source": [
    "modified_batch = batch + J\n",
    "sub(modified_batch).shape"
   ]
  },
  {
   "cell_type": "code",
   "execution_count": null,
   "id": "20e15085-0a01-4a37-b6f7-a364748b8326",
   "metadata": {},
   "outputs": [],
   "source": [
    "(batch + J).shape"
   ]
  },
  {
   "cell_type": "code",
   "execution_count": null,
   "id": "6ec13bf9-82e8-46cd-b4d2-c26ee1fd77f1",
   "metadata": {},
   "outputs": [],
   "source": [
    "(J + batch).shape"
   ]
  },
  {
   "cell_type": "code",
   "execution_count": null,
   "id": "e7eb6368-c598-47b3-9045-21d23d95fc25",
   "metadata": {},
   "outputs": [],
   "source": [
    "torch.squeeze(J + batch).shape"
   ]
  }
 ],
 "metadata": {
  "kernelspec": {
   "display_name": "cs7643-final-project-cpu",
   "language": "python",
   "name": "cs7643-final-project-cpu"
  },
  "language_info": {
   "codemirror_mode": {
    "name": "ipython",
    "version": 3
   },
   "file_extension": ".py",
   "mimetype": "text/x-python",
   "name": "python",
   "nbconvert_exporter": "python",
   "pygments_lexer": "ipython3",
   "version": "3.9.4"
  }
 },
 "nbformat": 4,
 "nbformat_minor": 5
}
