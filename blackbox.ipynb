{
 "cells": [
  {
   "cell_type": "code",
   "execution_count": 48,
   "id": "924bc271-165a-4d74-8f7d-8434ad9991d8",
   "metadata": {},
   "outputs": [],
   "source": [
    "%load_ext autoreload\n",
    "%autoreload 2"
   ]
  },
  {
   "cell_type": "code",
   "execution_count": null,
   "id": "d012a5ea-5e24-4d61-9eee-af0c7e928d16",
   "metadata": {},
   "outputs": [],
   "source": [
    "\"\"\"\n",
    "Blackbox Attack\n",
    "\n",
    "The way the blackbox attack works is as follows:\n",
    "Since we do not know details about the model we are attacking, we train a \"substitute model\" to approximate the \"target model\".\n",
    "This is done using a small sample of training data, labeled by the target model instead of using the ground-truth labels. \n",
    "In addition, we augment this training data using \"Jacobian-based data augmentation\" (TODO)\n",
    "Finally, we use one of the regular attacks on the substitute model. Supposedly, an attack that works well against the substitute\n",
    "will also work well against the target. \n",
    "\"\"\""
   ]
  },
  {
   "cell_type": "code",
   "execution_count": 49,
   "id": "62f478a7-7dd8-4d49-a5ca-c213a8ca572e",
   "metadata": {},
   "outputs": [],
   "source": [
    "import os.path\n",
    "import matplotlib.pyplot as plt\n",
    "from IPython.display import Image \n",
    "import torch\n",
    "import torch.nn as nn\n",
    "import torchvision\n",
    "import torchvision.transforms as transforms\n",
    "from torch.utils.data import Subset\n",
    "\n",
    "import team36\n",
    "from team36.mnist.data_loading import MNIST_Loader\n",
    "from team36.mnist.vgg import VGG\n",
    "from team36.mnist.cnn import CNN\n",
    "from team36.attacks.fast_gradient_attack_data_set import FastSignGradientAttackDataSet\n",
    "from team36.training import train, validate, accuracy, predict, predict_from_loader, do_training, load_or_train\n",
    "\n",
    "DIR = '.'\n",
    "DATA_DIR = f'{DIR}/data'"
   ]
  },
  {
   "cell_type": "code",
   "execution_count": null,
   "id": "557589a6-1c27-4fe2-aa10-dc4e790cd4e8",
   "metadata": {},
   "outputs": [],
   "source": [
    "\"\"\"\n",
    "Step 1\n",
    "Train the target model (aka the Oracle) on a large portion of the training data, or load a checkpoint\n",
    "\"\"\""
   ]
  },
  {
   "cell_type": "code",
   "execution_count": 2,
   "id": "4420edfe-9701-4c4b-b328-3989d9f4432c",
   "metadata": {},
   "outputs": [
    {
     "name": "stderr",
     "output_type": "stream",
     "text": [
      "C:\\Users\\bkest\\miniconda3\\envs\\cs7643-final-project-cpu\\lib\\site-packages\\torchvision\\datasets\\mnist.py:498: UserWarning: The given NumPy array is not writeable, and PyTorch does not support non-writeable tensors. This means you can write to the underlying (supposedly non-writeable) NumPy array using the tensor. You may want to copy the array to protect its data or make it writeable before converting it to a tensor. This type of warning will be suppressed for the rest of this program. (Triggered internally at  ..\\torch\\csrc\\utils\\tensor_numpy.cpp:180.)\n",
      "  return torch.from_numpy(parsed.astype(m[2], copy=False)).view(*s)\n"
     ]
    }
   ],
   "source": [
    "mnist_loader = MNIST_Loader(DIR, DATA_DIR)"
   ]
  },
  {
   "cell_type": "code",
   "execution_count": 3,
   "id": "e8988865-ab3e-46b5-a23c-b4e20a2231ae",
   "metadata": {},
   "outputs": [],
   "source": [
    "data = torchvision.datasets.MNIST(root=DATA_DIR, train=True, download=True, \n",
    "                                          transform=transforms.ToTensor())"
   ]
  },
  {
   "cell_type": "code",
   "execution_count": 4,
   "id": "54a8a768-bb15-4d79-9677-4667566a2df7",
   "metadata": {},
   "outputs": [],
   "source": [
    "oracle = VGG() # set the target model here\n",
    "oracle_checkpoint = 'mnist-vgg.pth'\n",
    "EPOCHS = 2\n",
    "load_or_train(oracle, oracle_checkpoint, epochs=2)\n",
    "# if os.path.exists(oracle_checkpoint_path): # if trained checkpoint exists, load it\n",
    "#     state_dict = torch.load(f\"{DIR}/checkpoints/{checkpoint}\", map_location=torch.device('cpu'))\n",
    "#     model.load_state_dict(state_dict)\n",
    "# else: # else, train the model\n",
    "#     oracle_train_split, oracle_val_split = mnist_loader.train_val_split()\n",
    "#     print(f\"{len(oracle_train_split)} in training set\")\n",
    "#     print(f\"{len(oracle_val_split)} in validation set\")\n",
    "#     do_training(oracle, training_split=oracle_train_split, validation_split=oracle_val_split, epochs=EPOCHS)"
   ]
  },
  {
   "cell_type": "code",
   "execution_count": null,
   "id": "9b1f30d2-c77d-4b06-91d8-4d8e624bfb03",
   "metadata": {},
   "outputs": [],
   "source": [
    "\"\"\"\n",
    "Step 2\n",
    "Train the substitute model on a small portion of the training data, using the oracle's predictions as the labels\n",
    "\n",
    "oracle pred full mnist\n",
    "replace targets\n",
    "train val split (small train)\n",
    "\"\"\""
   ]
  },
  {
   "cell_type": "code",
   "execution_count": 84,
   "id": "7b9a9e09-4881-43de-b0ec-fe6ff1b8ff53",
   "metadata": {},
   "outputs": [],
   "source": [
    "substitute = CNN()\n",
    "substitute_checkpoint = 'substitute.pth'"
   ]
  },
  {
   "cell_type": "code",
   "execution_count": 70,
   "id": "4225531d-0182-438f-bdbe-cc3eef309f89",
   "metadata": {},
   "outputs": [],
   "source": [
    "loader = torch.utils.data.DataLoader(data, batch_size=100, shuffle=False, num_workers=2)"
   ]
  },
  {
   "cell_type": "code",
   "execution_count": 71,
   "id": "f52fece1-9a25-4957-a734-a03affe7e7ef",
   "metadata": {},
   "outputs": [
    {
     "name": "stdout",
     "output_type": "stream",
     "text": [
      "Wall time: 1min 15s\n"
     ]
    }
   ],
   "source": [
    "%%time\n",
    "oracle_preds = predict_from_loader(oracle, loader)"
   ]
  },
  {
   "cell_type": "code",
   "execution_count": 72,
   "id": "54401f17-407a-46cb-ba1a-7d6759d023c6",
   "metadata": {},
   "outputs": [],
   "source": [
    "oracle_preds = oracle_preds.argmax(axis=1)"
   ]
  },
  {
   "cell_type": "code",
   "execution_count": 73,
   "id": "18728701-7b1e-4c1e-b27d-bbb66748cc27",
   "metadata": {},
   "outputs": [
    {
     "data": {
      "text/plain": [
       "torch.Size([60000])"
      ]
     },
     "execution_count": 73,
     "metadata": {},
     "output_type": "execute_result"
    }
   ],
   "source": [
    "oracle_preds.shape"
   ]
  },
  {
   "cell_type": "code",
   "execution_count": 79,
   "id": "ffd89050-b754-4560-8baf-9d4e1f2c11f3",
   "metadata": {},
   "outputs": [
    {
     "data": {
      "text/plain": [
       "0"
      ]
     },
     "execution_count": 79,
     "metadata": {},
     "output_type": "execute_result"
    }
   ],
   "source": [
    "len(oracle_preds[oracle_preds != data.targets]) # check oracle preds mostly matches true labels"
   ]
  },
  {
   "cell_type": "code",
   "execution_count": 78,
   "id": "2e51dceb-0107-4646-9380-d3c3c6ad9a1b",
   "metadata": {},
   "outputs": [],
   "source": [
    "data.targets = oracle_preds"
   ]
  },
  {
   "cell_type": "code",
   "execution_count": 92,
   "id": "74f282ec-fb7f-41e4-a0fe-4fe5494dab4e",
   "metadata": {},
   "outputs": [
    {
     "name": "stdout",
     "output_type": "stream",
     "text": [
      "54000 in training set\n",
      "6000 in validation set\n",
      "Epoch: [0][0/8]\tLoss 1.9538 (1.9538)\tPrec @1 0.4609 (0.4609)\t\n",
      "Epoch 0 | Training accuracy: 0.5099999904632568% | Validation accuracy: 0.492000013589859%\n",
      "Epoch: [1][0/8]\tLoss 1.8764 (1.8764)\tPrec @1 0.5859 (0.5859)\t\n",
      "Epoch 1 | Training accuracy: 0.5329999923706055% | Validation accuracy: 0.5146666765213013%\n",
      "Epoch: [2][0/8]\tLoss 1.8969 (1.8969)\tPrec @1 0.5469 (0.5469)\t\n",
      "Epoch 2 | Training accuracy: 0.5230000019073486% | Validation accuracy: 0.5433333516120911%\n",
      "Epoch: [3][0/8]\tLoss 1.8732 (1.8732)\tPrec @1 0.5547 (0.5547)\t\n",
      "Epoch 3 | Training accuracy: 0.578000009059906% | Validation accuracy: 0.5805000066757202%\n",
      "Epoch: [4][0/8]\tLoss 1.7956 (1.7956)\tPrec @1 0.6562 (0.6562)\t\n",
      "Epoch 4 | Training accuracy: 0.5929999947547913% | Validation accuracy: 0.5986666679382324%\n",
      "Epoch: [5][0/8]\tLoss 1.7933 (1.7933)\tPrec @1 0.6484 (0.6484)\t\n",
      "Epoch 5 | Training accuracy: 0.6050000190734863% | Validation accuracy: 0.6086666584014893%\n",
      "Epoch: [6][0/8]\tLoss 1.7367 (1.7367)\tPrec @1 0.6797 (0.6797)\t\n",
      "Epoch 6 | Training accuracy: 0.640999972820282% | Validation accuracy: 0.6140000224113464%\n",
      "Epoch: [7][0/8]\tLoss 1.8016 (1.8016)\tPrec @1 0.5781 (0.5781)\t\n",
      "Epoch 7 | Training accuracy: 0.6169999837875366% | Validation accuracy: 0.6316666603088379%\n",
      "Epoch: [8][0/8]\tLoss 1.6945 (1.6945)\tPrec @1 0.6328 (0.6328)\t\n",
      "Epoch 8 | Training accuracy: 0.6200000047683716% | Validation accuracy: 0.6538333296775818%\n",
      "Epoch: [9][0/8]\tLoss 1.7502 (1.7502)\tPrec @1 0.6484 (0.6484)\t\n",
      "Epoch 9 | Training accuracy: 0.6539999842643738% | Validation accuracy: 0.6746666431427002%\n"
     ]
    },
    {
     "data": {
      "image/png": "[encoded data removed]",
      "text/plain": [
       "<Figure size 432x288 with 1 Axes>"
      ]
     },
     "metadata": {
      "needs_background": "light"
     },
     "output_type": "display_data"
    },
    {
     "data": {
      "image/png": "[encoded data removed]",
      "text/plain": [
       "<Figure size 432x288 with 1 Axes>"
      ]
     },
     "metadata": {
      "needs_background": "light"
     },
     "output_type": "display_data"
    },
    {
     "name": "stdout",
     "output_type": "stream",
     "text": [
      "Best Validation Acccuracy: 0.6747\n"
     ]
    }
   ],
   "source": [
    "load_or_train(substitute, substitute_checkpoint, dataset=data, epochs=10)"
   ]
  },
  {
   "cell_type": "code",
   "execution_count": null,
   "id": "42ddca46-5f9b-4456-afbb-a825748f4786",
   "metadata": {},
   "outputs": [],
   "source": [
    "\"\"\"\n",
    "Step 3\n",
    "Generate attack data for the substitute model\n",
    "\"\"\""
   ]
  },
  {
   "cell_type": "code",
   "execution_count": null,
   "id": "ba884cfd-8429-4ffb-af30-9b07a0cb4f97",
   "metadata": {},
   "outputs": [],
   "source": [
    "\"\"\"\n",
    "Step 4\n",
    "Test the target model against the above attack data\n",
    "\"\"\""
   ]
  },
  {
   "cell_type": "code",
   "execution_count": null,
   "id": "0aa12b12-ab6a-4c47-8efb-30aaa22a5877",
   "metadata": {},
   "outputs": [],
   "source": []
  }
 ],
 "metadata": {
  "kernelspec": {
   "display_name": "cs7643-final-project-cpu",
   "language": "python",
   "name": "cs7643-final-project-cpu"
  },
  "language_info": {
   "codemirror_mode": {
    "name": "ipython",
    "version": 3
   },
   "file_extension": ".py",
   "mimetype": "text/x-python",
   "name": "python",
   "nbconvert_exporter": "python",
   "pygments_lexer": "ipython3",
   "version": "3.9.4"
  }
 },
 "nbformat": 4,
 "nbformat_minor": 5
}
