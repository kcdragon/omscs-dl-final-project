{
 "cells": [
  {
   "cell_type": "code",
   "execution_count": 1,
   "id": "924bc271-165a-4d74-8f7d-8434ad9991d8",
   "metadata": {},
   "outputs": [],
   "source": [
    "%load_ext autoreload\n",
    "%autoreload 2"
   ]
  },
  {
   "cell_type": "code",
   "execution_count": null,
   "id": "d012a5ea-5e24-4d61-9eee-af0c7e928d16",
   "metadata": {},
   "outputs": [],
   "source": [
    "\"\"\"\n",
    "Blackbox Attack\n",
    "\n",
    "The blackbox attack works as follows:\n",
    "Since we do not know details about the model we are attacking, we train a \"substitute model\" to approximate the \"target model\".\n",
    "This is done using a small sample of training data, labeled by the target model (aka the oracle) instead of using the true labels. \n",
    "This way, the substitute learns to mimic the target model.\n",
    "In addition, we augment this training data using \"Jacobian-based data augmentation\" (TODO)\n",
    "Finally, we use one of the regular attacks on the substitute model. Supposedly, an attack that works well against the substitute\n",
    "will also work well against the target. \n",
    "\"\"\""
   ]
  },
  {
   "cell_type": "code",
   "execution_count": 2,
   "id": "62f478a7-7dd8-4d49-a5ca-c213a8ca572e",
   "metadata": {},
   "outputs": [],
   "source": [
    "import os.path\n",
    "import matplotlib.pyplot as plt\n",
    "from IPython.display import Image \n",
    "import torch\n",
    "import torch.nn as nn\n",
    "import torchvision\n",
    "import torchvision.transforms as transforms\n",
    "from torch.utils.data import Subset\n",
    "from torch.autograd.functional import jacobian\n",
    "from torch.autograd import grad\n",
    "from sklearn.model_selection import train_test_split\n",
    "\n",
    "import team36\n",
    "from team36.mnist.data_loading import MNIST_Loader\n",
    "from team36.mnist.vgg import VGG\n",
    "from team36.mnist.cnn import CNN\n",
    "from team36.attacks.fast_gradient_attack_data_set import FastSignGradientAttackDataSet\n",
    "from team36.training import train, validate, accuracy, predict, predict_from_loader, do_training, load_or_train, train_val_split, train_batch\n",
    "\n",
    "DIR = '.'\n",
    "DATA_DIR = f'{DIR}/data'"
   ]
  },
  {
   "cell_type": "code",
   "execution_count": null,
   "id": "557589a6-1c27-4fe2-aa10-dc4e790cd4e8",
   "metadata": {},
   "outputs": [],
   "source": [
    "\"\"\"\n",
    "Step 1\n",
    "Train the target model (aka the Oracle) or load from a checkpoint\n",
    "\"\"\""
   ]
  },
  {
   "cell_type": "code",
   "execution_count": 3,
   "id": "e8988865-ab3e-46b5-a23c-b4e20a2231ae",
   "metadata": {},
   "outputs": [
    {
     "name": "stderr",
     "output_type": "stream",
     "text": [
      "C:\\Users\\bkest\\miniconda3\\envs\\cs7643-final-project-cpu\\lib\\site-packages\\torchvision\\datasets\\mnist.py:498: UserWarning: The given NumPy array is not writeable, and PyTorch does not support non-writeable tensors. This means you can write to the underlying (supposedly non-writeable) NumPy array using the tensor. You may want to copy the array to protect its data or make it writeable before converting it to a tensor. This type of warning will be suppressed for the rest of this program. (Triggered internally at  ..\\torch\\csrc\\utils\\tensor_numpy.cpp:180.)\n",
      "  return torch.from_numpy(parsed.astype(m[2], copy=False)).view(*s)\n"
     ]
    },
    {
     "data": {
      "text/plain": [
       "[Dataset MNIST\n",
       "     Number of datapoints: 60000\n",
       "     Root location: ./data\n",
       "     Split: Train\n",
       "     StandardTransform\n",
       " Transform: Compose(\n",
       "                ToTensor()\n",
       "            ),\n",
       " Dataset MNIST\n",
       "     Number of datapoints: 60000\n",
       "     Root location: ./data\n",
       "     Split: Train\n",
       "     StandardTransform\n",
       " Transform: Compose(\n",
       "                ToTensor()\n",
       "            )]"
      ]
     },
     "execution_count": 3,
     "metadata": {},
     "output_type": "execute_result"
    }
   ],
   "source": [
    "\"\"\"\n",
    "Set up the datasets\n",
    "It is interesting to compare using the same dataset for the substitute and oracle vs. using different datasets\n",
    "\"\"\"\n",
    "ORACLE_DATASET = 'MNIST' # 'MNIST' or 'CIFAR10'\n",
    "SUB_DATASET = 'MNIST' \n",
    "DATASET_NAMES = [ORACLE_DATASET, SUB_DATASET]\n",
    "MODEL_NAMES = ['oracle', 'sub']\n",
    "ORACLE = 0\n",
    "SUB = 1\n",
    "datasets = [] # two-element list to store the oracle dataset and the substitute dataset\n",
    "dataset_image_sizes = []\n",
    "dataset_channels = []\n",
    "test_datasets = []\n",
    "\n",
    "# class Grayscale_to_RGB(object):\n",
    "#     def __call__(self, sample):\n",
    "#         print(sample)\n",
    "#         return sample\n",
    "\n",
    "# def grayscale_to_rgb(sample):\n",
    "#     print(sample)\n",
    "#     return sample\n",
    "# #     return sample.repeat(1, 3, 1, 1)\n",
    "\n",
    "for idx, dataset_name in enumerate(DATASET_NAMES):\n",
    "    transform_seq = [transforms.ToTensor()]\n",
    "    if dataset_name == 'MNIST':\n",
    "        image_size = 28\n",
    "        in_channels = 1\n",
    "        if idx == SUB and ORACLE_DATASET != 'MNIST': # if substitute uses mnist, but oracle uses other dataset add padding to match image size\n",
    "            padding = (dataset_image_sizes[ORACLE] - image_size) // 2\n",
    "            transform_seq.append(transforms.Pad(padding, fill=0))\n",
    "            image_size += padding * 2\n",
    "#             transform_seq.append(transforms.Lambda(lambda x: x))\n",
    "            transform_seq.append(transforms.Lambda(lambda x: x.repeat(3, 1, 1)))\n",
    "            in_channels = 3 # also need to copy to 3 channels to match rgb cifar\n",
    "            # NOTE: above assumes oracle_dataset has larger images and that there is an even number difference in the image sizes\n",
    "        dataset = torchvision.datasets.MNIST(root=DATA_DIR, train=True, download=True, \n",
    "                                              transform=transforms.Compose(transform_seq))\n",
    "        test_dataset = torchvision.datasets.MNIST(root=DATA_DIR, train=False, download=True, \n",
    "                                              transform=transforms.Compose(transform_seq))\n",
    "#         if idx == SUB and ORACLE_DATASET != 'MNIST':\n",
    "#             # also need to copy to image to 3 channels to match rgb cifar\n",
    "# #             transform_seq.append(grayscale_to_rgb) # copy single channel to 3 channels (from https://discuss.pytorch.org/t/grayscale-to-rgb-transform/18315)\n",
    "#             dataset.data = dataset.data.unsqueeze(1).repeat(1, 3, 1, 1)            \n",
    "#             in_channels = 3\n",
    "    elif dataset_name == 'CIFAR10':\n",
    "        image_size = 32\n",
    "        in_channels = 3\n",
    "        dataset = torchvision.datasets.CIFAR10(root=DATA_DIR, train=True, download=True,\n",
    "                                                transform=transforms.Compose(transform_seq))\n",
    "        test_dataset = torchvision.datasets.CIFAR10(root=DATA_DIR, train=False, download=True, \n",
    "                                              transform=transforms.Compose(transform_seq))\n",
    "    datasets.append(dataset)\n",
    "    dataset_image_sizes.append(image_size)\n",
    "    dataset_channels.append(in_channels)\n",
    "    test_datasets.append(test_dataset)\n",
    "\n",
    "datasets"
   ]
  },
  {
   "cell_type": "code",
   "execution_count": 4,
   "id": "54a8a768-bb15-4d79-9677-4667566a2df7",
   "metadata": {},
   "outputs": [
    {
     "name": "stdout",
     "output_type": "stream",
     "text": [
      "Wall time: 33.9 ms\n"
     ]
    }
   ],
   "source": [
    "%%time\n",
    "image_size = dataset_image_sizes[ORACLE]\n",
    "in_channels = dataset_channels[ORACLE]\n",
    "oracle = VGG(image_size=image_size, in_channels=in_channels) # set the target model here\n",
    "oracle_checkpoint = f'{DATASET_NAMES[ORACLE]}-vgg.pth' # e.g. 'MNIST-vgg.pth'\n",
    "# oracle_checkpoint = 'mnist-vgg.pth'\n",
    "oracle_checkpoint = oracle_checkpoint.lower()\n",
    "\n",
    "learning_rate = 5e-4\n",
    "momentum = 5e-1\n",
    "# momentum = .9\n",
    "weight_decay = 1e-1\n",
    "batch_size = 32\n",
    "epochs = 10\n",
    "\n",
    "load_or_train(oracle, oracle_checkpoint, dataset=datasets[ORACLE], epochs=epochs, learning_rate=learning_rate, \n",
    "              weight_decay=weight_decay, momentum=momentum, batch_size=batch_size,\n",
    "             optim=torch.optim.SGD)\n",
    "# hyperparam tuning notes: \n",
    "# small learning rate is good for VGG on CIFAR (0.001 better than 0.01 and much better than 0.1)\n",
    "\n",
    "# if os.path.exists(oracle_checkpoint_path): # if trained checkpoint exists, load it\n",
    "#     state_dict = torch.load(f\"{DIR}/checkpoints/{checkpoint}\", map_location=torch.device('cpu'))\n",
    "#     model.load_state_dict(state_dict)\n",
    "# else: # else, train the model\n",
    "# training_indices, validation_indices, _, _ = train_test_split(\n",
    "#     range(len(target_data)),\n",
    "#     target_data.targets,\n",
    "#     stratify=target_data.targets,\n",
    "#     test_size=0.1,\n",
    "# )\n",
    "# oracle_train_split = torch.utils.data.Subset(target_data, training_indices)\n",
    "# oracle_val_split = torch.utils.data.Subset(target_data, validation_indices)\n",
    "# print(f\"{len(oracle_train_split)} in training set\")\n",
    "# print(f\"{len(oracle_val_split)} in validation set\")\n",
    "\n",
    "# do_training(oracle, training_split=oracle_train_split, validation_split=oracle_val_split, epochs=EPOCHS)"
   ]
  },
  {
   "cell_type": "code",
   "execution_count": null,
   "id": "9b1f30d2-c77d-4b06-91d8-4d8e624bfb03",
   "metadata": {},
   "outputs": [],
   "source": [
    "\"\"\"\n",
    "Step 2\n",
    "Train the substitute model on a small portion of the training data, using the oracle's predictions as the labels\n",
    "\n",
    "oracle pred full mnist\n",
    "replace targets\n",
    "train val split (small train)\n",
    "\"\"\""
   ]
  },
  {
   "cell_type": "code",
   "execution_count": 56,
   "id": "7b9a9e09-4881-43de-b0ec-fe6ff1b8ff53",
   "metadata": {},
   "outputs": [],
   "source": [
    "sub = CNN(image_size = dataset_image_sizes[SUB], in_channels = dataset_channels[SUB])\n",
    "sub_checkpoint = f'{DATASET_NAMES[SUB]}-substitute.pth' # e.g. 'MNIST-substitute.pth'"
   ]
  },
  {
   "cell_type": "code",
   "execution_count": 7,
   "id": "4225531d-0182-438f-bdbe-cc3eef309f89",
   "metadata": {},
   "outputs": [],
   "source": [
    "loader = torch.utils.data.DataLoader(datasets[SUB], batch_size=100, shuffle=False, num_workers=0)\n",
    "# NOTE: due to a bug with lambda transforms on Windows, num_workers needs to be 0 or there will be an error\n",
    "# https://github.com/belskikh/kekas/issues/26"
   ]
  },
  {
   "cell_type": "code",
   "execution_count": 8,
   "id": "aecbb988-e729-456f-9f7e-4e9f54770cb9",
   "metadata": {},
   "outputs": [
    {
     "data": {
      "text/plain": [
       "Dataset MNIST\n",
       "    Number of datapoints: 60000\n",
       "    Root location: ./data\n",
       "    Split: Train\n",
       "    StandardTransform\n",
       "Transform: Compose(\n",
       "               ToTensor()\n",
       "           )"
      ]
     },
     "execution_count": 8,
     "metadata": {},
     "output_type": "execute_result"
    }
   ],
   "source": [
    "datasets[SUB]"
   ]
  },
  {
   "cell_type": "code",
   "execution_count": null,
   "id": "cc9ef9ad-a7e7-4fa6-8f7b-bb94e76613fc",
   "metadata": {},
   "outputs": [],
   "source": [
    "# datasets[SUB].data.shape"
   ]
  },
  {
   "cell_type": "code",
   "execution_count": null,
   "id": "5d8e65fa-2ab1-44f5-ac0a-f077423a2776",
   "metadata": {},
   "outputs": [],
   "source": [
    "# for idx, (data, target) in enumerate(loader):\n",
    "#         if torch.cuda.is_available():\n",
    "#             data = data.cuda()\n",
    "#             target = target.cuda()\n",
    "#         print(data.shape)\n",
    "# #         print(data.repeat(1, 3, 1, 1).shape)\n",
    "#         print(target)\n",
    "#         if idx > 1: break"
   ]
  },
  {
   "cell_type": "code",
   "execution_count": 34,
   "id": "f52fece1-9a25-4957-a734-a03affe7e7ef",
   "metadata": {},
   "outputs": [
    {
     "name": "stdout",
     "output_type": "stream",
     "text": [
      "Wall time: 1min 27s\n"
     ]
    }
   ],
   "source": [
    "%%time\n",
    "oracle_preds = predict_from_loader(oracle, loader)"
   ]
  },
  {
   "cell_type": "code",
   "execution_count": 43,
   "id": "54401f17-407a-46cb-ba1a-7d6759d023c6",
   "metadata": {},
   "outputs": [],
   "source": [
    "oracle_preds = oracle_preds.argmax(axis=1)"
   ]
  },
  {
   "cell_type": "code",
   "execution_count": 45,
   "id": "ffd89050-b754-4560-8baf-9d4e1f2c11f3",
   "metadata": {},
   "outputs": [
    {
     "data": {
      "text/plain": [
       "0"
      ]
     },
     "execution_count": 45,
     "metadata": {},
     "output_type": "execute_result"
    }
   ],
   "source": [
    "len(oracle_preds[oracle_preds != datasets[SUB].targets]) # check oracle preds mostly matches true labels (if oracle was trained on same dataset)"
   ]
  },
  {
   "cell_type": "code",
   "execution_count": 44,
   "id": "2e51dceb-0107-4646-9380-d3c3c6ad9a1b",
   "metadata": {},
   "outputs": [],
   "source": [
    "datasets[SUB].targets = oracle_preds # replace true labels with oracle's predictions"
   ]
  },
  {
   "cell_type": "code",
   "execution_count": null,
   "id": "ce2efba5-15d2-4748-ad29-b7ac24381fbf",
   "metadata": {},
   "outputs": [],
   "source": [
    "train[1][0].shape"
   ]
  },
  {
   "cell_type": "code",
   "execution_count": null,
   "id": "c026dd5e-a83c-4944-a6ab-3e60fdd5436b",
   "metadata": {},
   "outputs": [],
   "source": []
  },
  {
   "cell_type": "code",
   "execution_count": null,
   "id": "31861533-48c4-42a2-8d5f-b7331f471c9b",
   "metadata": {},
   "outputs": [],
   "source": [
    "%%time\n",
    "# run either this cell (simple blackbox training) OR the next one (blackbox w/ jacobian-based data augmentation)\n",
    "epochs = 30\n",
    "train_size = 10000\n",
    "train = Subset(datasets[SUB], range(train_size))\n",
    "val = Subset(datasets[SUB], range(train_size, train_size*2)) # val split same size as train split\n",
    "load_or_train(sub, sub_checkpoint, train_split=train, val_split=val, epochs=epochs)"
   ]
  },
  {
   "cell_type": "code",
   "execution_count": 76,
   "id": "f6ad07cd-f7d2-4690-86ac-baaa7a303aab",
   "metadata": {},
   "outputs": [
    {
     "name": "stdout",
     "output_type": "stream",
     "text": [
      "epoch 0\n",
      "len X 150\n",
      "Epoch 0 | Training accuracy: 0.14000000059604645%\n",
      "Epoch 1 | Training accuracy: 0.2800000011920929%\n",
      "Epoch 2 | Training accuracy: 0.4466666579246521%\n",
      "Epoch 3 | Training accuracy: 0.6666666865348816%\n",
      "Epoch 4 | Training accuracy: 0.800000011920929%\n",
      "Epoch 5 | Training accuracy: 0.8600000143051147%\n",
      "Epoch 6 | Training accuracy: 0.8600000143051147%\n",
      "Epoch 7 | Training accuracy: 0.9133333563804626%\n",
      "Epoch 8 | Training accuracy: 0.9200000166893005%\n",
      "Epoch 9 | Training accuracy: 0.9200000166893005%\n",
      "Epoch 10 | Training accuracy: 0.9399999976158142%\n",
      "Epoch 11 | Training accuracy: 0.9399999976158142%\n",
      "Epoch 12 | Training accuracy: 0.9399999976158142%\n",
      "Epoch 13 | Training accuracy: 0.9733333587646484%\n",
      "Epoch 14 | Training accuracy: 0.9666666388511658%\n",
      "epoch 1\n",
      "len X 300\n",
      "Epoch 0 | Training accuracy: 0.09000000357627869%\n",
      "Epoch 1 | Training accuracy: 0.25999999046325684%\n",
      "Epoch 2 | Training accuracy: 0.4933333396911621%\n",
      "Epoch 3 | Training accuracy: 0.7633333206176758%\n",
      "Epoch 4 | Training accuracy: 0.753333330154419%\n",
      "Epoch 5 | Training accuracy: 0.8199999928474426%\n",
      "Epoch 6 | Training accuracy: 0.8700000047683716%\n",
      "Epoch 7 | Training accuracy: 0.8799999952316284%\n",
      "Epoch 8 | Training accuracy: 0.8999999761581421%\n",
      "Epoch 9 | Training accuracy: 0.9200000166893005%\n",
      "Epoch 10 | Training accuracy: 0.9200000166893005%\n",
      "Epoch 11 | Training accuracy: 0.9200000166893005%\n",
      "Epoch 12 | Training accuracy: 0.9300000071525574%\n",
      "Epoch 13 | Training accuracy: 0.9466666579246521%\n",
      "Epoch 14 | Training accuracy: 0.9566666483879089%\n",
      "epoch 2\n",
      "len X 600\n",
      "Epoch 0 | Training accuracy: 0.09833333641290665%\n",
      "Epoch 1 | Training accuracy: 0.2549999952316284%\n",
      "Epoch 2 | Training accuracy: 0.3616666793823242%\n",
      "Epoch 3 | Training accuracy: 0.5816666483879089%\n",
      "Epoch 4 | Training accuracy: 0.7616666555404663%\n",
      "Epoch 5 | Training accuracy: 0.8050000071525574%\n",
      "Epoch 6 | Training accuracy: 0.8050000071525574%\n",
      "Epoch 7 | Training accuracy: 0.8700000047683716%\n",
      "Epoch 8 | Training accuracy: 0.8933333158493042%\n",
      "Epoch 9 | Training accuracy: 0.8949999809265137%\n",
      "Epoch 10 | Training accuracy: 0.9116666913032532%\n",
      "Epoch 11 | Training accuracy: 0.9133333563804626%\n",
      "Epoch 12 | Training accuracy: 0.9183333516120911%\n",
      "Epoch 13 | Training accuracy: 0.9266666769981384%\n",
      "Epoch 14 | Training accuracy: 0.9316666722297668%\n",
      "epoch 3\n",
      "len X 1200\n",
      "Epoch 0 | Training accuracy: 0.14166666567325592%\n",
      "Epoch 1 | Training accuracy: 0.14666666090488434%\n",
      "Epoch 2 | Training accuracy: 0.4983333349227905%\n",
      "Epoch 3 | Training accuracy: 0.6833333373069763%\n",
      "Epoch 4 | Training accuracy: 0.7166666388511658%\n",
      "Epoch 5 | Training accuracy: 0.7608333230018616%\n",
      "Epoch 6 | Training accuracy: 0.8399999737739563%\n",
      "Epoch 7 | Training accuracy: 0.8708333373069763%\n",
      "Epoch 8 | Training accuracy: 0.871666669845581%\n",
      "Epoch 9 | Training accuracy: 0.8758333325386047%\n",
      "Epoch 10 | Training accuracy: 0.9058333039283752%\n",
      "Epoch 11 | Training accuracy: 0.9116666913032532%\n",
      "Epoch 12 | Training accuracy: 0.9125000238418579%\n",
      "Epoch 13 | Training accuracy: 0.9133333563804626%\n",
      "Epoch 14 | Training accuracy: 0.9200000166893005%\n",
      "epoch 4\n",
      "len X 2400\n",
      "Epoch 0 | Training accuracy: 0.0716666653752327%\n",
      "Epoch 1 | Training accuracy: 0.26249998807907104%\n",
      "Epoch 2 | Training accuracy: 0.31833332777023315%\n",
      "Epoch 3 | Training accuracy: 0.3929166793823242%\n",
      "Epoch 4 | Training accuracy: 0.5791666507720947%\n",
      "Epoch 5 | Training accuracy: 0.75%\n",
      "Epoch 6 | Training accuracy: 0.7983333468437195%\n",
      "Epoch 7 | Training accuracy: 0.7987499833106995%\n",
      "Epoch 8 | Training accuracy: 0.8087499737739563%\n",
      "Epoch 9 | Training accuracy: 0.8579166531562805%\n",
      "Epoch 10 | Training accuracy: 0.8737499713897705%\n",
      "Epoch 11 | Training accuracy: 0.8854166865348816%\n",
      "Epoch 12 | Training accuracy: 0.8895833492279053%\n",
      "Epoch 13 | Training accuracy: 0.8891666531562805%\n",
      "Epoch 14 | Training accuracy: 0.8929166793823242%\n",
      "epoch 5\n",
      "len X 4800\n",
      "Epoch 0 | Training accuracy: 0.052916668355464935%\n",
      "Epoch 1 | Training accuracy: 0.2318750023841858%\n",
      "Epoch 2 | Training accuracy: 0.5060416460037231%\n",
      "Epoch 3 | Training accuracy: 0.7416666746139526%\n",
      "Epoch 4 | Training accuracy: 0.7166666388511658%\n",
      "Epoch 5 | Training accuracy: 0.7325000166893005%\n",
      "Epoch 6 | Training accuracy: 0.8079166412353516%\n",
      "Epoch 7 | Training accuracy: 0.8214583396911621%\n",
      "Epoch 8 | Training accuracy: 0.8402083516120911%\n",
      "Epoch 9 | Training accuracy: 0.82833331823349%\n",
      "Epoch 10 | Training accuracy: 0.8402083516120911%\n",
      "Epoch 11 | Training accuracy: 0.8637499809265137%\n",
      "Epoch 12 | Training accuracy: 0.8725000023841858%\n",
      "Epoch 13 | Training accuracy: 0.87520831823349%\n",
      "Epoch 14 | Training accuracy: 0.8837500214576721%\n",
      "Wall time: 1min 53s\n"
     ]
    }
   ],
   "source": [
    "%%time\n",
    "# train with Jacobian-based data augmentation\n",
    "# here, training starts with a small sample from the training data\n",
    "# we train on this over some number of \"sub_epochs\"\n",
    "# then, we augment the data by adding the sign of the Jacobian times a constant (or just the Jacobian times a constant?)\n",
    "# repeat over some number of epochs\n",
    "epochs = 6\n",
    "sub_epochs = 15\n",
    "# train_size = 1000\n",
    "batch_size = 150\n",
    "step_size = 0.1\n",
    "learning_rate = 0.05\n",
    "momentum = 0.9\n",
    "# train = Subset(datasets[SUB], range(train_size))\n",
    "# val = Subset(datasets[SUB], range(train_size, train_size*2)) # val split same size as train split\n",
    "loader = torch.utils.data.DataLoader(test_datasets[SUB], batch_size=batch_size, shuffle=False, num_workers=0)\n",
    "batch_iter = iter(loader)\n",
    "X = batch_iter.next() # we just need one batch. result is: [[data], [targets]]\n",
    "for epoch in range(epochs):\n",
    "    sub = CNN(image_size = dataset_image_sizes[SUB], in_channels = dataset_channels[SUB]) # model is trained from scratch each time on the new augmented dataset\n",
    "    print('epoch', epoch)\n",
    "    print('len X', len(X[0]))\n",
    "#     train = Subset(datasets[SUB], range(epoch*batch_size, epoch*batch_size+batch_size))\n",
    "#     train = X\n",
    "#     print('training')\n",
    "    train_batch(X, sub, epochs=sub_epochs, learning_rate=learning_rate, momentum=momentum)\n",
    "#     print('done training')\n",
    "#     do_training(model, training_split=train, validation_split=train, epochs=sub_epochs) # train on batch \n",
    "    # generate the next batch using Jacobian data-augmentation\n",
    "#     print('augmentation')\n",
    "    X_size = len(X[0])\n",
    "    for i in range(X_size):\n",
    "        x = X[0][i] # X[0] gets data from batch, [i] gets the i'th data point\n",
    "        x = x.unsqueeze(0) # need to pass a batch to the Jacobian, so we make a one-element batch \n",
    "#         print('getting jacobian')\n",
    "        J = jacobian(sub, x)\n",
    "        J = J.squeeze(0).squeeze(1) # switch from batch Jacobian back to single\n",
    "#         print('getting label')\n",
    "        label = oracle_preds[epoch*batch_size + i]\n",
    "#         print('label', label)\n",
    "        J = J[label] # only need jacobian for the corresponding label\n",
    "#         print('got J for label')\n",
    "#         X[0][i] += J # modify the input using the Jacobian\n",
    "        J = torch.sign(J) # only want the sign of the Jacobian\n",
    "        # don't just modify the examples X; modify and concat with the original examples to get a larger training set\n",
    "#         print('modifying x')\n",
    "        new_x = X[0][i] + step_size * J\n",
    "        new_x = new_x.unsqueeze(0) # make into a batch so we can cat\n",
    "#         print('catting new x')\n",
    "        X[0] = torch.cat((X[0], new_x), 0)\n",
    "#         X[0][i] = X[0][i] + step_size * J \n",
    "#     print('making new preds')\n",
    "    new_preds = torch.argmax(oracle(X[0]), axis=1) # get predictions for augmented dataset\n",
    "#     new_preds = torch.argmax(oracle(X[0][epoch*batch_size:(epoch+1)*batch_size]), axis=1) # get predictions for the new batch\n",
    "#     new_preds = new_preds.unsqueeze(0)\n",
    "    X[1] = new_preds"
   ]
  },
  {
   "cell_type": "code",
   "execution_count": 13,
   "id": "9aa1b84e-b6b0-41fb-9861-4539a1855da2",
   "metadata": {},
   "outputs": [],
   "source": [
    "# loader = torch.utils.data.DataLoader(datasets[SUB], batch_size=batch_size, shuffle=False, num_workers=0)\n",
    "# batch_iter = iter(loader)\n",
    "# X = batch_iter.next() "
   ]
  },
  {
   "cell_type": "code",
   "execution_count": 25,
   "id": "cbd52828-0cd9-4884-af25-44c8a1c0a6ad",
   "metadata": {},
   "outputs": [
    {
     "data": {
      "text/plain": [
       "tensor([5, 0, 4, 1, 9, 2, 1, 3, 1, 4, 3, 5, 3, 6, 1, 7, 2, 8, 6, 9, 4, 0, 9, 1,\n",
       "        1, 2, 4, 3, 2, 7, 3, 8])"
      ]
     },
     "execution_count": 25,
     "metadata": {},
     "output_type": "execute_result"
    }
   ],
   "source": [
    "# torch.argmax(oracle(X[0]), axis=1)"
   ]
  },
  {
   "cell_type": "code",
   "execution_count": 52,
   "id": "7f237f9b-9cc5-4075-aa71-4b5ae48b6ac4",
   "metadata": {},
   "outputs": [
    {
     "data": {
      "text/plain": [
       "tensor([[ 9.4169, -4.7919,  2.0163,  0.0857, -3.7622, -1.2417,  1.3576, -1.5906,\n",
       "          0.9843,  0.5568],\n",
       "        [-3.8718, -1.2136,  0.5668,  0.5602,  6.8551, -1.6826, -1.3260,  0.2603,\n",
       "         -0.6687,  2.3064]], grad_fn=<AddmmBackward>)"
      ]
     },
     "execution_count": 52,
     "metadata": {},
     "output_type": "execute_result"
    }
   ],
   "source": [
    "oracle(X[0][1:3])"
   ]
  },
  {
   "cell_type": "code",
   "execution_count": null,
   "id": "f6c5ff75-13e4-4170-bd9e-b6d7da00fd68",
   "metadata": {},
   "outputs": [],
   "source": [
    "# batch_iter = iter(loader)\n",
    "# X = batch_iter.next() "
   ]
  },
  {
   "cell_type": "code",
   "execution_count": null,
   "id": "42ddca46-5f9b-4456-afbb-a825748f4786",
   "metadata": {},
   "outputs": [],
   "source": [
    "\"\"\"\n",
    "Step 3\n",
    "Generate attack data for the substitute model and test both models with it\n",
    "\"\"\""
   ]
  },
  {
   "cell_type": "code",
   "execution_count": 27,
   "id": "7f01ac1b-1aec-4121-b1d4-39c7788043de",
   "metadata": {},
   "outputs": [],
   "source": [
    "target = oracle\n",
    "criterion = nn.CrossEntropyLoss()\n",
    "models = [oracle]\n",
    "# models = [oracle, sub]"
   ]
  },
  {
   "cell_type": "code",
   "execution_count": 28,
   "id": "b302e607-115f-42d9-b4bf-011b997f6cef",
   "metadata": {},
   "outputs": [
    {
     "data": {
      "text/plain": [
       "[Dataset MNIST\n",
       "     Number of datapoints: 10000\n",
       "     Root location: ./data\n",
       "     Split: Test\n",
       "     StandardTransform\n",
       " Transform: Compose(\n",
       "                ToTensor()\n",
       "            ),\n",
       " Dataset MNIST\n",
       "     Number of datapoints: 10000\n",
       "     Root location: ./data\n",
       "     Split: Test\n",
       "     StandardTransform\n",
       " Transform: Compose(\n",
       "                ToTensor()\n",
       "            )]"
      ]
     },
     "execution_count": 28,
     "metadata": {},
     "output_type": "execute_result"
    }
   ],
   "source": [
    "test_datasets"
   ]
  },
  {
   "cell_type": "code",
   "execution_count": 29,
   "id": "8f9eef07-8bd1-437f-b78d-af44471b76c7",
   "metadata": {},
   "outputs": [
    {
     "name": "stdout",
     "output_type": "stream",
     "text": [
      "oracle\n",
      "oracle Regular Test Accuracy is 0.9839000105857849\n",
      "oracle Regular Test Loss is 0.063465915620327\n"
     ]
    }
   ],
   "source": [
    "\"\"\"Regular Test\"\"\"\n",
    "# test_set = torchvision.datasets.MNIST(root=DATA_DIR, train=False, download=True, \n",
    "#                                       transform=transforms.ToTensor())\n",
    "test_set = test_datasets[ORACLE] # since the substitute tries to mimic the oracle, we may as well test on the oracle's test set\n",
    "for model, name in zip(models, MODEL_NAMES):\n",
    "    print(name)\n",
    "    test_loader = torch.utils.data.DataLoader(test_set, batch_size=100, shuffle=False, num_workers=0)\n",
    "\n",
    "    test_accuracy, _, test_loss = validate(None, test_loader, model, criterion)\n",
    "\n",
    "    print(f\"{name} Regular Test Accuracy is {test_accuracy}\")\n",
    "    print(f\"{name} Regular Test Loss is {test_loss}\")"
   ]
  },
  {
   "cell_type": "code",
   "execution_count": 80,
   "id": "697795cf-818f-469c-8174-3b87234f943f",
   "metadata": {},
   "outputs": [
    {
     "name": "stdout",
     "output_type": "stream",
     "text": [
      "oracle\n",
      "oracle Attack Test Accuracy is 0.7071999907493591\n",
      "oracle Attack Test Loss is 0.8207333087921143\n",
      "Wall time: 20.4 s\n"
     ]
    }
   ],
   "source": [
    "%%time\n",
    "\"\"\"Attack Test\"\"\"\n",
    "test_set = test_datasets[ORACLE] # since the substitute tries to mimic the oracle, we may as well test on the oracle's test set\n",
    "attack_test_set = FastSignGradientAttackDataSet(test_set, sub, criterion, epsilon=0.25)\n",
    "\n",
    "for model, name in zip(models, MODEL_NAMES):\n",
    "    print(name)\n",
    "    test_loader = torch.utils.data.DataLoader(attack_test_set, batch_size=100, shuffle=False, num_workers=0)\n",
    "\n",
    "    test_accuracy, _, test_loss = validate(None, test_loader, model, criterion)\n",
    "\n",
    "    print(f\"{name} Attack Test Accuracy is {test_accuracy}\")\n",
    "    print(f\"{name} Attack Test Loss is {test_loss}\")"
   ]
  },
  {
   "cell_type": "code",
   "execution_count": 31,
   "id": "ba884cfd-8429-4ffb-af30-9b07a0cb4f97",
   "metadata": {},
   "outputs": [
    {
     "data": {
      "image/png": "[encoded data removed]",
      "text/plain": [
       "<PIL.Image.Image image mode=L size=200x200 at 0x1C652F9AFA0>"
      ]
     },
     "metadata": {},
     "output_type": "display_data"
    },
    {
     "name": "stdout",
     "output_type": "stream",
     "text": [
      "9\n",
      "tensor([[2.2411e-05, 4.9409e-07, 3.8254e-05, 1.8362e-04, 2.9749e-04, 7.0736e-05,\n",
      "         1.6132e-06, 3.4059e-03, 1.2733e-04, 9.9585e-01]],\n",
      "       grad_fn=<SoftmaxBackward>)\n"
     ]
    },
    {
     "name": "stderr",
     "output_type": "stream",
     "text": [
      "C:\\Users\\bkest\\Documents\\OMSCS\\Deep_Learning\\project\\omscs-dl-final-project\\team36\\training.py:45: UserWarning: Implicit dimension choice for softmax has been deprecated. Change the call to include dim=X as an argument.\n",
      "  return nn.functional.softmax(out)\n"
     ]
    },
    {
     "data": {
      "image/png": "[encoded data removed]",
      "text/plain": [
       "<PIL.Image.Image image mode=L size=200x200 at 0x1C652F93130>"
      ]
     },
     "metadata": {},
     "output_type": "display_data"
    },
    {
     "name": "stdout",
     "output_type": "stream",
     "text": [
      "9\n",
      "tensor([[1.2416e-04, 1.2717e-05, 3.2222e-04, 6.8261e-04, 2.4576e-03, 4.9085e-04,\n",
      "         1.4254e-05, 2.3854e-02, 2.4717e-04, 9.7179e-01]],\n",
      "       grad_fn=<SoftmaxBackward>)\n",
      "True label tensor(9)\n"
     ]
    }
   ],
   "source": [
    "model = oracle\n",
    "index = 16\n",
    "# some clear images: 1=ship, 16=dog\n",
    "disp_width, disp_height = 200, 200\n",
    "\n",
    "input, _ = test_set[index]\n",
    "img = transforms.functional.to_pil_image(input)\n",
    "display(img.resize((disp_width, disp_height)))\n",
    "print(predict(model, input, soft=False))\n",
    "print(predict(model, input, soft=True))\n",
    "\n",
    "input, _ = attack_test_set[index]\n",
    "attack_img = transforms.functional.to_pil_image(input)\n",
    "display(attack_img.resize((disp_width, disp_height)))\n",
    "print(predict(model, input, soft=False))\n",
    "print(predict(model, input, soft=True))\n",
    "\n",
    "print('True label', test_set.targets[index])\n",
    "\n",
    "# input, _ = attack_test_set[index]\n",
    "# display(transforms.functional.to_pil_image(input))\n",
    "# print(predict(defense_model, input))\n",
    "\n",
    "# input, _ = attack_test_set[index]\n",
    "# display(transforms.functional.to_pil_image(input))\n",
    "# print(predict(fgsm_reg_defense_model, input))"
   ]
  },
  {
   "cell_type": "code",
   "execution_count": null,
   "id": "d46ca853-1ebe-4d5d-8845-d6f3c50a693d",
   "metadata": {},
   "outputs": [],
   "source": [
    "%%time\n",
    "batch = iter(test_loader).next()[0]\n",
    "J = jacobian(sub, batch)"
   ]
  },
  {
   "cell_type": "code",
   "execution_count": null,
   "id": "69ba46b6-245b-4f17-a474-7c9608468306",
   "metadata": {},
   "outputs": [],
   "source": [
    "%%time\n",
    "batch = iter(test_loader).next()[0]\n",
    "J = jacobian(sub, batch[0].unsqueeze(0))"
   ]
  },
  {
   "cell_type": "code",
   "execution_count": null,
   "id": "b99317b2-7324-43b8-8fc0-84d098e60a06",
   "metadata": {},
   "outputs": [],
   "source": [
    "J.shape"
   ]
  },
  {
   "cell_type": "code",
   "execution_count": null,
   "id": "033ef822-7688-4dd8-b028-a795bf53ba54",
   "metadata": {},
   "outputs": [],
   "source": [
    "J.squeeze(0).squeeze(1).shape"
   ]
  },
  {
   "cell_type": "code",
   "execution_count": null,
   "id": "9990fdec-4c92-4470-ace0-0e2b1f96bf53",
   "metadata": {},
   "outputs": [],
   "source": [
    "Jlabel = J[:,0,:,:,:,:]\n",
    "Jlabel.shape"
   ]
  },
  {
   "cell_type": "code",
   "execution_count": null,
   "id": "be6a3b46-1c62-420d-b6ff-87b1bf40be58",
   "metadata": {},
   "outputs": [],
   "source": [
    "J[:,0,:,:,:,:].squeeze(0).shape"
   ]
  },
  {
   "cell_type": "code",
   "execution_count": null,
   "id": "c0df5599-937f-4245-ade6-9806ded789bb",
   "metadata": {},
   "outputs": [],
   "source": [
    "Jsum = torch.sum(Jlabel, axis=0)\n",
    "Jsum = torch.sum(Jsum, axis=0)\n",
    "Jsum.shape"
   ]
  },
  {
   "cell_type": "code",
   "execution_count": null,
   "id": "087a756a-9e1a-4740-833f-fa7e9d706fea",
   "metadata": {},
   "outputs": [],
   "source": [
    "J[0].shape"
   ]
  },
  {
   "cell_type": "code",
   "execution_count": null,
   "id": "5c40576d-afac-4140-a4c6-383e8d780096",
   "metadata": {},
   "outputs": [],
   "source": [
    "J[0][0].shape"
   ]
  },
  {
   "cell_type": "code",
   "execution_count": null,
   "id": "bc014d3c-7a0d-4823-a5ac-a1e07638334b",
   "metadata": {},
   "outputs": [],
   "source": [
    "iter(test_loader).next()[0].shape"
   ]
  },
  {
   "cell_type": "code",
   "execution_count": null,
   "id": "c8c83bae-d29e-4361-947f-13b75605e362",
   "metadata": {},
   "outputs": [],
   "source": [
    "iter(test_loader).next()[0][0].shape"
   ]
  },
  {
   "cell_type": "code",
   "execution_count": null,
   "id": "5e56ace2-0232-4f44-ad0d-8eef43d39394",
   "metadata": {},
   "outputs": [],
   "source": [
    "(iter(test_loader).next()[0] + J).shape"
   ]
  },
  {
   "cell_type": "code",
   "execution_count": null,
   "id": "4f7b473f-c6d1-417f-af2a-f676c8eaa028",
   "metadata": {},
   "outputs": [],
   "source": [
    "batch = iter(test_loader).next()[0]\n",
    "sub(batch).shape"
   ]
  },
  {
   "cell_type": "code",
   "execution_count": null,
   "id": "f2ac1c26-5dd5-45b5-abd3-c41f727c2867",
   "metadata": {},
   "outputs": [],
   "source": [
    "modified_batch = batch + J\n",
    "sub(modified_batch).shape"
   ]
  },
  {
   "cell_type": "code",
   "execution_count": null,
   "id": "20e15085-0a01-4a37-b6f7-a364748b8326",
   "metadata": {},
   "outputs": [],
   "source": [
    "(batch + J).shape"
   ]
  },
  {
   "cell_type": "code",
   "execution_count": null,
   "id": "6ec13bf9-82e8-46cd-b4d2-c26ee1fd77f1",
   "metadata": {},
   "outputs": [],
   "source": [
    "(J + batch).shape"
   ]
  },
  {
   "cell_type": "code",
   "execution_count": null,
   "id": "e7eb6368-c598-47b3-9045-21d23d95fc25",
   "metadata": {},
   "outputs": [],
   "source": [
    "torch.squeeze(J + batch).shape"
   ]
  },
  {
   "cell_type": "code",
   "execution_count": null,
   "id": "f586bdd4-de0a-4d98-9d32-3b70c8528661",
   "metadata": {},
   "outputs": [],
   "source": [
    "def dub(x):\n",
    "    return x * 2"
   ]
  },
  {
   "cell_type": "code",
   "execution_count": null,
   "id": "d8b6f1ac-6ae0-46a2-9668-30cf5d8cc32f",
   "metadata": {},
   "outputs": [],
   "source": [
    "J = jacobian(dub, torch.tensor([[3., 4., 2.], [1,2,3], [5,3,4], [5,2,3]]))\n",
    "J.shape"
   ]
  },
  {
   "cell_type": "code",
   "execution_count": null,
   "id": "fa8133d1-d872-48d2-ad2b-3ccf33e884d4",
   "metadata": {},
   "outputs": [],
   "source": [
    "J = jacobian(dub, torch.tensor([[3., 4., 2.]]))\n",
    "J.shape"
   ]
  },
  {
   "cell_type": "code",
   "execution_count": null,
   "id": "3d2b182f-f0d4-404e-937a-1769a91ad3e7",
   "metadata": {},
   "outputs": [],
   "source": [
    "J.squeeze(0).shape"
   ]
  }
 ],
 "metadata": {
  "kernelspec": {
   "display_name": "cs7643-final-project-cpu",
   "language": "python",
   "name": "cs7643-final-project-cpu"
  },
  "language_info": {
   "codemirror_mode": {
    "name": "ipython",
    "version": 3
   },
   "file_extension": ".py",
   "mimetype": "text/x-python",
   "name": "python",
   "nbconvert_exporter": "python",
   "pygments_lexer": "ipython3",
   "version": "3.9.4"
  }
 },
 "nbformat": 4,
 "nbformat_minor": 5
}
