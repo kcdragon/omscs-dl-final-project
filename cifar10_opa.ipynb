{
 "cells": [
  {
   "cell_type": "code",
   "execution_count": 1,
   "metadata": {},
   "outputs": [],
   "source": [
    "%load_ext autoreload\n",
    "%autoreload 2"
   ]
  },
  {
   "cell_type": "code",
   "execution_count": 2,
   "metadata": {},
   "outputs": [
    {
     "name": "stderr",
     "output_type": "stream",
     "text": [
      "/Users/jancetherapper/opt/anaconda3/envs/cs7643-final-project-cpu/lib/python3.9/site-packages/torch/nn/functional.py:718: UserWarning: Named tensors and all their associated APIs are an experimental feature and subject to change. Please do not use them for anything important until they are released as stable. (Triggered internally at  /tmp/pip-req-build-2et07ktc/c10/core/TensorImpl.h:1156.)\n",
      "  return torch.max_pool2d(input, kernel_size, stride, padding, dilation, ceil_mode)\n"
     ]
    },
    {
     "name": "stdout",
     "output_type": "stream",
     "text": [
      "Train Epoch: 0 [6400/60000\t(11%)]\tLoss: 0.617095\n",
      "Train Epoch: 0 [12800/60000\t(21%)]\tLoss: 0.269205\n",
      "Train Epoch: 0 [19200/60000\t(32%)]\tLoss: 0.395639\n",
      "Train Epoch: 0 [25600/60000\t(43%)]\tLoss: 0.183154\n",
      "Train Epoch: 0 [32000/60000\t(53%)]\tLoss: 0.187780\n",
      "Train Epoch: 0 [38400/60000\t(64%)]\tLoss: 0.184705\n",
      "Train Epoch: 0 [44800/60000\t(75%)]\tLoss: 0.078671\n",
      "Train Epoch: 0 [51200/60000\t(85%)]\tLoss: 0.087679\n",
      "Train Epoch: 0 [57600/60000\t(96%)]\tLoss: 0.041642\n",
      "\n",
      "Average loss: 0.0982, Accuracy: 58252/60000 (97%)\n",
      "\n",
      "Train Epoch: 1 [6400/60000\t(11%)]\tLoss: 0.055170\n",
      "Train Epoch: 1 [12800/60000\t(21%)]\tLoss: 0.049245\n",
      "Train Epoch: 1 [19200/60000\t(32%)]\tLoss: 0.184515\n",
      "Train Epoch: 1 [25600/60000\t(43%)]\tLoss: 0.036643\n",
      "Train Epoch: 1 [32000/60000\t(53%)]\tLoss: 0.038106\n",
      "Train Epoch: 1 [38400/60000\t(64%)]\tLoss: 0.219233\n",
      "Train Epoch: 1 [44800/60000\t(75%)]\tLoss: 0.148970\n",
      "Train Epoch: 1 [51200/60000\t(85%)]\tLoss: 0.053254\n",
      "Train Epoch: 1 [57600/60000\t(96%)]\tLoss: 0.022453\n",
      "\n",
      "Average loss: 0.0624, Accuracy: 58866/60000 (98%)\n",
      "\n",
      "Train Epoch: 2 [6400/60000\t(11%)]\tLoss: 0.024183\n",
      "Train Epoch: 2 [12800/60000\t(21%)]\tLoss: 0.093831\n",
      "Train Epoch: 2 [19200/60000\t(32%)]\tLoss: 0.021421\n",
      "Train Epoch: 2 [25600/60000\t(43%)]\tLoss: 0.085960\n",
      "Train Epoch: 2 [32000/60000\t(53%)]\tLoss: 0.118178\n",
      "Train Epoch: 2 [38400/60000\t(64%)]\tLoss: 0.047884\n",
      "Train Epoch: 2 [44800/60000\t(75%)]\tLoss: 0.043749\n",
      "Train Epoch: 2 [51200/60000\t(85%)]\tLoss: 0.013788\n",
      "Train Epoch: 2 [57600/60000\t(96%)]\tLoss: 0.030491\n",
      "\n",
      "Average loss: 0.0486, Accuracy: 59126/60000 (99%)\n",
      "\n",
      "Train Epoch: 3 [6400/60000\t(11%)]\tLoss: 0.042939\n",
      "Train Epoch: 3 [12800/60000\t(21%)]\tLoss: 0.110251\n",
      "Train Epoch: 3 [19200/60000\t(32%)]\tLoss: 0.057257\n",
      "Train Epoch: 3 [25600/60000\t(43%)]\tLoss: 0.014481\n",
      "Train Epoch: 3 [32000/60000\t(53%)]\tLoss: 0.109150\n",
      "Train Epoch: 3 [38400/60000\t(64%)]\tLoss: 0.014021\n",
      "Train Epoch: 3 [44800/60000\t(75%)]\tLoss: 0.009173\n",
      "Train Epoch: 3 [51200/60000\t(85%)]\tLoss: 0.006650\n",
      "Train Epoch: 3 [57600/60000\t(96%)]\tLoss: 0.023101\n",
      "\n",
      "Average loss: 0.0412, Accuracy: 59246/60000 (99%)\n",
      "\n",
      "Train Epoch: 4 [6400/60000\t(11%)]\tLoss: 0.019190\n",
      "Train Epoch: 4 [12800/60000\t(21%)]\tLoss: 0.055484\n",
      "Train Epoch: 4 [19200/60000\t(32%)]\tLoss: 0.013449\n",
      "Train Epoch: 4 [25600/60000\t(43%)]\tLoss: 0.109544\n",
      "Train Epoch: 4 [32000/60000\t(53%)]\tLoss: 0.062934\n",
      "Train Epoch: 4 [38400/60000\t(64%)]\tLoss: 0.096693\n",
      "Train Epoch: 4 [44800/60000\t(75%)]\tLoss: 0.019228\n",
      "Train Epoch: 4 [51200/60000\t(85%)]\tLoss: 0.180532\n",
      "Train Epoch: 4 [57600/60000\t(96%)]\tLoss: 0.016442\n",
      "\n",
      "Average loss: 0.0352, Accuracy: 59357/60000 (99%)\n",
      "\n",
      "Train Epoch: 5 [6400/60000\t(11%)]\tLoss: 0.017466\n",
      "Train Epoch: 5 [12800/60000\t(21%)]\tLoss: 0.005131\n",
      "Train Epoch: 5 [19200/60000\t(32%)]\tLoss: 0.008038\n",
      "Train Epoch: 5 [25600/60000\t(43%)]\tLoss: 0.094272\n",
      "Train Epoch: 5 [32000/60000\t(53%)]\tLoss: 0.012348\n",
      "Train Epoch: 5 [38400/60000\t(64%)]\tLoss: 0.002721\n",
      "Train Epoch: 5 [44800/60000\t(75%)]\tLoss: 0.058403\n",
      "Train Epoch: 5 [51200/60000\t(85%)]\tLoss: 0.061772\n",
      "Train Epoch: 5 [57600/60000\t(96%)]\tLoss: 0.027322\n",
      "\n",
      "Average loss: 0.0303, Accuracy: 59426/60000 (99%)\n",
      "\n",
      "Train Epoch: 6 [6400/60000\t(11%)]\tLoss: 0.043079\n",
      "Train Epoch: 6 [12800/60000\t(21%)]\tLoss: 0.009353\n",
      "Train Epoch: 6 [19200/60000\t(32%)]\tLoss: 0.035662\n",
      "Train Epoch: 6 [25600/60000\t(43%)]\tLoss: 0.018153\n",
      "Train Epoch: 6 [32000/60000\t(53%)]\tLoss: 0.028953\n",
      "Train Epoch: 6 [38400/60000\t(64%)]\tLoss: 0.012055\n",
      "Train Epoch: 6 [44800/60000\t(75%)]\tLoss: 0.044038\n",
      "Train Epoch: 6 [51200/60000\t(85%)]\tLoss: 0.016839\n",
      "Train Epoch: 6 [57600/60000\t(96%)]\tLoss: 0.023733\n",
      "\n",
      "Average loss: 0.0256, Accuracy: 59518/60000 (99%)\n",
      "\n",
      "Train Epoch: 7 [6400/60000\t(11%)]\tLoss: 0.012341\n",
      "Train Epoch: 7 [12800/60000\t(21%)]\tLoss: 0.005935\n",
      "Train Epoch: 7 [19200/60000\t(32%)]\tLoss: 0.005465\n",
      "Train Epoch: 7 [25600/60000\t(43%)]\tLoss: 0.002908\n",
      "Train Epoch: 7 [32000/60000\t(53%)]\tLoss: 0.002499\n",
      "Train Epoch: 7 [38400/60000\t(64%)]\tLoss: 0.010324\n",
      "Train Epoch: 7 [44800/60000\t(75%)]\tLoss: 0.041909\n",
      "Train Epoch: 7 [51200/60000\t(85%)]\tLoss: 0.021979\n",
      "Train Epoch: 7 [57600/60000\t(96%)]\tLoss: 0.063486\n",
      "\n",
      "Average loss: 0.0214, Accuracy: 59619/60000 (99%)\n",
      "\n",
      "Train Epoch: 8 [6400/60000\t(11%)]\tLoss: 0.010562\n",
      "Train Epoch: 8 [12800/60000\t(21%)]\tLoss: 0.020321\n",
      "Train Epoch: 8 [19200/60000\t(32%)]\tLoss: 0.041769\n",
      "Train Epoch: 8 [25600/60000\t(43%)]\tLoss: 0.009035\n",
      "Train Epoch: 8 [32000/60000\t(53%)]\tLoss: 0.020320\n",
      "Train Epoch: 8 [38400/60000\t(64%)]\tLoss: 0.033219\n",
      "Train Epoch: 8 [44800/60000\t(75%)]\tLoss: 0.007848\n",
      "Train Epoch: 8 [51200/60000\t(85%)]\tLoss: 0.010969\n",
      "Train Epoch: 8 [57600/60000\t(96%)]\tLoss: 0.028051\n",
      "\n",
      "Average loss: 0.0172, Accuracy: 59710/60000 (100%)\n",
      "\n",
      "Train Epoch: 9 [6400/60000\t(11%)]\tLoss: 0.002694\n",
      "Train Epoch: 9 [12800/60000\t(21%)]\tLoss: 0.009183\n",
      "Train Epoch: 9 [19200/60000\t(32%)]\tLoss: 0.018314\n",
      "Train Epoch: 9 [25600/60000\t(43%)]\tLoss: 0.001754\n",
      "Train Epoch: 9 [32000/60000\t(53%)]\tLoss: 0.009586\n",
      "Train Epoch: 9 [38400/60000\t(64%)]\tLoss: 0.001125\n",
      "Train Epoch: 9 [44800/60000\t(75%)]\tLoss: 0.056156\n",
      "Train Epoch: 9 [51200/60000\t(85%)]\tLoss: 0.020605\n",
      "Train Epoch: 9 [57600/60000\t(96%)]\tLoss: 0.008470\n",
      "\n",
      "Average loss: 0.0157, Accuracy: 59725/60000 (100%)\n",
      "\n"
     ]
    }
   ],
   "source": [
    "import numpy as np\n",
    "import argparse\n",
    "import torch\n",
    "import torch.nn as nn\n",
    "import torch.nn.functional as F\n",
    "import torch.optim as optim\n",
    "from torchvision import datasets, transforms\n",
    "from sklearn.metrics import *\n",
    "from matplotlib import pyplot as plt\n",
    "from random import random\n",
    "from IPython.display import clear_output\n",
    "%matplotlib inline\n",
    "\n",
    "class CNN(nn.Module):\n",
    "    def __init__(self):\n",
    "        super(CNN, self).__init__()\n",
    "        self.conv1 = nn.Conv2d(1, 20, 5, 1)\n",
    "        self.conv2 = nn.Conv2d(20, 50, 5, 1)\n",
    "        self.fc1 = nn.Linear(4*4*50, 500)\n",
    "        self.fc2 = nn.Linear(500, 10)\n",
    "\n",
    "    def forward(self, x):\n",
    "        x = F.relu(self.conv1(x))\n",
    "        x = F.max_pool2d(x, 2, 2)\n",
    "        x = F.relu(self.conv2(x))\n",
    "        x = F.max_pool2d(x, 2, 2)\n",
    "        x = x.view(-1, 4*4*50)\n",
    "        x = F.relu(self.fc1(x))\n",
    "        x = self.fc2(x)\n",
    "        return F.log_softmax(x, dim=1)\n",
    "    \n",
    "def train(model, device, train_loader, optimizer, epoch):\n",
    "    losses = []\n",
    "    model.train()\n",
    "    for batch_idx, (data, target) in enumerate(train_loader):\n",
    "        data, target = data.to(device), target.to(device)\n",
    "        optimizer.zero_grad()\n",
    "        output = model(data)\n",
    "        loss = F.nll_loss(output, target)\n",
    "        loss.backward()\n",
    "        optimizer.step()\n",
    "        losses.append(loss.item())\n",
    "        if batch_idx > 0 and batch_idx % 100 == 0:\n",
    "            print('Train Epoch: {} [{}/{}\\t({:.0f}%)]\\tLoss: {:.6f}'.format(\n",
    "                epoch, batch_idx * len(data), len(train_loader.dataset),\n",
    "                100. * batch_idx / len(train_loader), loss.item()))\n",
    "    return losses\n",
    "\n",
    "def test(model, device, test_loader):\n",
    "    model.eval()\n",
    "    test_loss = 0\n",
    "    correct = 0\n",
    "    with torch.no_grad():\n",
    "        for data, target in test_loader:\n",
    "            data, target = data.to(device), target.to(device)\n",
    "            output = model(data)\n",
    "            test_loss += F.nll_loss(output, target, reduction='sum').item() # sum up batch loss\n",
    "            pred = output.argmax(dim=1, keepdim=True) # get the index of the max log-probability\n",
    "            correct += pred.eq(target.view_as(pred)).sum().item()\n",
    "    test_loss /= len(test_loader.dataset)\n",
    "    print('\\nAverage loss: {:.4f}, Accuracy: {}/{} ({:.0f}%)\\n'.format(\n",
    "        test_loss, correct, len(test_loader.dataset),\n",
    "        100. * correct / len(test_loader.dataset)))\n",
    "    return (float(correct) / len(test_loader.dataset))\n",
    "\n",
    "train_loader = torch.utils.data.DataLoader(\n",
    "    datasets.MNIST(\n",
    "        '../data',\n",
    "       train=True,\n",
    "       download=True,\n",
    "       transform=transforms.Compose([\n",
    "           transforms.ToTensor(),\n",
    "           transforms.Normalize((0.1307,), (0.3081,))\n",
    "       ])\n",
    "    ),\n",
    "    batch_size=64,\n",
    "    shuffle=True)\n",
    "test_loader = torch.utils.data.DataLoader(\n",
    "    datasets.MNIST(\n",
    "        '../data',\n",
    "        train=False,\n",
    "        transform=transforms.Compose([\n",
    "           transforms.ToTensor(),\n",
    "           transforms.Normalize((0.1307,), (0.3081,))\n",
    "        ])\n",
    "    ),\n",
    "    batch_size=1000,\n",
    "    shuffle=True)\n",
    "\n",
    "model = CNN()\n",
    "optimizer = optim.SGD(model.parameters(), lr=0.01, momentum=0.5)\n",
    "device = torch.device(\"cpu\") # or 'gpu'\n",
    "losses = []\n",
    "accuracies = []\n",
    "for epoch in range(0, 10):\n",
    "    losses.extend(train(model, device, train_loader, optimizer, epoch))\n",
    "    accuracies.append(test(model, device, train_loader))"
   ]
  },
  {
   "cell_type": "code",
   "execution_count": null,
   "metadata": {},
   "outputs": [
    {
     "name": "stdout",
     "output_type": "stream",
     "text": [
      "54000 in training set\n",
      "6000 in validation set\n",
      "Epoch: [0][0/8]\tLoss 2.5095 (2.5095)\tPrec @1 0.0859 (0.0859)\t\n",
      "Epoch 0 | Training accuracy: 0.35499998927116394% | Validation accuracy: 0.6901666522026062%\n",
      "Epoch: [1][0/8]\tLoss 1.2223 (1.2223)\tPrec @1 0.7266 (0.7266)\t\n",
      "Epoch 1 | Training accuracy: 0.7770000100135803% | Validation accuracy: 0.8143333196640015%\n",
      "Epoch: [2][0/8]\tLoss 0.8150 (0.8150)\tPrec @1 0.8672 (0.8672)\t\n",
      "Epoch 2 | Training accuracy: 0.8460000157356262% | Validation accuracy: 0.8690000176429749%\n",
      "Epoch: [3][0/8]\tLoss 0.6257 (0.6257)\tPrec @1 0.8594 (0.8594)\t\n",
      "Epoch 3 | Training accuracy: 0.8650000095367432% | Validation accuracy: 0.8920000195503235%\n",
      "Epoch: [4][0/8]\tLoss 0.4995 (0.4995)\tPrec @1 0.9062 (0.9062)\t\n",
      "Epoch 4 | Training accuracy: 0.8970000147819519% | Validation accuracy: 0.9021666646003723%\n",
      "Epoch: [5][0/8]\tLoss 0.4293 (0.4293)\tPrec @1 0.9453 (0.9453)\t\n"
     ]
    }
   ],
   "source": [
    "import team36\n",
    "from team36.mnist.vgg import VGG\n",
    "from team36.training import train, validate\n",
    "import copy\n",
    "import matplotlib.pyplot as plt\n",
    "from sklearn.model_selection import train_test_split\n",
    "import torch\n",
    "import torch.nn as nn\n",
    "import torchvision\n",
    "import torchvision.transforms as transforms\n",
    "\n",
    "DIR = '.'\n",
    "DATA_DIR = f'{DIR}/data'\n",
    "NAME = 'mnist'\n",
    "\n",
    "training_set = torchvision.datasets.MNIST(root=DATA_DIR, train=True, download=True, \n",
    "                                          transform=transforms.ToTensor())\n",
    "\n",
    "training_indices, validation_indices, _, _ = train_test_split(\n",
    "    range(len(training_set)),\n",
    "    training_set.targets,\n",
    "    stratify=training_set.targets,\n",
    "    test_size=0.1,\n",
    ")\n",
    "training_split = torch.utils.data.Subset(training_set, training_indices)\n",
    "validation_split = torch.utils.data.Subset(training_set, validation_indices)\n",
    "\n",
    "print(f\"{len(training_split)} in training set\")\n",
    "print(f\"{len(validation_split)} in validation set\")\n",
    "\n",
    "learning_rate = 1e-3\n",
    "momentum = 5e-1\n",
    "weight_decay = 5e-2\n",
    "batch_size = 128\n",
    "epochs = 10\n",
    "\n",
    "sampler = torch.utils.data.RandomSampler(training_split, replacement=True, num_samples=1000)\n",
    "training_loader = torch.utils.data.DataLoader(training_split, batch_size=batch_size, sampler=sampler)\n",
    "test_loader = torch.utils.data.DataLoader(validation_split, batch_size=100, shuffle=False, num_workers=2)\n",
    "\n",
    "\n",
    "model = VGG()\n",
    "if torch.cuda.is_available():\n",
    "    model = model.cuda()\n",
    "\n",
    "criterion = nn.CrossEntropyLoss()\n",
    "\n",
    "optimizer = torch.optim.SGD(model.parameters(), learning_rate,\n",
    "                            momentum=momentum, weight_decay=weight_decay)\n",
    "\n",
    "best = 0.0\n",
    "best_cm = None\n",
    "best_model = None\n",
    "train_accuracy_history = []\n",
    "train_loss_history = []\n",
    "accuracies = []\n",
    "losses = []\n",
    "for epoch in range(epochs):\n",
    "    train_acc, train_loss = train(epoch, training_loader, model, optimizer, criterion)\n",
    "    train_accuracy_history.append(train_acc)\n",
    "    train_loss_history.append(train_loss)\n",
    "    \n",
    "    acc, cm, loss = validate(epoch, test_loader, model, criterion)\n",
    "    accuracies.append(acc)\n",
    "    losses.append(loss)\n",
    "    \n",
    "    print(\"Epoch {0} | Training accuracy: {1}% | Validation accuracy: {2}%\".format(epoch, train_acc, acc))\n",
    "    \n",
    "    if acc > best:\n",
    "        best = acc\n",
    "        best_cm = cm\n",
    "        best_model = copy.deepcopy(model)\n",
    "        \n",
    "training_curve, = plt.plot(train_accuracy_history, label='training')\n",
    "validation_curve, = plt.plot(accuracies, label='validation')\n",
    "plt.title('Accuracy Curve')\n",
    "plt.legend(handles=[training_curve, validation_curve])\n",
    "plt.xlabel('Epoch')\n",
    "plt.ylabel('Accuracy')\n",
    "plt.show()\n",
    "\n",
    "training_curve, = plt.plot(train_loss_history, label='training')\n",
    "validation_curve, = plt.plot(losses, label='validation')\n",
    "plt.title('Loss Curve')\n",
    "plt.legend(handles=[training_curve, validation_curve])\n",
    "plt.xlabel('Epoch')\n",
    "plt.ylabel('Loss')\n",
    "plt.show()\n",
    "\n",
    "print('Best Validation Acccuracy: {:.4f}'.format(best))"
   ]
  },
  {
   "cell_type": "code",
   "execution_count": null,
   "metadata": {},
   "outputs": [],
   "source": [
    "import team36\n",
    "from team36.mnist.vgg import VGG\n",
    "from team36.training import train, validate\n",
    "import copy\n",
    "import matplotlib.pyplot as plt\n",
    "from sklearn.model_selection import train_test_split\n",
    "import torch\n",
    "import torch.nn as nn\n",
    "import torchvision\n",
    "import torchvision.transforms as transforms\n",
    "\n",
    "DIR = '.'\n",
    "DATA_DIR = f'{DIR}/data'\n",
    "NAME = 'cifar10'\n",
    "\n",
    "training_set = torchvision.datasets.CIFAR10(root=DATA_DIR, train=True, download=True, \n",
    "                                            transform=transforms.ToTensor())\n",
    "\n",
    "training_indices, validation_indices, _, _ = train_test_split(\n",
    "    range(len(training_set)),\n",
    "    training_set.targets,\n",
    "    stratify=training_set.targets,\n",
    "    test_size=0.1,\n",
    ")\n",
    "training_split = torch.utils.data.Subset(training_set, training_indices)\n",
    "validation_split = torch.utils.data.Subset(training_set, validation_indices)\n",
    "\n",
    "print(f\"{len(training_split)} in training set\")\n",
    "print(f\"{len(validation_split)} in validation set\")\n",
    "\n",
    "learning_rate = 1e-3\n",
    "momentum = 5e-1\n",
    "weight_decay = 5e-2\n",
    "batch_size = 128\n",
    "epochs = 10\n",
    "\n",
    "sampler = torch.utils.data.RandomSampler(training_split, replacement=True, num_samples=1000)\n",
    "training_loader = torch.utils.data.DataLoader(training_split, batch_size=batch_size, sampler=sampler)\n",
    "test_loader = torch.utils.data.DataLoader(validation_split, batch_size=100, shuffle=False, num_workers=2)\n",
    "\n",
    "model = VGG(image_size=32, in_channels=3)\n",
    "if torch.cuda.is_available():\n",
    "    model = model.cuda()\n",
    "\n",
    "criterion = nn.CrossEntropyLoss()\n",
    "\n",
    "optimizer = torch.optim.SGD(model.parameters(), learning_rate,\n",
    "                            momentum=momentum, weight_decay=weight_decay)\n",
    "\n",
    "best = 0.0\n",
    "best_cm = None\n",
    "best_model = None\n",
    "train_accuracy_history = []\n",
    "train_loss_history = []\n",
    "accuracies = []\n",
    "losses = []\n",
    "for epoch in range(epochs):\n",
    "    train_acc, train_loss = train(epoch, training_loader, model, optimizer, criterion)\n",
    "    train_accuracy_history.append(train_acc)\n",
    "    train_loss_history.append(train_loss)\n",
    "    \n",
    "    acc, cm, loss = validate(epoch, test_loader, model, criterion)\n",
    "    accuracies.append(acc)\n",
    "    losses.append(loss)\n",
    "    \n",
    "    print(\"Epoch {0} | Training accuracy: {1}% | Validation accuracy: {2}%\".format(epoch, train_acc, acc))\n",
    "    \n",
    "    if acc > best:\n",
    "        best = acc\n",
    "        best_cm = cm\n",
    "        best_model = copy.deepcopy(model)\n",
    "        \n",
    "training_curve, = plt.plot(train_accuracy_history, label='training')\n",
    "validation_curve, = plt.plot(accuracies, label='validation')\n",
    "plt.title('Accuracy Curve')\n",
    "plt.legend(handles=[training_curve, validation_curve])\n",
    "plt.xlabel('Epoch')\n",
    "plt.ylabel('Accuracy')\n",
    "plt.show()\n",
    "\n",
    "training_curve, = plt.plot(train_loss_history, label='training')\n",
    "validation_curve, = plt.plot(losses, label='validation')\n",
    "plt.title('Loss Curve')\n",
    "plt.legend(handles=[training_curve, validation_curve])\n",
    "plt.xlabel('Epoch')\n",
    "plt.ylabel('Loss')\n",
    "plt.show()\n",
    "\n",
    "print('Best Validation Acccuracy: {:.4f}'.format(best))"
   ]
  },
  {
   "cell_type": "code",
   "execution_count": 37,
   "metadata": {},
   "outputs": [
    {
     "data": {
      "text/plain": [
       "[<matplotlib.lines.Line2D at 0x7f8b1afa2ac0>]"
      ]
     },
     "execution_count": 37,
     "metadata": {},
     "output_type": "execute_result"
    },
    {
     "data": {
      "image/png": "[encoded data removed]",
      "text/plain": [
       "<Figure size 1008x288 with 1 Axes>"
      ]
     },
     "metadata": {
      "needs_background": "light"
     },
     "output_type": "display_data"
    }
   ],
   "source": [
    "def mean(li): return sum(li)/len(li)\n",
    "plt.figure(figsize=(14, 4))\n",
    "plt.xlabel('training batch')\n",
    "plt.ylabel('loss')\n",
    "plt.plot([mean(losses[i:i+10]) for i in range(len(losses))])"
   ]
  },
  {
   "cell_type": "code",
   "execution_count": 38,
   "metadata": {},
   "outputs": [
    {
     "data": {
      "text/plain": [
       "[<matplotlib.lines.Line2D at 0x7f8b14c03a30>]"
      ]
     },
     "execution_count": 38,
     "metadata": {},
     "output_type": "execute_result"
    },
    {
     "data": {
      "image/png": "[encoded data removed]",
      "text/plain": [
       "<Figure size 1008x288 with 1 Axes>"
      ]
     },
     "metadata": {
      "needs_background": "light"
     },
     "output_type": "display_data"
    }
   ],
   "source": [
    "\n",
    "plt.figure(figsize=(14, 4))\n",
    "plt.xticks(range(len(accuracies)))\n",
    "plt.xlabel('training epoch')\n",
    "plt.ylabel('accuracy')\n",
    "plt.plot(accuracies, marker='o')\n"
   ]
  },
  {
   "cell_type": "code",
   "execution_count": 39,
   "metadata": {},
   "outputs": [
    {
     "name": "stdout",
     "output_type": "stream",
     "text": [
      "Confusion matrix:\n",
      "[[576   1   1   2   2   3   4   1   1   1]\n",
      " [  0 650   9   1   3   3   1   1   5   1]\n",
      " [  3   3 558   1   8   1   8   8   6   0]\n",
      " [  1   5  24 542   0  14   1   9   8   9]\n",
      " [  0   2   3   0 553   1   4   0   0  21]\n",
      " [  1   3   2  19   1 495  13   1   2   5]\n",
      " [  4   4   3   0   2   7 570   0   2   0]\n",
      " [  1   6  10   1  12   1   0 580   0  16]\n",
      " [  2   3   6  10   3  11   7   3 524  16]\n",
      " [  5   1   6   6  13   3   0  17   2 542]]\n",
      "F1 score: 0.931667\n",
      "Accuracy score: 0.931667\n"
     ]
    }
   ],
   "source": [
    "def test_label_predictions(model, device, test_loader):\n",
    "    model.eval()\n",
    "    actuals = []\n",
    "    predictions = []\n",
    "    with torch.no_grad():\n",
    "        for data, target in test_loader:\n",
    "            data, target = data.to(device), target.to(device)\n",
    "            output = model(data)\n",
    "            prediction = output.argmax(dim=1, keepdim=True)\n",
    "            actuals.extend(target.view_as(prediction))\n",
    "            predictions.extend(prediction)\n",
    "    return [i.item() for i in actuals], [i.item() for i in predictions]\n",
    "\n",
    "actuals, predictions = test_label_predictions(model, device, test_loader)\n",
    "print('Confusion matrix:')\n",
    "print(confusion_matrix(actuals, predictions))\n",
    "print('F1 score: %f' % f1_score(actuals, predictions, average='micro'))\n",
    "print('Accuracy score: %f' % accuracy_score(actuals, predictions))"
   ]
  },
  {
   "cell_type": "code",
   "execution_count": 40,
   "metadata": {},
   "outputs": [
    {
     "data": {
      "image/png": "[encoded data removed]",
      "text/plain": [
       "<Figure size 432x288 with 1 Axes>"
      ]
     },
     "metadata": {
      "needs_background": "light"
     },
     "output_type": "display_data"
    }
   ],
   "source": [
    "\n",
    "def test_class_probabilities(model, device, test_loader, which_class):\n",
    "    model.eval()\n",
    "    actuals = []\n",
    "    probabilities = []\n",
    "    with torch.no_grad():\n",
    "        for data, target in test_loader:\n",
    "            data, target = data.to(device), target.to(device)\n",
    "            output = model(data)\n",
    "            prediction = output.argmax(dim=1, keepdim=True)\n",
    "            actuals.extend(target.view_as(prediction) == which_class)\n",
    "            probabilities.extend(np.exp(output[:, which_class]))\n",
    "    return [i.item() for i in actuals], [i.item() for i in probabilities]\n",
    "\n",
    "which_class = 9\n",
    "actuals, class_probabilities = test_class_probabilities(model, device, test_loader, which_class)\n",
    "\n",
    "fpr, tpr, _ = roc_curve(actuals, class_probabilities)\n",
    "roc_auc = auc(fpr, tpr)\n",
    "plt.figure()\n",
    "lw = 2\n",
    "plt.plot(fpr, tpr, color='darkorange',\n",
    "         lw=lw, label='ROC curve (area = %0.2f)' % roc_auc)\n",
    "plt.plot([0, 1], [0, 1], color='navy', lw=lw, linestyle='--')\n",
    "plt.xlim([0.0, 1.0])\n",
    "plt.ylim([0.0, 1.05])\n",
    "plt.xlabel('False Positive Rate')\n",
    "plt.ylabel('True Positive Rate')\n",
    "plt.title('ROC for digit=%d class' % which_class)\n",
    "plt.legend(loc=\"lower right\")\n",
    "plt.show()"
   ]
  },
  {
   "cell_type": "code",
   "execution_count": 41,
   "metadata": {},
   "outputs": [
    {
     "name": "stdout",
     "output_type": "stream",
     "text": [
      "Trainable parameters:\n",
      "convolution_layers.0.weight \t 288\n",
      "convolution_layers.0.bias \t 32\n",
      "convolution_layers.1.weight \t 32\n",
      "convolution_layers.1.bias \t 32\n",
      "convolution_layers.3.weight \t 18432\n",
      "convolution_layers.3.bias \t 64\n",
      "convolution_layers.4.weight \t 64\n",
      "convolution_layers.4.bias \t 64\n",
      "convolution_layers.7.weight \t 73728\n",
      "convolution_layers.7.bias \t 128\n",
      "convolution_layers.8.weight \t 128\n",
      "convolution_layers.8.bias \t 128\n",
      "convolution_layers.10.weight \t 294912\n",
      "convolution_layers.10.bias \t 256\n",
      "convolution_layers.11.weight \t 256\n",
      "convolution_layers.11.bias \t 256\n",
      "linear_layers.0.weight \t 125440\n",
      "linear_layers.0.bias \t 10\n"
     ]
    }
   ],
   "source": [
    "print('Trainable parameters:')\n",
    "for name, param in model.named_parameters():\n",
    "    if param.requires_grad:\n",
    "        print(name, '\\t',param.numel())"
   ]
  },
  {
   "cell_type": "code",
   "execution_count": 42,
   "metadata": {},
   "outputs": [
    {
     "data": {
      "image/png": "[encoded data removed]",
      "text/plain": [
       "<Figure size 1008x288 with 1 Axes>"
      ]
     },
     "metadata": {
      "needs_background": "light"
     },
     "output_type": "display_data"
    },
    {
     "name": "stdout",
     "output_type": "stream",
     "text": [
      "[0.8013, 0.5539, 0.4443, 0.3705, 0.3222, 0.2963, 0.2725, 0.2586, 0.2407, 0.2297, 0.2221, 0.2128, 0.2084, 0.1979, 0.191, 0.1877, 0.185, 0.1773, 0.1728, 0.1714]\n"
     ]
    }
   ],
   "source": [
    "\n",
    "def distort(x, num_pixels=1, value=1.0):\n",
    "    for _ in range(num_pixels):\n",
    "        x[0][int(random()*28)][int(random()*28)] = value\n",
    "    return x\n",
    "\n",
    "def test_label_predictions(model, device, test_loader):\n",
    "    model.eval()\n",
    "    actuals = []\n",
    "    predictions = []\n",
    "    with torch.no_grad():\n",
    "        for data, target in test_loader:\n",
    "            data, target = data.to(device), target.to(device)\n",
    "            output = model(data)\n",
    "            prediction = output.argmax(dim=1, keepdim=True)\n",
    "            actuals.extend(target.view_as(prediction))\n",
    "            predictions.extend(prediction)\n",
    "    return [i.item() for i in actuals], [i.item() for i in predictions]\n",
    "\n",
    "def plot_accuracies(distorted_pixels, accuracies):\n",
    "    clear_output()\n",
    "    plt.figure(figsize=(14, 4))\n",
    "    plt.xlabel('distorted pixels')\n",
    "    plt.ylabel('accuracy')\n",
    "    plt.ylim((0, 1))\n",
    "    plt.plot(distorted_pixels, accuracies, marker='o')\n",
    "    plt.show()\n",
    "\n",
    "distorted_pixels = []\n",
    "accuracies = []\n",
    "for i in range(0, 20):\n",
    "    my_test_loader = torch.utils.data.DataLoader(\n",
    "        datasets.MNIST(\n",
    "            '../data',\n",
    "            train=False,\n",
    "            transform=transforms.Compose([\n",
    "               transforms.ToTensor(),\n",
    "               transforms.Lambda(lambda x: distort(x, num_pixels=i, value=5.0)),\n",
    "               transforms.Normalize((0.1307,), (0.3081,)),\n",
    "            ])\n",
    "        ),\n",
    "        batch_size=1000,\n",
    "        shuffle=True)\n",
    "    actuals, predictions = test_label_predictions(model, device, my_test_loader)\n",
    "    distorted_pixels.append(i)\n",
    "    accuracies.append(accuracy_score(actuals, predictions))\n",
    "    plot_accuracies(distorted_pixels, accuracies)\n",
    "\n",
    "print(accuracies)"
   ]
  },
  {
   "cell_type": "code",
   "execution_count": 43,
   "metadata": {},
   "outputs": [],
   "source": [
    "def set_pixel(x, i, j, value=1.0):\n",
    "    x[0][i][j] = value\n",
    "    return x\n",
    "\n",
    "def misclassified_images(actuals, predictions):\n",
    "    vuls = []\n",
    "    for i in range(len(actuals)):\n",
    "        if actuals[i] != predictions[i]:\n",
    "            vuls.append(i)\n",
    "    return set(vuls)\n"
   ]
  },
  {
   "cell_type": "code",
   "execution_count": 44,
   "metadata": {},
   "outputs": [
    {
     "data": {
      "text/plain": [
       "<matplotlib.image.AxesImage at 0x7f8b1b1c6580>"
      ]
     },
     "execution_count": 44,
     "metadata": {},
     "output_type": "execute_result"
    },
    {
     "data": {
      "image/png": "[encoded data removed]",
      "text/plain": [
       "<Figure size 432x288 with 1 Axes>"
      ]
     },
     "metadata": {
      "needs_background": "light"
     },
     "output_type": "display_data"
    }
   ],
   "source": [
    "\n",
    "dataset = datasets.MNIST(\n",
    "    '../data',\n",
    "    train=False,\n",
    "    transform=transforms.Compose([\n",
    "       transforms.ToTensor(),\n",
    "       transforms.Lambda(lambda x: set_pixel(x, 0, 8)),\n",
    "    ])\n",
    ")\n",
    "x, _ = dataset[3906] # x is now a torch.Tensor\n",
    "plt.imshow(x.numpy()[0], cmap='gray')"
   ]
  },
  {
   "cell_type": "code",
   "execution_count": 49,
   "metadata": {},
   "outputs": [
    {
     "data": {
      "text/plain": [
       "<matplotlib.image.AxesImage at 0x7f8b17e4b430>"
      ]
     },
     "execution_count": 49,
     "metadata": {},
     "output_type": "execute_result"
    },
    {
     "data": {
      "image/png": "[encoded data removed]",
      "text/plain": [
       "<Figure size 432x288 with 1 Axes>"
      ]
     },
     "metadata": {
      "needs_background": "light"
     },
     "output_type": "display_data"
    }
   ],
   "source": [
    "dataset = datasets.MNIST(\n",
    "    '../data',\n",
    "    train=False,\n",
    "    transform=transforms.Compose([\n",
    "       transforms.ToTensor(),\n",
    "       transforms.Lambda(lambda x: distort(x, num_pixels=100)),\n",
    "    ])\n",
    ")\n",
    "x, _ = dataset[0] # x is now a torch.Tensor\n",
    "plt.imshow(x.numpy()[0], cmap='gray')"
   ]
  },
  {
   "cell_type": "code",
   "execution_count": null,
   "metadata": {},
   "outputs": [],
   "source": []
  }
 ],
 "metadata": {
  "interpreter": {
   "hash": "31f2aee4e71d21fbe5cf8b01ff0e069b9275f58929596ceb00d14d90e3e16cd6"
  },
  "kernelspec": {
   "display_name": "cs7643-final-project-cpu",
   "language": "python",
   "name": "cs7643-final-project-cpu"
  },
  "language_info": {
   "codemirror_mode": {
    "name": "ipython",
    "version": 3
   },
   "file_extension": ".py",
   "mimetype": "text/x-python",
   "name": "python",
   "nbconvert_exporter": "python",
   "pygments_lexer": "ipython3",
   "version": "3.9.4"
  }
 },
 "nbformat": 4,
 "nbformat_minor": 4
}
