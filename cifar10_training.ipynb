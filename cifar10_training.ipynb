{
 "cells": [
  {
   "cell_type": "code",
   "execution_count": 1,
   "id": "cb6a83bd-4709-4062-b443-9f7f5e3f95f4",
   "metadata": {},
   "outputs": [],
   "source": [
    "%load_ext autoreload\n",
    "%autoreload 2"
   ]
  },
  {
   "cell_type": "code",
   "execution_count": 2,
   "id": "e53c8c4d-987c-4ae1-8ddf-4e04f1d9a379",
   "metadata": {},
   "outputs": [
    {
     "name": "stdout",
     "output_type": "stream",
     "text": [
      "Downloading https://www.cs.toronto.edu/~kriz/cifar-10-python.tar.gz to ./data/cifar-10-python.tar.gz\n"
     ]
    },
    {
     "name": "stderr",
     "output_type": "stream",
     "text": [
      "100.0%\n"
     ]
    },
    {
     "name": "stdout",
     "output_type": "stream",
     "text": [
      "Extracting ./data/cifar-10-python.tar.gz to ./data\n",
      "45000 in training set\n",
      "5000 in validation set\n"
     ]
    }
   ],
   "source": [
    "import copy\n",
    "import matplotlib.pyplot as plt\n",
    "from sklearn.model_selection import train_test_split\n",
    "import torch\n",
    "import torch.nn as nn\n",
    "import torchvision\n",
    "import torchvision.transforms as transforms\n",
    "\n",
    "DIR = '.'\n",
    "DATA_DIR = f'{DIR}/data'\n",
    "NAME = 'cifar10'\n",
    "\n",
    "training_set = torchvision.datasets.CIFAR10(root=DATA_DIR, train=True, download=True, \n",
    "                                            transform=transforms.ToTensor())\n",
    "\n",
    "training_indices, validation_indices, _, _ = train_test_split(\n",
    "    range(len(training_set)),\n",
    "    training_set.targets,\n",
    "    stratify=training_set.targets,\n",
    "    test_size=0.1,\n",
    ")\n",
    "training_split = torch.utils.data.Subset(training_set, training_indices)\n",
    "validation_split = torch.utils.data.Subset(training_set, validation_indices)\n",
    "\n",
    "print(f\"{len(training_split)} in training set\")\n",
    "print(f\"{len(validation_split)} in validation set\")"
   ]
  },
  {
   "cell_type": "code",
   "execution_count": 4,
   "id": "5f95b4c9-f0d1-4a59-8575-8e2b48397a64",
   "metadata": {},
   "outputs": [
    {
     "name": "stderr",
     "output_type": "stream",
     "text": [
      "/usr/local/anaconda3/envs/cs7643-final-project-cpu/lib/python3.9/site-packages/torch/nn/functional.py:718: UserWarning: Named tensors and all their associated APIs are an experimental feature and subject to change. Please do not use them for anything important until they are released as stable. (Triggered internally at  /Users/distiller/project/conda/conda-bld/pytorch_1623459065530/work/c10/core/TensorImpl.h:1156.)\n",
      "  return torch.max_pool2d(input, kernel_size, stride, padding, dilation, ceil_mode)\n"
     ]
    },
    {
     "name": "stdout",
     "output_type": "stream",
     "text": [
      "Epoch: [0][0/8]\tLoss 2.3979 (2.3979)\tPrec @1 0.1250 (0.1250)\t\n",
      "Epoch 0 | Training accuracy: 0.19599999487400055% | Validation accuracy: 0.25619998574256897%\n"
     ]
    },
    {
     "data": {
      "image/png": "[encoded data removed]",
      "text/plain": [
       "<Figure size 432x288 with 1 Axes>"
      ]
     },
     "metadata": {
      "needs_background": "light"
     },
     "output_type": "display_data"
    },
    {
     "data": {
      "image/png": "[encoded data removed]",
      "text/plain": [
       "<Figure size 432x288 with 1 Axes>"
      ]
     },
     "metadata": {
      "needs_background": "light"
     },
     "output_type": "display_data"
    },
    {
     "name": "stdout",
     "output_type": "stream",
     "text": [
      "Best Validation Acccuracy: 0.2562\n"
     ]
    }
   ],
   "source": [
    "import team36\n",
    "from team36.mnist.vgg import VGG\n",
    "from team36.training import train, validate\n",
    "\n",
    "learning_rate = 1e-3\n",
    "momentum = 5e-1\n",
    "weight_decay = 5e-2\n",
    "batch_size = 128\n",
    "epochs = 1\n",
    "\n",
    "sampler = torch.utils.data.RandomSampler(training_split, replacement=True, num_samples=1000)\n",
    "training_loader = torch.utils.data.DataLoader(training_split, batch_size=batch_size, sampler=sampler)\n",
    "test_loader = torch.utils.data.DataLoader(validation_split, batch_size=100, shuffle=False, num_workers=2)\n",
    "\n",
    "model = VGG(image_size=32, in_channels=3)\n",
    "if torch.cuda.is_available():\n",
    "    model = model.cuda()\n",
    "\n",
    "criterion = nn.CrossEntropyLoss()\n",
    "\n",
    "optimizer = torch.optim.SGD(model.parameters(), learning_rate,\n",
    "                            momentum=momentum, weight_decay=weight_decay)\n",
    "\n",
    "best = 0.0\n",
    "best_cm = None\n",
    "best_model = None\n",
    "train_accuracy_history = []\n",
    "train_loss_history = []\n",
    "validation_accuracy_history = []\n",
    "validation_loss_history = []\n",
    "for epoch in range(epochs):\n",
    "    train_acc, train_loss = train(epoch, training_loader, model, optimizer, criterion)\n",
    "    train_accuracy_history.append(train_acc)\n",
    "    train_loss_history.append(train_loss)\n",
    "    \n",
    "    acc, cm, loss = validate(epoch, test_loader, model, criterion)\n",
    "    validation_accuracy_history.append(acc)\n",
    "    validation_loss_history.append(loss)\n",
    "    \n",
    "    print(\"Epoch {0} | Training accuracy: {1}% | Validation accuracy: {2}%\".format(epoch, train_acc, acc))\n",
    "    \n",
    "    if acc > best:\n",
    "        best = acc\n",
    "        best_cm = cm\n",
    "        best_model = copy.deepcopy(model)\n",
    "        \n",
    "training_curve, = plt.plot(train_accuracy_history, label='training')\n",
    "validation_curve, = plt.plot(validation_accuracy_history, label='validation')\n",
    "plt.title('Accuracy Curve')\n",
    "plt.legend(handles=[training_curve, validation_curve])\n",
    "plt.xlabel('Epoch')\n",
    "plt.ylabel('Accuracy')\n",
    "plt.show()\n",
    "\n",
    "training_curve, = plt.plot(train_loss_history, label='training')\n",
    "validation_curve, = plt.plot(validation_loss_history, label='validation')\n",
    "plt.title('Loss Curve')\n",
    "plt.legend(handles=[training_curve, validation_curve])\n",
    "plt.xlabel('Epoch')\n",
    "plt.ylabel('Loss')\n",
    "plt.show()\n",
    "\n",
    "print('Best Validation Acccuracy: {:.4f}'.format(best))"
   ]
  },
  {
   "cell_type": "code",
   "execution_count": null,
   "id": "bacb5e6f-05d6-4d63-93d7-0c8b24c805b1",
   "metadata": {},
   "outputs": [],
   "source": []
  }
 ],
 "metadata": {
  "kernelspec": {
   "display_name": "cs7643-final-project-cpu",
   "language": "python",
   "name": "cs7643-final-project-cpu"
  },
  "language_info": {
   "codemirror_mode": {
    "name": "ipython",
    "version": 3
   },
   "file_extension": ".py",
   "mimetype": "text/x-python",
   "name": "python",
   "nbconvert_exporter": "python",
   "pygments_lexer": "ipython3",
   "version": "3.9.4"
  }
 },
 "nbformat": 4,
 "nbformat_minor": 5
}
