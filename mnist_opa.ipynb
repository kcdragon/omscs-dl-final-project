{
 "cells": [
  {
   "cell_type": "code",
   "execution_count": 1,
   "metadata": {},
   "outputs": [],
   "source": [
    "%load_ext autoreload\n",
    "%autoreload 2"
   ]
  },
  {
   "cell_type": "code",
   "execution_count": 16,
   "metadata": {},
   "outputs": [
    {
     "name": "stderr",
     "output_type": "stream",
     "text": [
      "usage: ipykernel_launcher.py [-h] [--model MODEL] [--pixels PIXELS]\n",
      "                             [--maxiter MAXITER] [--popsize POPSIZE]\n",
      "                             [--samples SAMPLES] [--targeted] [--save SAVE]\n",
      "                             [--verbose]\n",
      "ipykernel_launcher.py: error: unrecognized arguments: -f /Users/jancetherapper/Library/Jupyter/runtime/kernel-097fe94f-d28b-4302-bbb6-61be49f86eda.json\n"
     ]
    },
    {
     "ename": "SystemExit",
     "evalue": "2",
     "output_type": "error",
     "traceback": [
      "An exception has occurred, use %tb to see the full traceback.\n",
      "\u001b[0;31mSystemExit\u001b[0m\u001b[0;31m:\u001b[0m 2\n"
     ]
    },
    {
     "name": "stderr",
     "output_type": "stream",
     "text": [
      "/Users/jancetherapper/opt/anaconda3/envs/cs7643-final-project-cpu/lib/python3.9/site-packages/IPython/core/interactiveshell.py:3445: UserWarning: To exit: use 'exit', 'quit', or Ctrl-D.\n",
      "  warn(\"To exit: use 'exit', 'quit', or Ctrl-D.\", stacklevel=1)\n"
     ]
    }
   ],
   "source": [
    "import copy\n",
    "import matplotlib.pyplot as plt\n",
    "from sklearn.model_selection import train_test_split\n",
    "import torch\n",
    "import torch.nn as nn\n",
    "import torchvision\n",
    "import torchvision.transforms as transforms\n",
    "from team36.attacks.one_pixel_attack import \n",
    "from team36.mnist.vgg import VGG\n",
    "from team36.attacks.fast_gradient_attack_data_set import FastSignGradientAttackDataSet\n",
    "\n",
    "DIR = '.'\n",
    "DATA_DIR = f'{DIR}/data'\n",
    "\n",
    "training_set = torchvision.datasets.MNIST(root=DATA_DIR, train=True, download=True, \n",
    "                                          transform=transforms.ToTensor())\n",
    "\n",
    "prev_model = VGG()\n",
    "state_dict = torch.load(f\"{DIR}/checkpoints/mnist-vgg.pth\", map_location=torch.device('cpu'))\n",
    "prev_model.load_state_dict(state_dict)\n",
    "prev_criterion = nn.CrossEntropyLoss()\n",
    "\n",
    "attack_training_set = FastSignGradientAttackDataSet(training_set, prev_model, prev_criterion, \n",
    "                                                    epsilon=0.25)\n",
    "\n",
    "\n",
    "indices = torch.randperm(len(attack_training_set))[:int(len(attack_training_set) * 0.1)]\n",
    "attack_training_set = torch.utils.data.Subset(attack_training_set, indices)\n",
    "\n",
    "combined_training_set = torch.utils.data.ConcatDataset([training_set, attack_training_set])\n",
    "\n",
    "training_indices, validation_indices = train_test_split(\n",
    "    range(len(combined_training_set)),\n",
    "    test_size=0.1,\n",
    ")\n",
    "training_split = torch.utils.data.Subset(combined_training_set, training_indices)\n",
    "validation_split = torch.utils.data.Subset(combined_training_set, validation_indices)\n",
    "\n",
    "print(f\"{len(training_split)} in training set\")\n",
    "print(f\"{len(validation_split)} in validation set\")"
   ]
  },
  {
   "cell_type": "code",
   "execution_count": null,
   "metadata": {},
   "outputs": [],
   "source": [
    "from team36.mnist.vgg import VGG\n",
    "from team36.training import train, validate\n",
    "\n",
    "learning_rate = 5e-3\n",
    "momentum = 5e-1\n",
    "weight_decay = 5e-2\n",
    "batch_size = 256\n",
    "epochs = 3\n",
    "\n",
    "sampler = torch.utils.data.RandomSampler(training_split, replacement=True, num_samples=1000)\n",
    "training_loader = torch.utils.data.DataLoader(training_split, batch_size=batch_size, sampler=sampler)\n",
    "test_loader = torch.utils.data.DataLoader(validation_split, batch_size=100, shuffle=False)\n",
    "\n",
    "model = VGG()\n",
    "if torch.cuda.is_available():\n",
    "    model = model.cuda()\n",
    "\n",
    "criterion = nn.CrossEntropyLoss()\n",
    "\n",
    "optimizer = torch.optim.SGD(model.parameters(), learning_rate,\n",
    "                            momentum=momentum, weight_decay=weight_decay)\n",
    "\n",
    "best = 0.0\n",
    "best_cm = None\n",
    "best_model = None\n",
    "train_accuracy_history = []\n",
    "train_loss_history = []\n",
    "validation_accuracy_history = []\n",
    "validation_loss_history = []\n",
    "for epoch in range(epochs):\n",
    "    train_acc, train_loss = train(epoch, training_loader, model, optimizer, criterion)\n",
    "    train_accuracy_history.append(train_acc)\n",
    "    train_loss_history.append(train_loss)\n",
    "    \n",
    "    acc, cm, loss = validate(epoch, test_loader, model, criterion)\n",
    "    validation_accuracy_history.append(acc)\n",
    "    validation_loss_history.append(loss)\n",
    "    \n",
    "    print(\"Epoch {0} | Training accuracy: {1}% | Validation accuracy: {2}%\".format(epoch, train_acc, acc))\n",
    "    \n",
    "    if acc > best:\n",
    "        best = acc\n",
    "        best_cm = cm\n",
    "        best_model = copy.deepcopy(model)\n",
    "        \n",
    "training_curve, = plt.plot(train_accuracy_history, label='training')\n",
    "validation_curve, = plt.plot(validation_accuracy_history, label='validation')\n",
    "plt.title('Accuracy Curve')\n",
    "plt.legend(handles=[training_curve, validation_curve])\n",
    "plt.xlabel('Epoch')\n",
    "plt.ylabel('Accuracy')\n",
    "plt.show()\n",
    "\n",
    "training_curve, = plt.plot(train_loss_history, label='training')\n",
    "validation_curve, = plt.plot(validation_loss_history, label='validation')\n",
    "plt.title('Loss Curve')\n",
    "plt.legend(handles=[training_curve, validation_curve])\n",
    "plt.xlabel('Epoch')\n",
    "plt.ylabel('Loss')\n",
    "plt.show()\n",
    "\n",
    "print('Best Validation Acccuracy: {:.4f}'.format(best))"
   ]
  },
  {
   "cell_type": "code",
   "execution_count": 20,
   "metadata": {},
   "outputs": [
    {
     "name": "stdout",
     "output_type": "stream",
     "text": [
      "Downloading http://yann.lecun.com/exdb/mnist/train-images-idx3-ubyte.gz\n",
      "Downloading http://yann.lecun.com/exdb/mnist/train-images-idx3-ubyte.gz to ../data/MNIST/raw/train-images-idx3-ubyte.gz\n"
     ]
    },
    {
     "name": "stderr",
     "output_type": "stream",
     "text": [
      "100.0%\n"
     ]
    },
    {
     "name": "stdout",
     "output_type": "stream",
     "text": [
      "Extracting ../data/MNIST/raw/train-images-idx3-ubyte.gz to ../data/MNIST/raw\n",
      "\n",
      "Downloading http://yann.lecun.com/exdb/mnist/train-labels-idx1-ubyte.gz\n",
      "Downloading http://yann.lecun.com/exdb/mnist/train-labels-idx1-ubyte.gz to ../data/MNIST/raw/train-labels-idx1-ubyte.gz\n"
     ]
    },
    {
     "name": "stderr",
     "output_type": "stream",
     "text": [
      "102.8%\n"
     ]
    },
    {
     "name": "stdout",
     "output_type": "stream",
     "text": [
      "Extracting ../data/MNIST/raw/train-labels-idx1-ubyte.gz to ../data/MNIST/raw\n",
      "\n",
      "Downloading http://yann.lecun.com/exdb/mnist/t10k-images-idx3-ubyte.gz\n",
      "Downloading http://yann.lecun.com/exdb/mnist/t10k-images-idx3-ubyte.gz to ../data/MNIST/raw/t10k-images-idx3-ubyte.gz\n"
     ]
    },
    {
     "name": "stderr",
     "output_type": "stream",
     "text": [
      "100.0%\n"
     ]
    },
    {
     "name": "stdout",
     "output_type": "stream",
     "text": [
      "Extracting ../data/MNIST/raw/t10k-images-idx3-ubyte.gz to ../data/MNIST/raw\n",
      "\n",
      "Downloading http://yann.lecun.com/exdb/mnist/t10k-labels-idx1-ubyte.gz\n",
      "Downloading http://yann.lecun.com/exdb/mnist/t10k-labels-idx1-ubyte.gz to ../data/MNIST/raw/t10k-labels-idx1-ubyte.gz\n"
     ]
    },
    {
     "name": "stderr",
     "output_type": "stream",
     "text": [
      "112.7%\n",
      "/Users/jancetherapper/opt/anaconda3/envs/cs7643-final-project-cpu/lib/python3.9/site-packages/torchvision/datasets/mnist.py:502: UserWarning: The given NumPy array is not writeable, and PyTorch does not support non-writeable tensors. This means you can write to the underlying (supposedly non-writeable) NumPy array using the tensor. You may want to copy the array to protect its data or make it writeable before converting it to a tensor. This type of warning will be suppressed for the rest of this program. (Triggered internally at  /tmp/pip-req-build-2et07ktc/torch/csrc/utils/tensor_numpy.cpp:180.)\n",
      "  return torch.from_numpy(parsed.astype(m[2], copy=False)).view(*s)\n",
      "/Users/jancetherapper/opt/anaconda3/envs/cs7643-final-project-cpu/lib/python3.9/site-packages/torch/nn/functional.py:718: UserWarning: Named tensors and all their associated APIs are an experimental feature and subject to change. Please do not use them for anything important until they are released as stable. (Triggered internally at  /tmp/pip-req-build-2et07ktc/c10/core/TensorImpl.h:1156.)\n",
      "  return torch.max_pool2d(input, kernel_size, stride, padding, dilation, ceil_mode)\n"
     ]
    },
    {
     "name": "stdout",
     "output_type": "stream",
     "text": [
      "Extracting ../data/MNIST/raw/t10k-labels-idx1-ubyte.gz to ../data/MNIST/raw\n",
      "\n",
      "Processing...\n",
      "Done!\n",
      "Train Epoch: 0 [6400/60000\t(11%)]\tLoss: 0.531884\n",
      "Train Epoch: 0 [12800/60000\t(21%)]\tLoss: 0.364874\n",
      "Train Epoch: 0 [19200/60000\t(32%)]\tLoss: 0.323377\n",
      "Train Epoch: 0 [25600/60000\t(43%)]\tLoss: 0.201470\n",
      "Train Epoch: 0 [32000/60000\t(53%)]\tLoss: 0.300988\n",
      "Train Epoch: 0 [38400/60000\t(64%)]\tLoss: 0.101188\n",
      "Train Epoch: 0 [44800/60000\t(75%)]\tLoss: 0.068940\n",
      "Train Epoch: 0 [51200/60000\t(85%)]\tLoss: 0.114321\n",
      "Train Epoch: 0 [57600/60000\t(96%)]\tLoss: 0.094852\n",
      "\n",
      "Average loss: 0.1012, Accuracy: 58238/60000 (97%)\n",
      "\n",
      "Train Epoch: 1 [6400/60000\t(11%)]\tLoss: 0.153081\n",
      "Train Epoch: 1 [12800/60000\t(21%)]\tLoss: 0.090363\n",
      "Train Epoch: 1 [19200/60000\t(32%)]\tLoss: 0.166571\n",
      "Train Epoch: 1 [25600/60000\t(43%)]\tLoss: 0.026872\n",
      "Train Epoch: 1 [32000/60000\t(53%)]\tLoss: 0.133126\n",
      "Train Epoch: 1 [38400/60000\t(64%)]\tLoss: 0.033512\n",
      "Train Epoch: 1 [44800/60000\t(75%)]\tLoss: 0.139802\n",
      "Train Epoch: 1 [51200/60000\t(85%)]\tLoss: 0.094382\n",
      "Train Epoch: 1 [57600/60000\t(96%)]\tLoss: 0.013766\n",
      "\n",
      "Average loss: 0.0621, Accuracy: 58875/60000 (98%)\n",
      "\n",
      "Train Epoch: 2 [6400/60000\t(11%)]\tLoss: 0.195845\n",
      "Train Epoch: 2 [12800/60000\t(21%)]\tLoss: 0.015865\n",
      "Train Epoch: 2 [19200/60000\t(32%)]\tLoss: 0.039644\n",
      "Train Epoch: 2 [25600/60000\t(43%)]\tLoss: 0.076969\n",
      "Train Epoch: 2 [32000/60000\t(53%)]\tLoss: 0.015770\n",
      "Train Epoch: 2 [38400/60000\t(64%)]\tLoss: 0.063060\n",
      "Train Epoch: 2 [44800/60000\t(75%)]\tLoss: 0.075729\n",
      "Train Epoch: 2 [51200/60000\t(85%)]\tLoss: 0.024302\n",
      "Train Epoch: 2 [57600/60000\t(96%)]\tLoss: 0.080565\n",
      "\n",
      "Average loss: 0.0499, Accuracy: 59111/60000 (99%)\n",
      "\n",
      "Train Epoch: 3 [6400/60000\t(11%)]\tLoss: 0.028706\n",
      "Train Epoch: 3 [12800/60000\t(21%)]\tLoss: 0.045727\n",
      "Train Epoch: 3 [19200/60000\t(32%)]\tLoss: 0.015073\n",
      "Train Epoch: 3 [25600/60000\t(43%)]\tLoss: 0.010180\n",
      "Train Epoch: 3 [32000/60000\t(53%)]\tLoss: 0.012424\n",
      "Train Epoch: 3 [38400/60000\t(64%)]\tLoss: 0.067522\n",
      "Train Epoch: 3 [44800/60000\t(75%)]\tLoss: 0.025600\n",
      "Train Epoch: 3 [51200/60000\t(85%)]\tLoss: 0.187406\n",
      "Train Epoch: 3 [57600/60000\t(96%)]\tLoss: 0.005033\n",
      "\n",
      "Average loss: 0.0420, Accuracy: 59219/60000 (99%)\n",
      "\n",
      "Train Epoch: 4 [6400/60000\t(11%)]\tLoss: 0.021772\n",
      "Train Epoch: 4 [12800/60000\t(21%)]\tLoss: 0.100968\n",
      "Train Epoch: 4 [19200/60000\t(32%)]\tLoss: 0.062881\n",
      "Train Epoch: 4 [25600/60000\t(43%)]\tLoss: 0.039927\n",
      "Train Epoch: 4 [32000/60000\t(53%)]\tLoss: 0.067544\n",
      "Train Epoch: 4 [38400/60000\t(64%)]\tLoss: 0.026689\n",
      "Train Epoch: 4 [44800/60000\t(75%)]\tLoss: 0.072854\n",
      "Train Epoch: 4 [51200/60000\t(85%)]\tLoss: 0.007996\n",
      "Train Epoch: 4 [57600/60000\t(96%)]\tLoss: 0.016714\n",
      "\n",
      "Average loss: 0.0323, Accuracy: 59409/60000 (99%)\n",
      "\n",
      "Train Epoch: 5 [6400/60000\t(11%)]\tLoss: 0.012969\n",
      "Train Epoch: 5 [12800/60000\t(21%)]\tLoss: 0.024117\n",
      "Train Epoch: 5 [19200/60000\t(32%)]\tLoss: 0.065518\n",
      "Train Epoch: 5 [25600/60000\t(43%)]\tLoss: 0.007381\n",
      "Train Epoch: 5 [32000/60000\t(53%)]\tLoss: 0.006489\n",
      "Train Epoch: 5 [38400/60000\t(64%)]\tLoss: 0.041837\n",
      "Train Epoch: 5 [44800/60000\t(75%)]\tLoss: 0.127228\n",
      "Train Epoch: 5 [51200/60000\t(85%)]\tLoss: 0.041576\n",
      "Train Epoch: 5 [57600/60000\t(96%)]\tLoss: 0.019978\n",
      "\n",
      "Average loss: 0.0278, Accuracy: 59485/60000 (99%)\n",
      "\n",
      "Train Epoch: 6 [6400/60000\t(11%)]\tLoss: 0.003633\n",
      "Train Epoch: 6 [12800/60000\t(21%)]\tLoss: 0.003457\n",
      "Train Epoch: 6 [19200/60000\t(32%)]\tLoss: 0.046426\n",
      "Train Epoch: 6 [25600/60000\t(43%)]\tLoss: 0.009538\n",
      "Train Epoch: 6 [32000/60000\t(53%)]\tLoss: 0.004034\n",
      "Train Epoch: 6 [38400/60000\t(64%)]\tLoss: 0.010751\n",
      "Train Epoch: 6 [44800/60000\t(75%)]\tLoss: 0.035596\n",
      "Train Epoch: 6 [51200/60000\t(85%)]\tLoss: 0.031270\n",
      "Train Epoch: 6 [57600/60000\t(96%)]\tLoss: 0.021302\n",
      "\n",
      "Average loss: 0.0238, Accuracy: 59561/60000 (99%)\n",
      "\n",
      "Train Epoch: 7 [6400/60000\t(11%)]\tLoss: 0.033153\n",
      "Train Epoch: 7 [12800/60000\t(21%)]\tLoss: 0.040854\n",
      "Train Epoch: 7 [19200/60000\t(32%)]\tLoss: 0.025012\n",
      "Train Epoch: 7 [25600/60000\t(43%)]\tLoss: 0.022155\n",
      "Train Epoch: 7 [32000/60000\t(53%)]\tLoss: 0.009400\n",
      "Train Epoch: 7 [38400/60000\t(64%)]\tLoss: 0.002167\n",
      "Train Epoch: 7 [44800/60000\t(75%)]\tLoss: 0.023559\n",
      "Train Epoch: 7 [51200/60000\t(85%)]\tLoss: 0.076404\n",
      "Train Epoch: 7 [57600/60000\t(96%)]\tLoss: 0.022553\n",
      "\n",
      "Average loss: 0.0257, Accuracy: 59532/60000 (99%)\n",
      "\n",
      "Train Epoch: 8 [6400/60000\t(11%)]\tLoss: 0.008646\n",
      "Train Epoch: 8 [12800/60000\t(21%)]\tLoss: 0.030095\n",
      "Train Epoch: 8 [19200/60000\t(32%)]\tLoss: 0.048851\n",
      "Train Epoch: 8 [25600/60000\t(43%)]\tLoss: 0.005932\n",
      "Train Epoch: 8 [32000/60000\t(53%)]\tLoss: 0.017825\n",
      "Train Epoch: 8 [38400/60000\t(64%)]\tLoss: 0.017256\n",
      "Train Epoch: 8 [44800/60000\t(75%)]\tLoss: 0.015309\n",
      "Train Epoch: 8 [51200/60000\t(85%)]\tLoss: 0.014493\n",
      "Train Epoch: 8 [57600/60000\t(96%)]\tLoss: 0.003893\n",
      "\n",
      "Average loss: 0.0185, Accuracy: 59659/60000 (99%)\n",
      "\n",
      "Train Epoch: 9 [6400/60000\t(11%)]\tLoss: 0.046073\n",
      "Train Epoch: 9 [12800/60000\t(21%)]\tLoss: 0.040560\n",
      "Train Epoch: 9 [19200/60000\t(32%)]\tLoss: 0.003760\n",
      "Train Epoch: 9 [25600/60000\t(43%)]\tLoss: 0.002847\n",
      "Train Epoch: 9 [32000/60000\t(53%)]\tLoss: 0.007958\n",
      "Train Epoch: 9 [38400/60000\t(64%)]\tLoss: 0.010100\n",
      "Train Epoch: 9 [44800/60000\t(75%)]\tLoss: 0.010494\n",
      "Train Epoch: 9 [51200/60000\t(85%)]\tLoss: 0.003090\n",
      "Train Epoch: 9 [57600/60000\t(96%)]\tLoss: 0.002467\n",
      "\n",
      "Average loss: 0.0143, Accuracy: 59760/60000 (100%)\n",
      "\n"
     ]
    }
   ],
   "source": [
    "import numpy as np\n",
    "import argparse\n",
    "import torch\n",
    "import torch.nn as nn\n",
    "import torch.nn.functional as F\n",
    "import torch.optim as optim\n",
    "from torchvision import datasets, transforms\n",
    "from sklearn.metrics import *\n",
    "from matplotlib import pyplot as plt\n",
    "from random import random\n",
    "from IPython.display import clear_output\n",
    "%matplotlib inline\n",
    "\n",
    "class CNN(nn.Module):\n",
    "    def __init__(self):\n",
    "        super(CNN, self).__init__()\n",
    "        self.conv1 = nn.Conv2d(1, 20, 5, 1)\n",
    "        self.conv2 = nn.Conv2d(20, 50, 5, 1)\n",
    "        self.fc1 = nn.Linear(4*4*50, 500)\n",
    "        self.fc2 = nn.Linear(500, 10)\n",
    "\n",
    "    def forward(self, x):\n",
    "        x = F.relu(self.conv1(x))\n",
    "        x = F.max_pool2d(x, 2, 2)\n",
    "        x = F.relu(self.conv2(x))\n",
    "        x = F.max_pool2d(x, 2, 2)\n",
    "        x = x.view(-1, 4*4*50)\n",
    "        x = F.relu(self.fc1(x))\n",
    "        x = self.fc2(x)\n",
    "        return F.log_softmax(x, dim=1)\n",
    "    \n",
    "def train(model, device, train_loader, optimizer, epoch):\n",
    "    losses = []\n",
    "    model.train()\n",
    "    for batch_idx, (data, target) in enumerate(train_loader):\n",
    "        data, target = data.to(device), target.to(device)\n",
    "        optimizer.zero_grad()\n",
    "        output = model(data)\n",
    "        loss = F.nll_loss(output, target)\n",
    "        loss.backward()\n",
    "        optimizer.step()\n",
    "        losses.append(loss.item())\n",
    "        if batch_idx > 0 and batch_idx % 100 == 0:\n",
    "            print('Train Epoch: {} [{}/{}\\t({:.0f}%)]\\tLoss: {:.6f}'.format(\n",
    "                epoch, batch_idx * len(data), len(train_loader.dataset),\n",
    "                100. * batch_idx / len(train_loader), loss.item()))\n",
    "    return losses\n",
    "\n",
    "def test(model, device, test_loader):\n",
    "    model.eval()\n",
    "    test_loss = 0\n",
    "    correct = 0\n",
    "    with torch.no_grad():\n",
    "        for data, target in test_loader:\n",
    "            data, target = data.to(device), target.to(device)\n",
    "            output = model(data)\n",
    "            test_loss += F.nll_loss(output, target, reduction='sum').item() # sum up batch loss\n",
    "            pred = output.argmax(dim=1, keepdim=True) # get the index of the max log-probability\n",
    "            correct += pred.eq(target.view_as(pred)).sum().item()\n",
    "    test_loss /= len(test_loader.dataset)\n",
    "    print('\\nAverage loss: {:.4f}, Accuracy: {}/{} ({:.0f}%)\\n'.format(\n",
    "        test_loss, correct, len(test_loader.dataset),\n",
    "        100. * correct / len(test_loader.dataset)))\n",
    "    return (float(correct) / len(test_loader.dataset))\n",
    "\n",
    "train_loader = torch.utils.data.DataLoader(\n",
    "    datasets.MNIST(\n",
    "        '../data',\n",
    "       train=True,\n",
    "       download=True,\n",
    "       transform=transforms.Compose([\n",
    "           transforms.ToTensor(),\n",
    "           transforms.Normalize((0.1307,), (0.3081,))\n",
    "       ])\n",
    "    ),\n",
    "    batch_size=64,\n",
    "    shuffle=True)\n",
    "test_loader = torch.utils.data.DataLoader(\n",
    "    datasets.MNIST(\n",
    "        '../data',\n",
    "        train=False,\n",
    "        transform=transforms.Compose([\n",
    "           transforms.ToTensor(),\n",
    "           transforms.Normalize((0.1307,), (0.3081,))\n",
    "        ])\n",
    "    ),\n",
    "    batch_size=1000,\n",
    "    shuffle=True)\n",
    "\n",
    "model = CNN()\n",
    "optimizer = optim.SGD(model.parameters(), lr=0.01, momentum=0.5)\n",
    "device = torch.device(\"cpu\") # or 'gpu'\n",
    "losses = []\n",
    "accuracies = []\n",
    "for epoch in range(0, 10):\n",
    "    losses.extend(train(model, device, train_loader, optimizer, epoch))\n",
    "    accuracies.append(test(model, device, train_loader))"
   ]
  },
  {
   "cell_type": "code",
   "execution_count": 36,
   "metadata": {},
   "outputs": [
    {
     "name": "stdout",
     "output_type": "stream",
     "text": [
      "54000 in training set\n",
      "6000 in validation set\n",
      "Epoch: [0][0/8]\tLoss 2.5985 (2.5985)\tPrec @1 0.0625 (0.0625)\t\n",
      "Epoch 0 | Training accuracy: 0.33799999952316284% | Validation accuracy: 0.7254999876022339%\n",
      "Epoch: [1][0/8]\tLoss 1.2500 (1.2500)\tPrec @1 0.7188 (0.7188)\t\n",
      "Epoch 1 | Training accuracy: 0.7789999842643738% | Validation accuracy: 0.8198333382606506%\n",
      "Epoch: [2][0/8]\tLoss 0.7767 (0.7767)\tPrec @1 0.8906 (0.8906)\t\n",
      "Epoch 2 | Training accuracy: 0.8669999837875366% | Validation accuracy: 0.8556666374206543%\n",
      "Epoch: [3][0/8]\tLoss 0.6891 (0.6891)\tPrec @1 0.8828 (0.8828)\t\n",
      "Epoch 3 | Training accuracy: 0.8960000276565552% | Validation accuracy: 0.871833324432373%\n",
      "Epoch: [4][0/8]\tLoss 0.6301 (0.6301)\tPrec @1 0.8438 (0.8438)\t\n",
      "Epoch 4 | Training accuracy: 0.875% | Validation accuracy: 0.8983333110809326%\n",
      "Epoch: [5][0/8]\tLoss 0.5103 (0.5103)\tPrec @1 0.8906 (0.8906)\t\n",
      "Epoch 5 | Training accuracy: 0.9169999957084656% | Validation accuracy: 0.8973333239555359%\n",
      "Epoch: [6][0/8]\tLoss 0.3863 (0.3863)\tPrec @1 0.9141 (0.9141)\t\n",
      "Epoch 6 | Training accuracy: 0.9139999747276306% | Validation accuracy: 0.9054999947547913%\n",
      "Epoch: [7][0/8]\tLoss 0.4170 (0.4170)\tPrec @1 0.9062 (0.9062)\t\n",
      "Epoch 7 | Training accuracy: 0.9309999942779541% | Validation accuracy: 0.9203333258628845%\n",
      "Epoch: [8][0/8]\tLoss 0.2686 (0.2686)\tPrec @1 0.9609 (0.9609)\t\n",
      "Epoch 8 | Training accuracy: 0.9359999895095825% | Validation accuracy: 0.9223333597183228%\n",
      "Epoch: [9][0/8]\tLoss 0.2692 (0.2692)\tPrec @1 0.9297 (0.9297)\t\n",
      "Epoch 9 | Training accuracy: 0.9269999861717224% | Validation accuracy: 0.9315000176429749%\n"
     ]
    },
    {
     "data": {
      "image/png": "[encoded data removed]",
      "text/plain": [
       "<Figure size 432x288 with 1 Axes>"
      ]
     },
     "metadata": {
      "needs_background": "light"
     },
     "output_type": "display_data"
    },
    {
     "data": {
      "image/png": "[encoded data removed]",
      "text/plain": [
       "<Figure size 432x288 with 1 Axes>"
      ]
     },
     "metadata": {
      "needs_background": "light"
     },
     "output_type": "display_data"
    },
    {
     "name": "stdout",
     "output_type": "stream",
     "text": [
      "Best Validation Acccuracy: 0.9315\n"
     ]
    }
   ],
   "source": [
    "import team36\n",
    "from team36.mnist.vgg import VGG\n",
    "from team36.training import train, validate\n",
    "import copy\n",
    "import matplotlib.pyplot as plt\n",
    "from sklearn.model_selection import train_test_split\n",
    "import torch\n",
    "import torch.nn as nn\n",
    "import torchvision\n",
    "import torchvision.transforms as transforms\n",
    "\n",
    "DIR = '.'\n",
    "DATA_DIR = f'{DIR}/data'\n",
    "NAME = 'mnist'\n",
    "\n",
    "training_set = torchvision.datasets.MNIST(root=DATA_DIR, train=True, download=True, \n",
    "                                          transform=transforms.ToTensor())\n",
    "\n",
    "training_indices, validation_indices, _, _ = train_test_split(\n",
    "    range(len(training_set)),\n",
    "    training_set.targets,\n",
    "    stratify=training_set.targets,\n",
    "    test_size=0.1,\n",
    ")\n",
    "training_split = torch.utils.data.Subset(training_set, training_indices)\n",
    "validation_split = torch.utils.data.Subset(training_set, validation_indices)\n",
    "\n",
    "print(f\"{len(training_split)} in training set\")\n",
    "print(f\"{len(validation_split)} in validation set\")\n",
    "\n",
    "learning_rate = 1e-3\n",
    "momentum = 5e-1\n",
    "weight_decay = 5e-2\n",
    "batch_size = 128\n",
    "epochs = 10\n",
    "\n",
    "sampler = torch.utils.data.RandomSampler(training_split, replacement=True, num_samples=1000)\n",
    "training_loader = torch.utils.data.DataLoader(training_split, batch_size=batch_size, sampler=sampler)\n",
    "test_loader = torch.utils.data.DataLoader(validation_split, batch_size=100, shuffle=False, num_workers=2)\n",
    "\n",
    "\n",
    "model = VGG()\n",
    "if torch.cuda.is_available():\n",
    "    model = model.cuda()\n",
    "\n",
    "criterion = nn.CrossEntropyLoss()\n",
    "\n",
    "optimizer = torch.optim.SGD(model.parameters(), learning_rate,\n",
    "                            momentum=momentum, weight_decay=weight_decay)\n",
    "\n",
    "best = 0.0\n",
    "best_cm = None\n",
    "best_model = None\n",
    "train_accuracy_history = []\n",
    "train_loss_history = []\n",
    "accuracies = []\n",
    "losses = []\n",
    "for epoch in range(epochs):\n",
    "    train_acc, train_loss = train(epoch, training_loader, model, optimizer, criterion)\n",
    "    train_accuracy_history.append(train_acc)\n",
    "    train_loss_history.append(train_loss)\n",
    "    \n",
    "    acc, cm, loss = validate(epoch, test_loader, model, criterion)\n",
    "    accuracies.append(acc)\n",
    "    losses.append(loss)\n",
    "    \n",
    "    print(\"Epoch {0} | Training accuracy: {1}% | Validation accuracy: {2}%\".format(epoch, train_acc, acc))\n",
    "    \n",
    "    if acc > best:\n",
    "        best = acc\n",
    "        best_cm = cm\n",
    "        best_model = copy.deepcopy(model)\n",
    "        \n",
    "training_curve, = plt.plot(train_accuracy_history, label='training')\n",
    "validation_curve, = plt.plot(accuracies, label='validation')\n",
    "plt.title('Accuracy Curve')\n",
    "plt.legend(handles=[training_curve, validation_curve])\n",
    "plt.xlabel('Epoch')\n",
    "plt.ylabel('Accuracy')\n",
    "plt.show()\n",
    "\n",
    "training_curve, = plt.plot(train_loss_history, label='training')\n",
    "validation_curve, = plt.plot(losses, label='validation')\n",
    "plt.title('Loss Curve')\n",
    "plt.legend(handles=[training_curve, validation_curve])\n",
    "plt.xlabel('Epoch')\n",
    "plt.ylabel('Loss')\n",
    "plt.show()\n",
    "\n",
    "print('Best Validation Acccuracy: {:.4f}'.format(best))"
   ]
  },
  {
   "cell_type": "code",
   "execution_count": 37,
   "metadata": {},
   "outputs": [
    {
     "data": {
      "text/plain": [
       "[<matplotlib.lines.Line2D at 0x7f8b1afa2ac0>]"
      ]
     },
     "execution_count": 37,
     "metadata": {},
     "output_type": "execute_result"
    },
    {
     "data": {
      "image/png": "[encoded data removed]",
      "text/plain": [
       "<Figure size 1008x288 with 1 Axes>"
      ]
     },
     "metadata": {
      "needs_background": "light"
     },
     "output_type": "display_data"
    }
   ],
   "source": [
    "def mean(li): return sum(li)/len(li)\n",
    "plt.figure(figsize=(14, 4))\n",
    "plt.xlabel('training batch')\n",
    "plt.ylabel('loss')\n",
    "plt.plot([mean(losses[i:i+10]) for i in range(len(losses))])"
   ]
  },
  {
   "cell_type": "code",
   "execution_count": 38,
   "metadata": {},
   "outputs": [
    {
     "data": {
      "text/plain": [
       "[<matplotlib.lines.Line2D at 0x7f8b14c03a30>]"
      ]
     },
     "execution_count": 38,
     "metadata": {},
     "output_type": "execute_result"
    },
    {
     "data": {
      "image/png": "[encoded data removed]",
      "text/plain": [
       "<Figure size 1008x288 with 1 Axes>"
      ]
     },
     "metadata": {
      "needs_background": "light"
     },
     "output_type": "display_data"
    }
   ],
   "source": [
    "\n",
    "plt.figure(figsize=(14, 4))\n",
    "plt.xticks(range(len(accuracies)))\n",
    "plt.xlabel('training epoch')\n",
    "plt.ylabel('accuracy')\n",
    "plt.plot(accuracies, marker='o')\n"
   ]
  },
  {
   "cell_type": "code",
   "execution_count": 39,
   "metadata": {},
   "outputs": [
    {
     "name": "stdout",
     "output_type": "stream",
     "text": [
      "Confusion matrix:\n",
      "[[576   1   1   2   2   3   4   1   1   1]\n",
      " [  0 650   9   1   3   3   1   1   5   1]\n",
      " [  3   3 558   1   8   1   8   8   6   0]\n",
      " [  1   5  24 542   0  14   1   9   8   9]\n",
      " [  0   2   3   0 553   1   4   0   0  21]\n",
      " [  1   3   2  19   1 495  13   1   2   5]\n",
      " [  4   4   3   0   2   7 570   0   2   0]\n",
      " [  1   6  10   1  12   1   0 580   0  16]\n",
      " [  2   3   6  10   3  11   7   3 524  16]\n",
      " [  5   1   6   6  13   3   0  17   2 542]]\n",
      "F1 score: 0.931667\n",
      "Accuracy score: 0.931667\n"
     ]
    }
   ],
   "source": [
    "def test_label_predictions(model, device, test_loader):\n",
    "    model.eval()\n",
    "    actuals = []\n",
    "    predictions = []\n",
    "    with torch.no_grad():\n",
    "        for data, target in test_loader:\n",
    "            data, target = data.to(device), target.to(device)\n",
    "            output = model(data)\n",
    "            prediction = output.argmax(dim=1, keepdim=True)\n",
    "            actuals.extend(target.view_as(prediction))\n",
    "            predictions.extend(prediction)\n",
    "    return [i.item() for i in actuals], [i.item() for i in predictions]\n",
    "\n",
    "actuals, predictions = test_label_predictions(model, device, test_loader)\n",
    "print('Confusion matrix:')\n",
    "print(confusion_matrix(actuals, predictions))\n",
    "print('F1 score: %f' % f1_score(actuals, predictions, average='micro'))\n",
    "print('Accuracy score: %f' % accuracy_score(actuals, predictions))"
   ]
  },
  {
   "cell_type": "code",
   "execution_count": 40,
   "metadata": {},
   "outputs": [
    {
     "data": {
      "image/png": "[encoded data removed]",
      "text/plain": [
       "<Figure size 432x288 with 1 Axes>"
      ]
     },
     "metadata": {
      "needs_background": "light"
     },
     "output_type": "display_data"
    }
   ],
   "source": [
    "\n",
    "def test_class_probabilities(model, device, test_loader, which_class):\n",
    "    model.eval()\n",
    "    actuals = []\n",
    "    probabilities = []\n",
    "    with torch.no_grad():\n",
    "        for data, target in test_loader:\n",
    "            data, target = data.to(device), target.to(device)\n",
    "            output = model(data)\n",
    "            prediction = output.argmax(dim=1, keepdim=True)\n",
    "            actuals.extend(target.view_as(prediction) == which_class)\n",
    "            probabilities.extend(np.exp(output[:, which_class]))\n",
    "    return [i.item() for i in actuals], [i.item() for i in probabilities]\n",
    "\n",
    "which_class = 9\n",
    "actuals, class_probabilities = test_class_probabilities(model, device, test_loader, which_class)\n",
    "\n",
    "fpr, tpr, _ = roc_curve(actuals, class_probabilities)\n",
    "roc_auc = auc(fpr, tpr)\n",
    "plt.figure()\n",
    "lw = 2\n",
    "plt.plot(fpr, tpr, color='darkorange',\n",
    "         lw=lw, label='ROC curve (area = %0.2f)' % roc_auc)\n",
    "plt.plot([0, 1], [0, 1], color='navy', lw=lw, linestyle='--')\n",
    "plt.xlim([0.0, 1.0])\n",
    "plt.ylim([0.0, 1.05])\n",
    "plt.xlabel('False Positive Rate')\n",
    "plt.ylabel('True Positive Rate')\n",
    "plt.title('ROC for digit=%d class' % which_class)\n",
    "plt.legend(loc=\"lower right\")\n",
    "plt.show()"
   ]
  },
  {
   "cell_type": "code",
   "execution_count": 41,
   "metadata": {},
   "outputs": [
    {
     "name": "stdout",
     "output_type": "stream",
     "text": [
      "Trainable parameters:\n",
      "convolution_layers.0.weight \t 288\n",
      "convolution_layers.0.bias \t 32\n",
      "convolution_layers.1.weight \t 32\n",
      "convolution_layers.1.bias \t 32\n",
      "convolution_layers.3.weight \t 18432\n",
      "convolution_layers.3.bias \t 64\n",
      "convolution_layers.4.weight \t 64\n",
      "convolution_layers.4.bias \t 64\n",
      "convolution_layers.7.weight \t 73728\n",
      "convolution_layers.7.bias \t 128\n",
      "convolution_layers.8.weight \t 128\n",
      "convolution_layers.8.bias \t 128\n",
      "convolution_layers.10.weight \t 294912\n",
      "convolution_layers.10.bias \t 256\n",
      "convolution_layers.11.weight \t 256\n",
      "convolution_layers.11.bias \t 256\n",
      "linear_layers.0.weight \t 125440\n",
      "linear_layers.0.bias \t 10\n"
     ]
    }
   ],
   "source": [
    "print('Trainable parameters:')\n",
    "for name, param in model.named_parameters():\n",
    "    if param.requires_grad:\n",
    "        print(name, '\\t',param.numel())"
   ]
  },
  {
   "cell_type": "code",
   "execution_count": null,
   "metadata": {},
   "outputs": [
    {
     "data": {
      "image/png": "[encoded data removed]",
      "text/plain": [
       "<Figure size 1008x288 with 1 Axes>"
      ]
     },
     "metadata": {
      "needs_background": "light"
     },
     "output_type": "display_data"
    }
   ],
   "source": [
    "\n",
    "def distort(x, num_pixels=1, value=1.0):\n",
    "    for _ in range(num_pixels):\n",
    "        x[0][int(random()*28)][int(random()*28)] = value\n",
    "    return x\n",
    "\n",
    "def test_label_predictions(model, device, test_loader):\n",
    "    model.eval()\n",
    "    actuals = []\n",
    "    predictions = []\n",
    "    with torch.no_grad():\n",
    "        for data, target in test_loader:\n",
    "            data, target = data.to(device), target.to(device)\n",
    "            output = model(data)\n",
    "            prediction = output.argmax(dim=1, keepdim=True)\n",
    "            actuals.extend(target.view_as(prediction))\n",
    "            predictions.extend(prediction)\n",
    "    return [i.item() for i in actuals], [i.item() for i in predictions]\n",
    "\n",
    "def plot_accuracies(distorted_pixels, accuracies):\n",
    "    clear_output()\n",
    "    plt.figure(figsize=(14, 4))\n",
    "    plt.xlabel('distorted pixels')\n",
    "    plt.ylabel('accuracy')\n",
    "    plt.ylim((0, 1))\n",
    "    plt.plot(distorted_pixels, accuracies, marker='o')\n",
    "    plt.show()\n",
    "\n",
    "distorted_pixels = []\n",
    "accuracies = []\n",
    "for i in range(0, 20):\n",
    "    my_test_loader = torch.utils.data.DataLoader(\n",
    "        datasets.MNIST(\n",
    "            '../data',\n",
    "            train=False,\n",
    "            transform=transforms.Compose([\n",
    "               transforms.ToTensor(),\n",
    "               transforms.Lambda(lambda x: distort(x, num_pixels=i, value=5.0)),\n",
    "               transforms.Normalize((0.1307,), (0.3081,)),\n",
    "            ])\n",
    "        ),\n",
    "        batch_size=1000,\n",
    "        shuffle=True)\n",
    "    actuals, predictions = test_label_predictions(model, device, my_test_loader)\n",
    "    distorted_pixels.append(i)\n",
    "    accuracies.append(accuracy_score(actuals, predictions))\n",
    "    plot_accuracies(distorted_pixels, accuracies)\n",
    "\n",
    "print(accuracies)"
   ]
  },
  {
   "cell_type": "code",
   "execution_count": null,
   "metadata": {},
   "outputs": [],
   "source": [
    "def set_pixel(x, i, j, value=1.0):\n",
    "    x[0][i][j] = value\n",
    "    return x\n",
    "\n",
    "def misclassified_images(actuals, predictions):\n",
    "    vuls = []\n",
    "    for i in range(len(actuals)):\n",
    "        if actuals[i] != predictions[i]:\n",
    "            vuls.append(i)\n",
    "    return set(vuls)\n"
   ]
  },
  {
   "cell_type": "code",
   "execution_count": null,
   "metadata": {},
   "outputs": [],
   "source": [
    "\n",
    "dataset = datasets.MNIST(\n",
    "    '../data',\n",
    "    train=False,\n",
    "    transform=transforms.Compose([\n",
    "       transforms.ToTensor(),\n",
    "       transforms.Lambda(lambda x: set_pixel(x, 0, 8)),\n",
    "    ])\n",
    ")\n",
    "x, _ = dataset[3906] # x is now a torch.Tensor\n",
    "plt.imshow(x.numpy()[0], cmap='gray')"
   ]
  },
  {
   "cell_type": "code",
   "execution_count": null,
   "metadata": {},
   "outputs": [],
   "source": [
    "dataset = datasets.MNIST(\n",
    "    '../data',\n",
    "    train=False,\n",
    "    transform=transforms.Compose([\n",
    "       transforms.ToTensor(),\n",
    "       transforms.Lambda(lambda x: distort(x, num_pixels=100)),\n",
    "    ])\n",
    ")\n",
    "x, _ = dataset[4] # x is now a torch.Tensor\n",
    "plt.imshow(x.numpy()[0], cmap='gray')"
   ]
  },
  {
   "cell_type": "code",
   "execution_count": null,
   "metadata": {},
   "outputs": [],
   "source": []
  }
 ],
 "metadata": {
  "interpreter": {
   "hash": "31f2aee4e71d21fbe5cf8b01ff0e069b9275f58929596ceb00d14d90e3e16cd6"
  },
  "kernelspec": {
   "display_name": "cs7643-final-project-cpu",
   "language": "python",
   "name": "cs7643-final-project-cpu"
  },
  "language_info": {
   "codemirror_mode": {
    "name": "ipython",
    "version": 3
   },
   "file_extension": ".py",
   "mimetype": "text/x-python",
   "name": "python",
   "nbconvert_exporter": "python",
   "pygments_lexer": "ipython3",
   "version": "3.9.4"
  }
 },
 "nbformat": 4,
 "nbformat_minor": 4
}
