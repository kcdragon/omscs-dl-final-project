{
 "cells": [
  {
   "cell_type": "code",
   "execution_count": 1,
   "id": "99cff607-336a-483a-93c7-baffe6747590",
   "metadata": {},
   "outputs": [],
   "source": [
    "%load_ext autoreload\n",
    "%autoreload 2"
   ]
  },
  {
   "cell_type": "code",
   "execution_count": 102,
   "id": "d7d9b6f0-99e7-4098-8be9-2efe76390ad7",
   "metadata": {},
   "outputs": [],
   "source": [
    "import matplotlib.pyplot as plt\n",
    "from IPython.display import Image \n",
    "import torch\n",
    "import torch.nn as nn\n",
    "import torchvision\n",
    "import torchvision.transforms as transforms\n",
    "\n",
    "import team36\n",
    "from team36.training import validate, accuracy\n",
    "\n",
    "DIR = '.'\n",
    "DATA_DIR = f'{DIR}/data'\n",
    "\n",
    "test_set = torchvision.datasets.MNIST(root=DATA_DIR, train=False, download=True, \n",
    "                                      transform=transforms.ToTensor())\n",
    "test_loader = torch.utils.data.DataLoader(test_set, batch_size=100, shuffle=False, num_workers=2)\n",
    "\n",
    "model = team36.mnist.VGG()\n",
    "state_dict = torch.load(f\"{DIR}/checkpoints/mnist-vgg.pth\")\n",
    "model.load_state_dict(state_dict)\n",
    "\n",
    "criterion = nn.CrossEntropyLoss()"
   ]
  },
  {
   "cell_type": "code",
   "execution_count": 103,
   "id": "7210a2c7-e2f4-4f55-b3e6-4ed7f4a126d7",
   "metadata": {},
   "outputs": [
    {
     "name": "stdout",
     "output_type": "stream",
     "text": [
      "Regular Test Accuracy is 0.8700000047683716\n",
      "Adversarial Test Accuracy is 0.11999999731779099\n"
     ]
    }
   ],
   "source": [
    "# \"fast gradient sign method\" from EXPLAINING AND HARNESSING ADVERSARIAL EXAMPLES\n",
    "# gradient calculation from\n",
    "#   https://stackoverflow.com/questions/54754153/autograd-grad-for-tensor-in-pytorch\n",
    "\n",
    "_, (inputs, targets) = next(enumerate(test_loader))\n",
    "inputs.requires_grad_()\n",
    "\n",
    "out = model(inputs)\n",
    "loss = criterion(out, targets)\n",
    "loss_gradient = torch.autograd.grad(outputs=loss, inputs=inputs)\n",
    "\n",
    "adversarial_inputs = torch.zeros(inputs.shape)\n",
    "\n",
    "epsilon = 0.25\n",
    "for i in range(20):\n",
    "    eta = epsilon * torch.sign(loss_gradient[0][i])\n",
    "    input = inputs[i]\n",
    "    adversarial_input = input + eta\n",
    "    \n",
    "    min = torch.min(adversarial_input)\n",
    "    max = torch.max(adversarial_input)\n",
    "    adversarial_input = (adversarial_input - min) / (max - min)\n",
    "    \n",
    "    # display(transforms.functional.to_pil_image(input))\n",
    "    # display(transforms.functional.to_pil_image(adversarial_input))\n",
    "    adversarial_inputs[i] = adversarial_input\n",
    "\n",
    "out = model(inputs)\n",
    "loss = criterion(out, targets)\n",
    "acc = accuracy(out, targets)\n",
    "print(f\"Regular Test Accuracy is {acc}\")\n",
    "\n",
    "out = model(adversarial_inputs)\n",
    "loss = criterion(out, targets)\n",
    "acc = accuracy(out, targets)\n",
    "print(f\"Adversarial Test Accuracy is {acc}\")"
   ]
  },
  {
   "cell_type": "code",
   "execution_count": null,
   "id": "c6206c50-2b29-45b4-b9e8-5674eb18798a",
   "metadata": {},
   "outputs": [],
   "source": []
  }
 ],
 "metadata": {
  "kernelspec": {
   "display_name": "cs7643-final-project-cpu",
   "language": "python",
   "name": "cs7643-final-project-cpu"
  },
  "language_info": {
   "codemirror_mode": {
    "name": "ipython",
    "version": 3
   },
   "file_extension": ".py",
   "mimetype": "text/x-python",
   "name": "python",
   "nbconvert_exporter": "python",
   "pygments_lexer": "ipython3",
   "version": "3.9.4"
  }
 },
 "nbformat": 4,
 "nbformat_minor": 5
}
