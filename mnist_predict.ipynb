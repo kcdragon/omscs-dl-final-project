{
 "cells": [
  {
   "cell_type": "code",
   "execution_count": 7,
   "id": "99cff607-336a-483a-93c7-baffe6747590",
   "metadata": {},
   "outputs": [
    {
     "name": "stdout",
     "output_type": "stream",
     "text": [
      "The autoreload extension is already loaded. To reload it, use:\n",
      "  %reload_ext autoreload\n"
     ]
    }
   ],
   "source": [
    "%load_ext autoreload\n",
    "%autoreload 2"
   ]
  },
  {
   "cell_type": "code",
   "execution_count": 19,
   "id": "44f7b6e1-2d12-4523-8cbe-9285bd0ece58",
   "metadata": {},
   "outputs": [],
   "source": [
    "import matplotlib.pyplot as plt\n",
    "from IPython.display import Image \n",
    "import torch\n",
    "import torch.nn as nn\n",
    "import torchvision\n",
    "import torchvision.transforms as transforms\n",
    "\n",
    "import team36\n",
    "from team36.mnist.vgg import VGG\n",
    "from team36.attacks.fast_gradient_attack_data_set import FastSignGradientAttackDataSet\n",
    "from team36.training import validate, accuracy, predict\n",
    "\n",
    "DIR = '.'\n",
    "DATA_DIR = f'{DIR}/data'"
   ]
  },
  {
   "cell_type": "code",
   "execution_count": 20,
   "id": "0f0b6bb7-3c75-4af2-9c2b-234263a29f69",
   "metadata": {},
   "outputs": [],
   "source": [
    "model = VGG()\n",
    "state_dict = torch.load(f\"{DIR}/checkpoints/mnist-vgg.pth\", map_location=torch.device('cpu'))\n",
    "model.load_state_dict(state_dict)\n",
    "\n",
    "defense_model = VGG()\n",
    "state_dict = torch.load(f\"{DIR}/checkpoints/mnist-vgg-defense.pth\", map_location=torch.device('cpu'))\n",
    "defense_model.load_state_dict(state_dict)\n",
    "\n",
    "criterion = nn.CrossEntropyLoss()"
   ]
  },
  {
   "cell_type": "code",
   "execution_count": 21,
   "id": "6627e02e-7849-44c2-a355-b17a52511e96",
   "metadata": {},
   "outputs": [
    {
     "name": "stdout",
     "output_type": "stream",
     "text": [
      "Regular Test Accuracy is 0.9839000105857849\n",
      "Regular Test Loss is 0.0634659081697464\n",
      "Defense Regular Test Accuracy is 0.9811000227928162\n",
      "Defense Regular Test Loss is 0.06829589605331421\n"
     ]
    }
   ],
   "source": [
    "test_set = torchvision.datasets.MNIST(root=DATA_DIR, train=False, download=True, \n",
    "                                      transform=transforms.ToTensor())\n",
    "\n",
    "test_loader = torch.utils.data.DataLoader(test_set, batch_size=100, shuffle=False, num_workers=2)\n",
    "\n",
    "test_accuracy, _, test_loss = validate(None, test_loader, model, criterion)\n",
    "defense_test_accuracy, _, defense_test_loss = validate(None, test_loader, defense_model, criterion)\n",
    "\n",
    "print(f\"Regular Test Accuracy is {test_accuracy}\")\n",
    "print(f\"Regular Test Loss is {test_loss}\")\n",
    "\n",
    "print(f\"Defense Regular Test Accuracy is {defense_test_accuracy}\")\n",
    "print(f\"Defense Regular Test Loss is {defense_test_loss}\")"
   ]
  },
  {
   "cell_type": "code",
   "execution_count": 22,
   "id": "d7d9b6f0-99e7-4098-8be9-2efe76390ad7",
   "metadata": {},
   "outputs": [
    {
     "name": "stdout",
     "output_type": "stream",
     "text": [
      "Attack Test Accuracy is 0.5267999768257141\n",
      "Attack Test Loss is 1.452913522720337\n",
      "Attack Defense Test Accuracy is 0.8931000232696533\n",
      "Attack Defense Test Loss is 0.34969258308410645\n"
     ]
    }
   ],
   "source": [
    "attack_test_set = torchvision.datasets.MNIST(root=DATA_DIR, train=False, download=True, \n",
    "                                             transform=transforms.ToTensor())\n",
    "attack_test_set = FastSignGradientAttackDataSet(attack_test_set, model, criterion, \n",
    "                                                               epsilon=0.25)\n",
    "\n",
    "attack_test_loader = torch.utils.data.DataLoader(attack_test_set, batch_size=100, \n",
    "                                                 shuffle=False, num_workers=0)\n",
    "\n",
    "attack_test_accuracy, _, attack_test_loss = validate(None, attack_test_loader, model, criterion)\n",
    "attack_defense_test_accuracy, _, attack_defense_test_loss = validate(None, attack_test_loader, \n",
    "                                                                     defense_model, criterion)\n",
    "\n",
    "\n",
    "print(f\"Attack Test Accuracy is {attack_test_accuracy}\")\n",
    "print(f\"Attack Test Loss is {attack_test_loss}\")\n",
    "\n",
    "print(f\"Attack Defense Test Accuracy is {attack_defense_test_accuracy}\")\n",
    "print(f\"Attack Defense Test Loss is {attack_defense_test_loss}\")"
   ]
  },
  {
   "cell_type": "code",
   "execution_count": 23,
   "id": "7210a2c7-e2f4-4f55-b3e6-4ed7f4a126d7",
   "metadata": {},
   "outputs": [
    {
     "data": {
      "image/png": "[encoded data removed]",
      "text/plain": [
       "<PIL.Image.Image image mode=L size=28x28 at 0x7FB6EF73CB20>"
      ]
     },
     "metadata": {},
     "output_type": "display_data"
    },
    {
     "name": "stdout",
     "output_type": "stream",
     "text": [
      "0\n"
     ]
    },
    {
     "data": {
      "image/png": "[encoded data removed]",
      "text/plain": [
       "<PIL.Image.Image image mode=L size=28x28 at 0x7FB6F4AF2B50>"
      ]
     },
     "metadata": {},
     "output_type": "display_data"
    },
    {
     "name": "stdout",
     "output_type": "stream",
     "text": [
      "2\n"
     ]
    },
    {
     "data": {
      "image/png": "[encoded data removed]",
      "text/plain": [
       "<PIL.Image.Image image mode=L size=28x28 at 0x7FB6F4AF2B50>"
      ]
     },
     "metadata": {},
     "output_type": "display_data"
    },
    {
     "name": "stdout",
     "output_type": "stream",
     "text": [
      "0\n"
     ]
    }
   ],
   "source": [
    "index = 10\n",
    "\n",
    "input, _ = test_set[index]\n",
    "display(transforms.functional.to_pil_image(input))\n",
    "print(predict(model, input))\n",
    "\n",
    "input, _ = attack_test_set[index]\n",
    "display(transforms.functional.to_pil_image(input))\n",
    "print(predict(model, input))\n",
    "\n",
    "input, _ = attack_test_set[index]\n",
    "display(transforms.functional.to_pil_image(input))\n",
    "print(predict(defense_model, input))"
   ]
  },
  {
   "cell_type": "code",
   "execution_count": null,
   "id": "1ae3daf1-2d3a-47f5-9f3e-e8bb20f7bea7",
   "metadata": {},
   "outputs": [],
   "source": []
  }
 ],
 "metadata": {
  "kernelspec": {
   "display_name": "cs7643-final-project-cpu",
   "language": "python",
   "name": "cs7643-final-project-cpu"
  },
  "language_info": {
   "codemirror_mode": {
    "name": "ipython",
    "version": 3
   },
   "file_extension": ".py",
   "mimetype": "text/x-python",
   "name": "python",
   "nbconvert_exporter": "python",
   "pygments_lexer": "ipython3",
   "version": "3.9.4"
  }
 },
 "nbformat": 4,
 "nbformat_minor": 5
}
