{
  "nbformat": 4,
  "nbformat_minor": 5,
  "metadata": {
    "kernelspec": {
      "display_name": "cs7643-final-project-cpu",
      "language": "python",
      "name": "cs7643-final-project-cpu"
    },
    "language_info": {
      "codemirror_mode": {
        "name": "ipython",
        "version": 3
      },
      "file_extension": ".py",
      "mimetype": "text/x-python",
      "name": "python",
      "nbconvert_exporter": "python",
      "pygments_lexer": "ipython3",
      "version": "3.9.4"
    },
    "colab": {
      "name": "stat_def_training.ipynb",
      "provenance": []
    }
  },
  "cells": [
    {
      "cell_type": "code",
      "metadata": {
        "id": "fd721cb5-c222-46a6-9ed1-86da1f99fc04"
      },
      "source": [
        "%load_ext autoreload\n",
        "%autoreload 2"
      ],
      "id": "fd721cb5-c222-46a6-9ed1-86da1f99fc04",
      "execution_count": 1,
      "outputs": []
    },
    {
      "cell_type": "code",
      "metadata": {
        "id": "aa3cfaae-52c1-4978-b2cb-055e4c86ff41",
        "colab": {
          "base_uri": "https://localhost:8080/"
        },
        "outputId": "98e944a4-e0e6-44f4-fbed-bb9d546c4bf7"
      },
      "source": [
        "import copy\n",
        "import matplotlib.pyplot as plt\n",
        "from sklearn.model_selection import train_test_split\n",
        "import torch\n",
        "import torch.nn as nn\n",
        "import torchvision\n",
        "import torchvision.transforms as transforms\n",
        "\n",
        "DIR = '.'\n",
        "DATA_DIR = f'{DIR}/data'\n",
        "\n",
        "training_set = torchvision.datasets.MNIST(root=DATA_DIR, train=True, download=True, \n",
        "                                          transform=transforms.ToTensor())\n",
        "\n",
        "training_indices, validation_indices, _, _ = train_test_split(\n",
        "    range(len(training_set)),\n",
        "    training_set.targets,\n",
        "    stratify=training_set.targets,\n",
        "    test_size=0.1,\n",
        ")\n",
        "training_split = torch.utils.data.Subset(training_set, training_indices)\n",
        "validation_split = torch.utils.data.Subset(training_set, validation_indices)\n",
        "\n",
        "print(f\"{len(training_split)} in training set\")\n",
        "print(f\"{len(validation_split)} in validation set\")"
      ],
      "id": "aa3cfaae-52c1-4978-b2cb-055e4c86ff41",
      "execution_count": 4,
      "outputs": [
        {
          "output_type": "stream",
          "text": [
            "54000 in training set\n",
            "6000 in validation set\n"
          ],
          "name": "stdout"
        }
      ]
    },
    {
      "cell_type": "code",
      "metadata": {
        "id": "cdadc114-0e9e-4351-925d-e6f4715a62c7",
        "colab": {
          "base_uri": "https://localhost:8080/",
          "height": 690
        },
        "outputId": "30725475-aa0e-47b1-cd0c-7b664354fd46"
      },
      "source": [
        "import team36\n",
        "from team36.training import train, validate\n",
        "\n",
        "learning_rate = 1e-3\n",
        "momentum = 5e-1\n",
        "weight_decay = 5e-2\n",
        "batch_size = 128\n",
        "epochs = 3\n",
        "\n",
        "sampler = torch.utils.data.RandomSampler(training_split, replacement=True, num_samples=1000)\n",
        "training_loader = torch.utils.data.DataLoader(training_split, batch_size=batch_size, sampler=sampler)\n",
        "test_loader = torch.utils.data.DataLoader(validation_split, batch_size=100, shuffle=False, num_workers=2)\n",
        "\n",
        "model = team36.stat_defense.VGG()\n",
        "if torch.cuda.is_available():\n",
        "    model = model.cuda()\n",
        "\n",
        "criterion = nn.CrossEntropyLoss()\n",
        "\n",
        "optimizer = torch.optim.SGD(model.parameters(), learning_rate,\n",
        "                            momentum=momentum, weight_decay=weight_decay)\n",
        "\n",
        "best = 0.0\n",
        "best_cm = None\n",
        "best_model = None\n",
        "train_accuracy_history = []\n",
        "train_loss_history = []\n",
        "validation_accuracy_history = []\n",
        "validation_loss_history = []\n",
        "for epoch in range(epochs):\n",
        "    train_acc, train_loss = train(epoch, training_loader, model, optimizer, criterion)\n",
        "    train_accuracy_history.append(train_acc)\n",
        "    train_loss_history.append(train_loss)\n",
        "    \n",
        "    acc, cm, loss = validate(epoch, test_loader, model, criterion)\n",
        "    validation_accuracy_history.append(acc)\n",
        "    validation_loss_history.append(loss)\n",
        "    \n",
        "    print(\"Epoch {0} | Training accuracy: {1}% | Validation accuracy: {2}%\".format(epoch, train_acc, acc))\n",
        "    \n",
        "    if acc > best:\n",
        "        best = acc\n",
        "        best_cm = cm\n",
        "        best_model = copy.deepcopy(model)\n",
        "        \n",
        "training_curve, = plt.plot(train_accuracy_history, label='training')\n",
        "validation_curve, = plt.plot(validation_accuracy_history, label='validation')\n",
        "plt.title('Accuracy Curve')\n",
        "plt.legend(handles=[training_curve, validation_curve])\n",
        "plt.xlabel('Epoch')\n",
        "plt.ylabel('Accuracy')\n",
        "plt.show()\n",
        "\n",
        "training_curve, = plt.plot(train_loss_history, label='training')\n",
        "validation_curve, = plt.plot(validation_loss_history, label='validation')\n",
        "plt.title('Loss Curve')\n",
        "plt.legend(handles=[training_curve, validation_curve])\n",
        "plt.xlabel('Epoch')\n",
        "plt.ylabel('Loss')\n",
        "plt.show()\n",
        "\n",
        "print('Best Validation Acccuracy: {:.4f}'.format(best))"
      ],
      "id": "cdadc114-0e9e-4351-925d-e6f4715a62c7",
      "execution_count": 58,
      "outputs": [
        {
          "output_type": "stream",
          "text": [
            "Epoch: [0][0/8]\tLoss 2.5418 (2.5418)\tPrec @1 0.0391 (0.0391)\t\n",
            "Epoch 0 | Training accuracy: 0.3799999952316284% | Validation accuracy: 0.6913333535194397%\n",
            "Epoch: [1][0/8]\tLoss 1.2827 (1.2827)\tPrec @1 0.6641 (0.6641)\t\n",
            "Epoch 1 | Training accuracy: 0.75% | Validation accuracy: 0.809166669845581%\n",
            "Epoch: [2][0/8]\tLoss 0.8876 (0.8876)\tPrec @1 0.7500 (0.7500)\t\n",
            "Epoch 2 | Training accuracy: 0.8190000057220459% | Validation accuracy: 0.8518333435058594%\n"
          ],
          "name": "stdout"
        },
        {
          "output_type": "display_data",
          "data": {
            "image/png": "[encoded data removed]",
            "text/plain": [
              "<Figure size 432x288 with 1 Axes>"
            ]
          },
          "metadata": {
            "tags": [],
            "needs_background": "light"
          }
        },
        {
          "output_type": "display_data",
          "data": {
            "image/png": "[encoded data removed]",
            "text/plain": [
              "<Figure size 432x288 with 1 Axes>"
            ]
          },
          "metadata": {
            "tags": [],
            "needs_background": "light"
          }
        },
        {
          "output_type": "stream",
          "text": [
            "Best Validation Acccuracy: 0.8518\n"
          ],
          "name": "stdout"
        }
      ]
    },
    {
      "cell_type": "code",
      "metadata": {
        "id": "913f5739-37b2-4d5c-8da1-2332ea1b45c9"
      },
      "source": [
        "torch.save(best_model.state_dict(), f\"{DIR}/checkpoints/stat_def.pth\")"
      ],
      "id": "913f5739-37b2-4d5c-8da1-2332ea1b45c9",
      "execution_count": 60,
      "outputs": []
    },
    {
      "cell_type": "code",
      "metadata": {
        "id": "28286408-937f-4676-96ed-909d1a61a728"
      },
      "source": [
        ""
      ],
      "id": "28286408-937f-4676-96ed-909d1a61a728",
      "execution_count": null,
      "outputs": []
    }
  ]
}