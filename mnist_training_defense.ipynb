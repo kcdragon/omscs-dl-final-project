{
 "cells": [
  {
   "cell_type": "code",
   "execution_count": 1,
   "id": "8d742562-7b96-4572-b96d-6e1c17665e69",
   "metadata": {},
   "outputs": [],
   "source": [
    "%load_ext autoreload\n",
    "%autoreload 2"
   ]
  },
  {
   "cell_type": "code",
   "execution_count": 10,
   "id": "d4484417-88e3-4f90-b875-f31ce20fc28d",
   "metadata": {},
   "outputs": [
    {
     "name": "stdout",
     "output_type": "stream",
     "text": [
      "59400 in training set\n",
      "6600 in validation set\n"
     ]
    }
   ],
   "source": [
    "import copy\n",
    "import matplotlib.pyplot as plt\n",
    "from sklearn.model_selection import train_test_split\n",
    "import torch\n",
    "import torch.nn as nn\n",
    "import torchvision\n",
    "import torchvision.transforms as transforms\n",
    "\n",
    "from team36.mnist.vgg import VGG\n",
    "from team36.attacks.fast_gradient_attack_data_set import FastSignGradientAttackDataSet\n",
    "\n",
    "DIR = '.'\n",
    "DATA_DIR = f'{DIR}/data'\n",
    "\n",
    "training_set = torchvision.datasets.MNIST(root=DATA_DIR, train=True, download=True, \n",
    "                                          transform=transforms.ToTensor())\n",
    "\n",
    "prev_model = VGG()\n",
    "state_dict = torch.load(f\"{DIR}/checkpoints/mnist-vgg.pth\", map_location=torch.device('cpu'))\n",
    "prev_model.load_state_dict(state_dict)\n",
    "prev_criterion = nn.CrossEntropyLoss()\n",
    "\n",
    "attack_training_set = FastSignGradientAttackDataSet(training_set, prev_model, prev_criterion, \n",
    "                                                    epsilon=0.25, sample_probability=None)\n",
    "indices = torch.randperm(len(attack_training_set))[:int(len(attack_training_set) * 0.1)]\n",
    "attack_training_set = torch.utils.data.Subset(attack_training_set, indices)\n",
    "\n",
    "combined_training_set = torch.utils.data.ConcatDataset([training_set, attack_training_set])\n",
    "\n",
    "training_indices, validation_indices = train_test_split(\n",
    "    range(len(combined_training_set)),\n",
    "    test_size=0.1,\n",
    ")\n",
    "training_split = torch.utils.data.Subset(combined_training_set, training_indices)\n",
    "validation_split = torch.utils.data.Subset(combined_training_set, validation_indices)\n",
    "\n",
    "print(f\"{len(training_split)} in training set\")\n",
    "print(f\"{len(validation_split)} in validation set\")"
   ]
  },
  {
   "cell_type": "code",
   "execution_count": 14,
   "id": "20984b48-f4d4-4ed3-b4f4-4e1037afea8c",
   "metadata": {},
   "outputs": [
    {
     "name": "stdout",
     "output_type": "stream",
     "text": [
      "Epoch: [0][0/8]\tLoss 2.4668 (2.4668)\tPrec @1 0.1328 (0.1328)\t\n",
      "Epoch 0 | Training accuracy: 0.34700000286102295% | Validation accuracy: 0.6433333158493042%\n"
     ]
    },
    {
     "data": {
      "image/png": "[encoded data removed]",
      "text/plain": [
       "<Figure size 432x288 with 1 Axes>"
      ]
     },
     "metadata": {
      "needs_background": "light"
     },
     "output_type": "display_data"
    },
    {
     "data": {
      "image/png": "[encoded data removed]",
      "text/plain": [
       "<Figure size 432x288 with 1 Axes>"
      ]
     },
     "metadata": {
      "needs_background": "light"
     },
     "output_type": "display_data"
    },
    {
     "name": "stdout",
     "output_type": "stream",
     "text": [
      "Best Validation Acccuracy: 0.6433\n"
     ]
    }
   ],
   "source": [
    "from team36.mnist.vgg import VGG\n",
    "from team36.training import train, validate\n",
    "\n",
    "learning_rate = 1e-3\n",
    "momentum = 5e-1\n",
    "weight_decay = 5e-2\n",
    "batch_size = 128\n",
    "epochs = 1\n",
    "\n",
    "sampler = torch.utils.data.RandomSampler(training_split, replacement=True, num_samples=1000)\n",
    "training_loader = torch.utils.data.DataLoader(training_split, batch_size=batch_size, sampler=sampler)\n",
    "test_loader = torch.utils.data.DataLoader(validation_split, batch_size=100, shuffle=False)\n",
    "\n",
    "model = VGG()\n",
    "if torch.cuda.is_available():\n",
    "    model = model.cuda()\n",
    "\n",
    "criterion = nn.CrossEntropyLoss()\n",
    "\n",
    "optimizer = torch.optim.SGD(model.parameters(), learning_rate,\n",
    "                            momentum=momentum, weight_decay=weight_decay)\n",
    "\n",
    "best = 0.0\n",
    "best_cm = None\n",
    "best_model = None\n",
    "train_accuracy_history = []\n",
    "train_loss_history = []\n",
    "validation_accuracy_history = []\n",
    "validation_loss_history = []\n",
    "for epoch in range(epochs):\n",
    "    train_acc, train_loss = train(epoch, training_loader, model, optimizer, criterion)\n",
    "    train_accuracy_history.append(train_acc)\n",
    "    train_loss_history.append(train_loss)\n",
    "    \n",
    "    acc, cm, loss = validate(epoch, test_loader, model, criterion)\n",
    "    validation_accuracy_history.append(acc)\n",
    "    validation_loss_history.append(loss)\n",
    "    \n",
    "    print(\"Epoch {0} | Training accuracy: {1}% | Validation accuracy: {2}%\".format(epoch, train_acc, acc))\n",
    "    \n",
    "    if acc > best:\n",
    "        best = acc\n",
    "        best_cm = cm\n",
    "        best_model = copy.deepcopy(model)\n",
    "        \n",
    "training_curve, = plt.plot(train_accuracy_history, label='training')\n",
    "validation_curve, = plt.plot(validation_accuracy_history, label='validation')\n",
    "plt.title('Accuracy Curve')\n",
    "plt.legend(handles=[training_curve, validation_curve])\n",
    "plt.xlabel('Epoch')\n",
    "plt.ylabel('Accuracy')\n",
    "plt.show()\n",
    "\n",
    "training_curve, = plt.plot(train_loss_history, label='training')\n",
    "validation_curve, = plt.plot(validation_loss_history, label='validation')\n",
    "plt.title('Loss Curve')\n",
    "plt.legend(handles=[training_curve, validation_curve])\n",
    "plt.xlabel('Epoch')\n",
    "plt.ylabel('Loss')\n",
    "plt.show()\n",
    "\n",
    "print('Best Validation Acccuracy: {:.4f}'.format(best))"
   ]
  },
  {
   "cell_type": "code",
   "execution_count": null,
   "id": "235963c3-cee2-413a-900f-a8d610f06363",
   "metadata": {},
   "outputs": [],
   "source": []
  }
 ],
 "metadata": {
  "kernelspec": {
   "display_name": "cs7643-final-project-cpu",
   "language": "python",
   "name": "cs7643-final-project-cpu"
  },
  "language_info": {
   "codemirror_mode": {
    "name": "ipython",
    "version": 3
   },
   "file_extension": ".py",
   "mimetype": "text/x-python",
   "name": "python",
   "nbconvert_exporter": "python",
   "pygments_lexer": "ipython3",
   "version": "3.9.4"
  }
 },
 "nbformat": 4,
 "nbformat_minor": 5
}
