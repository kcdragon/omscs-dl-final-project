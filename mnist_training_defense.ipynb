{
 "cells": [
  {
   "cell_type": "code",
   "execution_count": null,
   "id": "8d742562-7b96-4572-b96d-6e1c17665e69",
   "metadata": {},
   "outputs": [],
   "source": [
    "%load_ext autoreload\n",
    "%autoreload 2"
   ]
  },
  {
   "cell_type": "code",
   "execution_count": null,
   "id": "d4484417-88e3-4f90-b875-f31ce20fc28d",
   "metadata": {},
   "outputs": [],
   "source": [
    "import copy\n",
    "import matplotlib.pyplot as plt\n",
    "from sklearn.model_selection import train_test_split\n",
    "import torch\n",
    "import torch.nn as nn\n",
    "import torchvision\n",
    "import torchvision.transforms as transforms\n",
    "\n",
    "from team36.mnist.vgg import VGG\n",
    "from team36.attacks.fast_gradient_attack_data_set import FastSignGradientAttackDataSet\n",
    "\n",
    "DIR = '.'\n",
    "DATA_DIR = f'{DIR}/data'\n",
    "\n",
    "training_set = torchvision.datasets.MNIST(root=DATA_DIR, train=True, download=True, \n",
    "                                          transform=transforms.ToTensor())\n",
    "\n",
    "prev_model = VGG()\n",
    "state_dict = torch.load(f\"{DIR}/checkpoints/mnist-vgg.pth\", map_location=torch.device('cpu'))\n",
    "prev_model.load_state_dict(state_dict)\n",
    "prev_criterion = nn.CrossEntropyLoss()\n",
    "\n",
    "attack_training_set = FastSignGradientAttackDataSet(training_set, prev_model, prev_criterion, \n",
    "                                                    epsilon=0.25)\n",
    "\n",
    "combined_training_set = torch.utils.data.ConcatDataset([training_set, attack_training_set])\n",
    "\n",
    "training_indices, validation_indices, _, _ = train_test_split(\n",
    "    range(len(combined_training_set)),\n",
    "    combined_training_set.targets,\n",
    "    stratify=combined_training_set.targets,\n",
    "    test_size=0.1,\n",
    ")\n",
    "training_split = torch.utils.data.Subset(combined_training_set, training_indices)\n",
    "validation_split = torch.utils.data.Subset(combined_training_set, validation_indices)\n",
    "\n",
    "print(f\"{len(training_split)} in training set\")\n",
    "print(f\"{len(validation_split)} in validation set\")"
   ]
  },
  {
   "cell_type": "code",
   "execution_count": null,
   "id": "b75ce473-9788-4bfa-b3c0-19e3fe9f918c",
   "metadata": {},
   "outputs": [],
   "source": []
  }
 ],
 "metadata": {
  "kernelspec": {
   "display_name": "cs7643-final-project-cpu",
   "language": "python",
   "name": "cs7643-final-project-cpu"
  },
  "language_info": {
   "codemirror_mode": {
    "name": "ipython",
    "version": 3
   },
   "file_extension": ".py",
   "mimetype": "text/x-python",
   "name": "python",
   "nbconvert_exporter": "python",
   "pygments_lexer": "ipython3",
   "version": "3.9.4"
  }
 },
 "nbformat": 4,
 "nbformat_minor": 5
}
