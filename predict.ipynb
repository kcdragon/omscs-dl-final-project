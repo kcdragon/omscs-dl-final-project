{
  "nbformat": 4,
  "nbformat_minor": 0,
  "metadata": {
    "colab": {
      "name": "predict.ipynb",
      "provenance": [],
      "collapsed_sections": []
    },
    "kernelspec": {
      "name": "python3",
      "display_name": "Python 3"
    },
    "language_info": {
      "name": "python"
    },
    "accelerator": "GPU"
  },
  "cells": [
    {
      "cell_type": "code",
      "metadata": {
        "id": "MoLnlr3yKBZU"
      },
      "source": [
        "%load_ext autoreload\n",
        "%autoreload 2"
      ],
      "execution_count": 1,
      "outputs": []
    },
    {
      "cell_type": "code",
      "metadata": {
        "id": "zeA7gu5ZKOg9"
      },
      "source": [
        "import matplotlib.pyplot as plt\n",
        "from IPython.display import Image \n",
        "import os\n",
        "import sys\n",
        "import torch\n",
        "import torch.nn as nn\n",
        "import torchvision\n",
        "import torchvision.transforms as transforms\n",
        "\n",
        "DIR = \"/content/drive/MyDrive/OMSCS/DL/FinalProject\"\n",
        "DATA_DIR = f'{DIR}/data'\n",
        "NAME = 'cifar10'\n",
        "DATA_SET_CLASS = torchvision.datasets.CIFAR10\n",
        "image_size = 32\n",
        "in_channels = 3\n",
        "fgsm_alpha = 0.5\n",
        "fgsm_epsilon = 0.007\n",
        "\n",
        "sys.path.append(os.path.abspath(DIR))\n",
        "\n",
        "import team36\n",
        "from team36.mnist.vgg import VGG\n",
        "from team36.attacks.fast_gradient_attack_data_set import FastSignGradientAttackDataSet\n",
        "from team36.defenses.fast_gradient_sign_method_loss import FastGradientSignMethodLoss\n",
        "from team36.training import validate, accuracy, predict"
      ],
      "execution_count": 2,
      "outputs": []
    },
    {
      "cell_type": "code",
      "metadata": {
        "id": "CHgisIdEKhrU"
      },
      "source": [
        "model = VGG(image_size=image_size, in_channels=in_channels)\n",
        "if torch.cuda.is_available():\n",
        "    model = model.cuda()\n",
        "state_dict = torch.load(f\"{DIR}/checkpoints/{NAME}-vgg.pth\")\n",
        "model.load_state_dict(state_dict)\n",
        "\n",
        "defense_model = VGG(image_size=image_size, in_channels=in_channels)\n",
        "if torch.cuda.is_available():\n",
        "    defense_model = defense_model.cuda()\n",
        "state_dict = torch.load(f\"{DIR}/checkpoints/{NAME}-vgg-training-with-fgsm-examples-defense-{fgsm_epsilon}.pth\")\n",
        "defense_model.load_state_dict(state_dict)\n",
        "\n",
        "criterion = nn.CrossEntropyLoss()\n",
        "\n",
        "fgsm_reg_defense_model = VGG(image_size=image_size, in_channels=in_channels)\n",
        "if torch.cuda.is_available():\n",
        "    fgsm_reg_defense_model = fgsm_reg_defense_model.cuda()\n",
        "state_dict = torch.load(f\"{DIR}/checkpoints/{NAME}-vgg-training-with-fgsm-regularization-defense-{fgsm_epsilon}.pth\")\n",
        "fgsm_reg_defense_model.load_state_dict(state_dict)\n",
        "\n",
        "cpu_model = VGG(image_size=image_size, in_channels=in_channels)\n",
        "state_dict = torch.load(f\"{DIR}/checkpoints/{NAME}-vgg.pth\")\n",
        "cpu_model.load_state_dict(state_dict)\n",
        "fgsm_reg_defense_criterion = FastGradientSignMethodLoss(cpu_model, nn.CrossEntropyLoss(), \n",
        "                                                        alpha=fgsm_alpha, epsilon=fgsm_epsilon)"
      ],
      "execution_count": 3,
      "outputs": []
    },
    {
      "cell_type": "code",
      "metadata": {
        "id": "TpRBkP2nKmw3",
        "colab": {
          "base_uri": "https://localhost:8080/"
        },
        "outputId": "e3ccce30-63ac-4131-8352-2bf8263d951e"
      },
      "source": [
        "test_set = DATA_SET_CLASS(root=DATA_DIR, train=False, download=True, transform=transforms.ToTensor())\n",
        "\n",
        "test_loader = torch.utils.data.DataLoader(test_set, batch_size=32, shuffle=False)\n",
        "\n",
        "test_accuracy, _, test_loss = validate(None, test_loader, model, criterion)\n",
        "defense_test_accuracy, _, defense_test_loss = validate(None, test_loader, defense_model, criterion)\n",
        "fgsm_reg_defense_test_accuracy, _, fgsm_reg_defense_test_loss = validate(None, test_loader,\n",
        "                                                                         fgsm_reg_defense_model, \n",
        "                                                                         fgsm_reg_defense_criterion,\n",
        "                                                                         no_grad=False)\n",
        "\n",
        "print(\"No Attack\")\n",
        "print(f\"Test Accuracy is {test_accuracy}\")\n",
        "print(f\"Test Loss is {test_loss}\")\n",
        "\n",
        "print(f\"FGSM Regularization Defense Test Accuracy is {fgsm_reg_defense_test_accuracy}\")\n",
        "print(f\"FGSM Regularization Defense Test Loss is {fgsm_reg_defense_test_loss}\")\n",
        "\n",
        "print(f\"FGSM Examples Defense Test Accuracy is {defense_test_accuracy}\")\n",
        "print(f\"FGSM Examples Defense Test Loss is {defense_test_loss}\")"
      ],
      "execution_count": 4,
      "outputs": [
        {
          "output_type": "stream",
          "text": [
            "Files already downloaded and verified\n"
          ],
          "name": "stdout"
        },
        {
          "output_type": "stream",
          "text": [
            "/usr/local/lib/python3.7/dist-packages/torch/nn/functional.py:718: UserWarning: Named tensors and all their associated APIs are an experimental feature and subject to change. Please do not use them for anything important until they are released as stable. (Triggered internally at  /pytorch/c10/core/TensorImpl.h:1156.)\n",
            "  return torch.max_pool2d(input, kernel_size, stride, padding, dilation, ceil_mode)\n"
          ],
          "name": "stderr"
        },
        {
          "output_type": "stream",
          "text": [
            "No Attack\n",
            "Test Accuracy is 0.7566999793052673\n",
            "Test Loss is 0.7503899942398071\n",
            "FGSM Examples Defense Test Accuracy is 0.7805999517440796\n",
            "FGSM Examples Defense Test Loss is 0.7002246963500977\n",
            "FGSM Regularization Defense Test Accuracy is 0.770799994468689\n",
            "FGSM Regularization Defense Test Loss is 0.7094137447357177\n"
          ],
          "name": "stdout"
        }
      ]
    },
    {
      "cell_type": "code",
      "metadata": {
        "id": "IGLMnL17LKco",
        "colab": {
          "base_uri": "https://localhost:8080/"
        },
        "outputId": "26732e72-c945-48d4-baaf-afb338b8883e"
      },
      "source": [
        "test_set = DATA_SET_CLASS(root=DATA_DIR, train=False, download=True, transform=transforms.ToTensor())\n",
        "attack_test_set = FastSignGradientAttackDataSet(test_set, model, criterion, epsilon=fgsm_epsilon, device='cuda')\n",
        "attack_test_loader = torch.utils.data.DataLoader(attack_test_set, batch_size=100, shuffle=False)\n",
        "\n",
        "attack_test_accuracy, _, attack_test_loss = validate(None, attack_test_loader, model, criterion)\n",
        "attack_defense_test_accuracy, _, attack_defense_test_loss = validate(None, attack_test_loader, \n",
        "                                                                     defense_model, criterion)\n",
        "attack_fgsm_reg_defense_test_accuracy, _, attack_fgsm_reg_defense_test_loss = validate(\n",
        "    None, attack_test_loader, fgsm_reg_defense_model, fgsm_reg_defense_criterion, no_grad=False)\n",
        "\n",
        "\n",
        "print(\"Attack\")\n",
        "print(f\"Test Accuracy is {attack_test_accuracy}\")\n",
        "print(f\"Test Loss is {attack_test_loss}\")\n",
        "\n",
        "print(f\"FGSM Regularization Defense Test Accuracy is {attack_fgsm_reg_defense_test_accuracy}\")\n",
        "print(f\"FGSM Regularization Defense Test Loss is {attack_fgsm_reg_defense_test_loss}\")\n",
        "\n",
        "print(f\"FGSM Examples Defense Test Accuracy is {attack_defense_test_accuracy}\")\n",
        "print(f\"FGSM Examples Defense Test Loss is {attack_defense_test_loss}\")"
      ],
      "execution_count": 5,
      "outputs": [
        {
          "output_type": "stream",
          "text": [
            "Files already downloaded and verified\n",
            "Attack\n",
            "Test Accuracy is 0.5153999924659729\n",
            "Test Loss is 1.3501220548152923\n",
            "FGSM Examples Defense Test Accuracy is 0.6926999688148499\n",
            "FGSM Examples Defense Test Loss is 0.9095079731941224\n",
            "FGSM Regularization Defense Test Accuracy is 0.6182000041007996\n",
            "FGSM Regularization Defense Test Loss is 1.0851730012893677\n"
          ],
          "name": "stdout"
        }
      ]
    },
    {
      "cell_type": "code",
      "metadata": {
        "id": "Ruc6VghjT5w8",
        "colab": {
          "base_uri": "https://localhost:8080/",
          "height": 300
        },
        "outputId": "ac0da606-498f-4782-cde6-b7a37eef9a6d"
      },
      "source": [
        "index = 1 # mnist\n",
        "# index = 0 # cifar10\n",
        "\n",
        "input, ground_truth = test_set[index]\n",
        "input = input.cuda()\n",
        "\n",
        "print(\"ground truth\", ground_truth)\n",
        "\n",
        "print(\"no attack\", predict(model, input))\n",
        "display(transforms.functional.to_pil_image(input))\n",
        "print()\n",
        "\n",
        "adversarial_input, _ = attack_test_set[index]\n",
        "adversarial_input = adversarial_input.cuda()\n",
        "\n",
        "print(\"attack, no defense\", predict(model, adversarial_input))\n",
        "display(transforms.functional.to_pil_image(adversarial_input))\n",
        "print()\n",
        "\n",
        "print(\"attack, FGSM training defense\", predict(defense_model, adversarial_input))\n",
        "display(transforms.functional.to_pil_image(adversarial_input))\n",
        "print()\n",
        "\n",
        "print(\"attack, FGSM loss defense\", predict(fgsm_reg_defense_model, adversarial_input))\n",
        "display(transforms.functional.to_pil_image(adversarial_input))\n",
        "print()\n",
        "\n",
        "image_dir = f\"{DIR}/images\"\n",
        "\n",
        "pil_image = transforms.functional.to_pil_image(input)\n",
        "pil_image.save(f\"{image_dir}/{NAME}-{str(index)}.png\")\n",
        "\n",
        "pil_image = transforms.functional.to_pil_image(adversarial_input)\n",
        "pil_image.save(f\"{image_dir}/{NAME}-{str(index)}-{fgsm_epsilon}-fgsm-adversarial.png\")"
      ],
      "execution_count": 6,
      "outputs": [
        {
          "output_type": "stream",
          "text": [
            "ground truth 8\n",
            "no attack 8\n"
          ],
          "name": "stdout"
        },
        {
          "output_type": "display_data",
          "data": {
            "image/png": "[encoded data removed]",
            "text/plain": [
              "<PIL.Image.Image image mode=RGB size=32x32 at 0x7F8C9B4906D0>"
            ]
          },
          "metadata": {
            "tags": []
          }
        },
        {
          "output_type": "stream",
          "text": [
            "\n",
            "attack, no defense 1\n"
          ],
          "name": "stdout"
        },
        {
          "output_type": "display_data",
          "data": {
            "image/png": "[encoded data removed]",
            "text/plain": [
              "<PIL.Image.Image image mode=RGB size=32x32 at 0x7F8C9B4908D0>"
            ]
          },
          "metadata": {
            "tags": []
          }
        },
        {
          "output_type": "stream",
          "text": [
            "\n",
            "attack, FGSM training defense 8\n"
          ],
          "name": "stdout"
        },
        {
          "output_type": "display_data",
          "data": {
            "image/png": "[encoded data removed]",
            "text/plain": [
              "<PIL.Image.Image image mode=RGB size=32x32 at 0x7F8C9B440810>"
            ]
          },
          "metadata": {
            "tags": []
          }
        },
        {
          "output_type": "stream",
          "text": [
            "\n",
            "attack, FGSM loss defense 8\n"
          ],
          "name": "stdout"
        },
        {
          "output_type": "display_data",
          "data": {
            "image/png": "[encoded data removed]",
            "text/plain": [
              "<PIL.Image.Image image mode=RGB size=32x32 at 0x7F8C9B440550>"
            ]
          },
          "metadata": {
            "tags": []
          }
        },
        {
          "output_type": "stream",
          "text": [
            "\n"
          ],
          "name": "stdout"
        }
      ]
    }
  ]
}