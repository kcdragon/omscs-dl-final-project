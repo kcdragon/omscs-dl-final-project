{
 "cells": [
  {
   "cell_type": "code",
   "execution_count": 1,
   "id": "01bb9eb1-2351-4898-bb13-d19bfbfddb70",
   "metadata": {},
   "outputs": [],
   "source": [
    "%load_ext autoreload\n",
    "%autoreload 2"
   ]
  },
  {
   "cell_type": "code",
   "execution_count": 2,
   "id": "daba2360-e11f-49ca-85c0-c0783e629122",
   "metadata": {},
   "outputs": [
    {
     "data": {
      "text/plain": [
       "\"\\nTesting stat defense vs. blackbox attack\\n\\nSteps:\\nLoad data\\nTrain defense model on data\\nUse defense model as 'oracle' for substitute (replace targets in data with defense model's predictions)\\nTrain substitute on data with targets replaced by oracle (optionally using Jacobian-based data augmentation)\\nGenerate attack data against substitute model\\nTest defense model against attack data\\n\""
      ]
     },
     "execution_count": 2,
     "metadata": {},
     "output_type": "execute_result"
    }
   ],
   "source": [
    "\"\"\"\n",
    "Testing stat defense vs. blackbox attack\n",
    "\n",
    "Steps:\n",
    "Load data\n",
    "Train defense model on data\n",
    "Use defense model as 'oracle' for substitute (replace targets in data with defense model's predictions)\n",
    "Train substitute on data with targets replaced by oracle (optionally using Jacobian-based data augmentation)\n",
    "Generate attack data against substitute model\n",
    "Test defense model against attack data\n",
    "\"\"\""
   ]
  },
  {
   "cell_type": "code",
   "execution_count": 3,
   "id": "12eda0b6-a5a6-44b4-8e81-5fd517e54a82",
   "metadata": {},
   "outputs": [],
   "source": [
    "import os.path\n",
    "import matplotlib.pyplot as plt\n",
    "from IPython.display import Image \n",
    "import torch\n",
    "import torch.nn as nn\n",
    "import torchvision\n",
    "import torchvision.transforms as transforms\n",
    "from torch.utils.data import Subset\n",
    "from torch.autograd.functional import jacobian\n",
    "from torch.autograd import grad\n",
    "from sklearn.model_selection import train_test_split\n",
    "\n",
    "import team36\n",
    "from team36.mnist.data_loading import MNIST_Loader\n",
    "from team36.mnist.vgg import VGG\n",
    "from team36.mnist.cnn import CNN\n",
    "from team36.attacks.fast_gradient_attack_data_set import FastSignGradientAttackDataSet\n",
    "from team36.defenses.fast_gradient_sign_method_loss import FastGradientSignMethodLoss\n",
    "from team36.training import train, validate, accuracy, predict, predict_from_loader, do_training, load_or_train, train_val_split, train_batch\n",
    "\n",
    "DIR = '.'\n",
    "DATA_DIR = f'{DIR}/data'"
   ]
  },
  {
   "cell_type": "code",
   "execution_count": 4,
   "id": "f962fecd-83c7-418d-b7a1-aa9d173f40a4",
   "metadata": {},
   "outputs": [
    {
     "name": "stderr",
     "output_type": "stream",
     "text": [
      "C:\\Users\\bkest\\miniconda3\\envs\\cs7643-final-project-cpu\\lib\\site-packages\\torchvision\\datasets\\mnist.py:498: UserWarning: The given NumPy array is not writeable, and PyTorch does not support non-writeable tensors. This means you can write to the underlying (supposedly non-writeable) NumPy array using the tensor. You may want to copy the array to protect its data or make it writeable before converting it to a tensor. This type of warning will be suppressed for the rest of this program. (Triggered internally at  ..\\torch\\csrc\\utils\\tensor_numpy.cpp:180.)\n",
      "  return torch.from_numpy(parsed.astype(m[2], copy=False)).view(*s)\n"
     ]
    },
    {
     "data": {
      "text/plain": [
       "[Dataset MNIST\n",
       "     Number of datapoints: 60000\n",
       "     Root location: ./data\n",
       "     Split: Train\n",
       "     StandardTransform\n",
       " Transform: Compose(\n",
       "                ToTensor()\n",
       "            ),\n",
       " Dataset MNIST\n",
       "     Number of datapoints: 60000\n",
       "     Root location: ./data\n",
       "     Split: Train\n",
       "     StandardTransform\n",
       " Transform: Compose(\n",
       "                ToTensor()\n",
       "            )]"
      ]
     },
     "execution_count": 4,
     "metadata": {},
     "output_type": "execute_result"
    }
   ],
   "source": [
    "\"\"\"\n",
    "Set up the datasets\n",
    "It is interesting to compare using the same dataset for the substitute and oracle vs. using different datasets\n",
    "\"\"\"\n",
    "ORACLE_DATASET = 'MNIST' # 'MNIST' or 'CIFAR10'\n",
    "SUB_DATASET = 'MNIST' \n",
    "DATASET_NAMES = [ORACLE_DATASET, SUB_DATASET]\n",
    "MODEL_NAMES = ['oracle', 'sub']\n",
    "ORACLE = 0\n",
    "SUB = 1\n",
    "datasets = [] # two-element list to store the oracle dataset and the substitute dataset\n",
    "dataset_image_sizes = []\n",
    "dataset_channels = []\n",
    "test_datasets = []\n",
    "\n",
    "for idx, dataset_name in enumerate(DATASET_NAMES):\n",
    "    transform_seq = [transforms.ToTensor()]\n",
    "    if dataset_name == 'MNIST':\n",
    "        image_size = 28\n",
    "        in_channels = 1\n",
    "        if idx == SUB and ORACLE_DATASET != 'MNIST': # if substitute uses mnist, but oracle uses other dataset add padding to match image size\n",
    "            padding = (dataset_image_sizes[ORACLE] - image_size) // 2\n",
    "            transform_seq.append(transforms.Pad(padding, fill=0))\n",
    "            image_size += padding * 2\n",
    "            transform_seq.append(transforms.Lambda(lambda x: x.repeat(3, 1, 1)))\n",
    "            in_channels = 3 # also need to copy to 3 channels to match rgb cifar\n",
    "            # NOTE: above assumes oracle_dataset has larger images and that there is an even number difference in the image sizes\n",
    "        dataset = torchvision.datasets.MNIST(root=DATA_DIR, train=True, download=True, \n",
    "                                              transform=transforms.Compose(transform_seq))\n",
    "        test_dataset = torchvision.datasets.MNIST(root=DATA_DIR, train=False, download=True, \n",
    "                                              transform=transforms.Compose(transform_seq))\n",
    "    elif dataset_name == 'CIFAR10':\n",
    "        image_size = 32\n",
    "        in_channels = 3\n",
    "        dataset = torchvision.datasets.CIFAR10(root=DATA_DIR, train=True, download=True,\n",
    "                                                transform=transforms.Compose(transform_seq))\n",
    "        test_dataset = torchvision.datasets.CIFAR10(root=DATA_DIR, train=False, download=True, \n",
    "                                              transform=transforms.Compose(transform_seq))\n",
    "    else:\n",
    "        print('ERROR: invalid dataset name', dataset_name)\n",
    "    datasets.append(dataset)\n",
    "    dataset_image_sizes.append(image_size)\n",
    "    dataset_channels.append(in_channels)\n",
    "    test_datasets.append(test_dataset)\n",
    "\n",
    "# optionally, use the test set to train the substitute, so that it trains on different data than the oracle:\n",
    "# datasets[SUB] = test_datasets[SUB]\n",
    "    \n",
    "datasets"
   ]
  },
  {
   "cell_type": "code",
   "execution_count": 5,
   "id": "e6ca00be-2d2c-4f97-81f9-f19a6d992b3a",
   "metadata": {},
   "outputs": [
    {
     "data": {
      "text/plain": [
       "VGG(\n",
       "  (convolution_layers): Sequential(\n",
       "    (0): Conv2d(1, 32, kernel_size=(3, 3), stride=(1, 1), padding=(1, 1))\n",
       "    (1): BatchNorm2d(32, eps=1e-05, momentum=0.1, affine=True, track_running_stats=True)\n",
       "    (2): ReLU(inplace=True)\n",
       "    (3): Conv2d(32, 64, kernel_size=(3, 3), stride=(1, 1), padding=(1, 1))\n",
       "    (4): BatchNorm2d(64, eps=1e-05, momentum=0.1, affine=True, track_running_stats=True)\n",
       "    (5): ReLU(inplace=True)\n",
       "    (6): MaxPool2d(kernel_size=2, stride=2, padding=0, dilation=1, ceil_mode=False)\n",
       "    (7): Conv2d(64, 128, kernel_size=(3, 3), stride=(1, 1), padding=(1, 1))\n",
       "    (8): BatchNorm2d(128, eps=1e-05, momentum=0.1, affine=True, track_running_stats=True)\n",
       "    (9): ReLU(inplace=True)\n",
       "    (10): Conv2d(128, 256, kernel_size=(3, 3), stride=(1, 1), padding=(1, 1))\n",
       "    (11): BatchNorm2d(256, eps=1e-05, momentum=0.1, affine=True, track_running_stats=True)\n",
       "    (12): ReLU(inplace=True)\n",
       "    (13): MaxPool2d(kernel_size=2, stride=2, padding=0, dilation=1, ceil_mode=False)\n",
       "  )\n",
       "  (linear_layers): Sequential(\n",
       "    (0): Linear(in_features=12544, out_features=10, bias=True)\n",
       "  )\n",
       ")"
      ]
     },
     "execution_count": 5,
     "metadata": {},
     "output_type": "execute_result"
    }
   ],
   "source": [
    "\"\"\"Initialize the defense model (aka the oracle)\"\"\"\n",
    "if DATASET_NAMES[ORACLE] == 'MNIST':\n",
    "    defense_model = VGG() #TODO: replace with defense model\n",
    "elif DATASET_NAMES[ORACLE] == 'CIFAR10':\n",
    "    defense_model = VGG(image_size=32, in_channels=3) #TODO: replace with defense model\n",
    "oracle = defense_model\n",
    "    \n",
    "defense_model"
   ]
  },
  {
   "cell_type": "code",
   "execution_count": 6,
   "id": "fc30a59e-5557-4230-aa13-4bc393881a59",
   "metadata": {},
   "outputs": [
    {
     "data": {
      "text/plain": [
       "<torch._C.Generator at 0x2081edb3550>"
      ]
     },
     "execution_count": 6,
     "metadata": {},
     "output_type": "execute_result"
    }
   ],
   "source": [
    "\"\"\"Train the defense model\"\"\"\n",
    "torch.manual_seed(0)\n",
    "#TODO: train defense_model using datasets[ORACLE]\n",
    "# insert your own training code, or use load_or_train() from training.py if it helps\n",
    "# note that load_or_train() generates a checkpoint with the given name and you need to delete it if you want to re-train from scratch"
   ]
  },
  {
   "cell_type": "code",
   "execution_count": 7,
   "id": "1872316e-5822-44b9-a9c1-f4904c76db46",
   "metadata": {},
   "outputs": [
    {
     "name": "stderr",
     "output_type": "stream",
     "text": [
      "C:\\Users\\bkest\\miniconda3\\envs\\cs7643-final-project-cpu\\lib\\site-packages\\torch\\cuda\\__init__.py:52: UserWarning: CUDA initialization: The NVIDIA driver on your system is too old (found version 10010). Please update your GPU driver by downloading and installing a new version from the URL: http://www.nvidia.com/Download/index.aspx Alternatively, go to: https://pytorch.org to install a PyTorch version that has been compiled with your version of the CUDA driver. (Triggered internally at  ..\\c10\\cuda\\CUDAFunctions.cpp:115.)\n",
      "  return torch._C._cuda_getDeviceCount() > 0\n",
      "C:\\Users\\bkest\\miniconda3\\envs\\cs7643-final-project-cpu\\lib\\site-packages\\torch\\nn\\functional.py:718: UserWarning: Named tensors and all their associated APIs are an experimental feature and subject to change. Please do not use them for anything important until they are released as stable. (Triggered internally at  ..\\c10/core/TensorImpl.h:1156.)\n",
      "  return torch.max_pool2d(input, kernel_size, stride, padding, dilation, ceil_mode)\n"
     ]
    },
    {
     "name": "stdout",
     "output_type": "stream",
     "text": [
      "Wall time: 1min 27s\n"
     ]
    }
   ],
   "source": [
    "%%time\n",
    "\"\"\"Relabel the substitute dataset with the oracle's predictions\"\"\"\n",
    "loader = torch.utils.data.DataLoader(datasets[SUB], batch_size=100, shuffle=False, num_workers=0)\n",
    "oracle_preds = predict_from_loader(oracle, loader)"
   ]
  },
  {
   "cell_type": "code",
   "execution_count": 8,
   "id": "4493ce14-2a66-4777-8ccb-75c269d500b7",
   "metadata": {},
   "outputs": [
    {
     "name": "stdout",
     "output_type": "stream",
     "text": [
      "Wall time: 6.49 ms\n"
     ]
    }
   ],
   "source": [
    "%%time\n",
    "oracle_preds = oracle_preds.argmax(axis=1)"
   ]
  },
  {
   "cell_type": "code",
   "execution_count": 9,
   "id": "2884f21b-54dd-4297-aec5-6552f3cb310a",
   "metadata": {},
   "outputs": [
    {
     "data": {
      "text/plain": [
       "10774"
      ]
     },
     "execution_count": 9,
     "metadata": {},
     "output_type": "execute_result"
    }
   ],
   "source": [
    "# sanity check: oracle preds should mostly match true labels (i.e. close to 60,000 on MNIST or 50,000 on CIFAR10)\n",
    "len(oracle_preds[oracle_preds == datasets[SUB].targets]) "
   ]
  },
  {
   "cell_type": "code",
   "execution_count": 10,
   "id": "c7738db6-1a7e-493c-a7b8-f7876287db80",
   "metadata": {},
   "outputs": [],
   "source": [
    "# replace true labels with oracle's predictions\n",
    "datasets[SUB].targets = oracle_preds "
   ]
  },
  {
   "cell_type": "code",
   "execution_count": 11,
   "id": "e2c51b3f-b387-4646-af6c-7cc67fceba68",
   "metadata": {},
   "outputs": [
    {
     "name": "stdout",
     "output_type": "stream",
     "text": [
      "1800 in training set\n",
      "1800 in validation set\n",
      "Epoch: [0][0/8]\tLoss 2.2591 (2.2591)\tPrec @1 0.0547 (0.0547)\t\n",
      "Epoch 0 | Training accuracy: 0.5529999732971191% | Validation accuracy: 0.6272222399711609%\n",
      "Epoch: [1][0/8]\tLoss 0.7616 (0.7616)\tPrec @1 0.7031 (0.7031)\t\n",
      "Epoch 1 | Training accuracy: 0.703000009059906% | Validation accuracy: 0.6238889098167419%\n",
      "Epoch: [2][0/8]\tLoss 0.8500 (0.8500)\tPrec @1 0.6562 (0.6562)\t\n",
      "Epoch 2 | Training accuracy: 0.7089999914169312% | Validation accuracy: 0.6555555462837219%\n",
      "Epoch: [3][0/8]\tLoss 0.7790 (0.7790)\tPrec @1 0.7578 (0.7578)\t\n",
      "Epoch 3 | Training accuracy: 0.746999979019165% | Validation accuracy: 0.6622222065925598%\n",
      "Epoch: [4][0/8]\tLoss 0.6857 (0.6857)\tPrec @1 0.7656 (0.7656)\t\n",
      "Epoch 4 | Training accuracy: 0.718999981880188% | Validation accuracy: 0.6638888716697693%\n",
      "Epoch: [5][0/8]\tLoss 0.8107 (0.8107)\tPrec @1 0.7031 (0.7031)\t\n",
      "Epoch 5 | Training accuracy: 0.7039999961853027% | Validation accuracy: 0.5888888835906982%\n",
      "Epoch: [6][0/8]\tLoss 0.8534 (0.8534)\tPrec @1 0.6250 (0.6250)\t\n",
      "Epoch 6 | Training accuracy: 0.7020000219345093% | Validation accuracy: 0.6700000166893005%\n",
      "Epoch: [7][0/8]\tLoss 0.6883 (0.6883)\tPrec @1 0.6953 (0.6953)\t\n",
      "Epoch 7 | Training accuracy: 0.7170000076293945% | Validation accuracy: 0.67166668176651%\n",
      "Epoch: [8][0/8]\tLoss 0.5892 (0.5892)\tPrec @1 0.7656 (0.7656)\t\n",
      "Epoch 8 | Training accuracy: 0.7250000238418579% | Validation accuracy: 0.6650000214576721%\n",
      "Epoch: [9][0/8]\tLoss 0.6402 (0.6402)\tPrec @1 0.7812 (0.7812)\t\n",
      "Epoch 9 | Training accuracy: 0.7490000128746033% | Validation accuracy: 0.6622222065925598%\n",
      "Epoch: [10][0/8]\tLoss 0.8189 (0.8189)\tPrec @1 0.6641 (0.6641)\t\n",
      "Epoch 10 | Training accuracy: 0.6790000200271606% | Validation accuracy: 0.6194444298744202%\n",
      "Epoch: [11][0/8]\tLoss 0.8942 (0.8942)\tPrec @1 0.6406 (0.6406)\t\n",
      "Epoch 11 | Training accuracy: 0.7279999852180481% | Validation accuracy: 0.6600000262260437%\n",
      "Epoch: [12][0/8]\tLoss 0.7087 (0.7087)\tPrec @1 0.7500 (0.7500)\t\n",
      "Epoch 12 | Training accuracy: 0.7329999804496765% | Validation accuracy: 0.6672222018241882%\n",
      "Epoch: [13][0/8]\tLoss 0.5941 (0.5941)\tPrec @1 0.7656 (0.7656)\t\n",
      "Epoch 13 | Training accuracy: 0.7540000081062317% | Validation accuracy: 0.6738888621330261%\n",
      "Epoch: [14][0/8]\tLoss 0.5617 (0.5617)\tPrec @1 0.7812 (0.7812)\t\n",
      "Epoch 14 | Training accuracy: 0.7480000257492065% | Validation accuracy: 0.6694444417953491%\n",
      "Epoch: [15][0/8]\tLoss 0.7163 (0.7163)\tPrec @1 0.7031 (0.7031)\t\n",
      "Epoch 15 | Training accuracy: 0.7409999966621399% | Validation accuracy: 0.6783333420753479%\n",
      "Epoch: [16][0/8]\tLoss 0.5840 (0.5840)\tPrec @1 0.7891 (0.7891)\t\n",
      "Epoch 16 | Training accuracy: 0.7580000162124634% | Validation accuracy: 0.6700000166893005%\n",
      "Epoch: [17][0/8]\tLoss 0.7145 (0.7145)\tPrec @1 0.7656 (0.7656)\t\n",
      "Epoch 17 | Training accuracy: 0.7400000095367432% | Validation accuracy: 0.6633333563804626%\n",
      "Epoch: [18][0/8]\tLoss 0.5551 (0.5551)\tPrec @1 0.8203 (0.8203)\t\n",
      "Epoch 18 | Training accuracy: 0.7680000066757202% | Validation accuracy: 0.6611111164093018%\n",
      "Epoch: [19][0/8]\tLoss 0.5351 (0.5351)\tPrec @1 0.7422 (0.7422)\t\n",
      "Epoch 19 | Training accuracy: 0.7519999742507935% | Validation accuracy: 0.6744444370269775%\n",
      "Epoch: [20][0/8]\tLoss 0.7564 (0.7564)\tPrec @1 0.7031 (0.7031)\t\n",
      "Epoch 20 | Training accuracy: 0.7490000128746033% | Validation accuracy: 0.648888885974884%\n",
      "Epoch: [21][0/8]\tLoss 0.9399 (0.9399)\tPrec @1 0.6562 (0.6562)\t\n",
      "Epoch 21 | Training accuracy: 0.7260000109672546% | Validation accuracy: 0.6688888669013977%\n",
      "Epoch: [22][0/8]\tLoss 0.4916 (0.4916)\tPrec @1 0.8047 (0.8047)\t\n",
      "Epoch 22 | Training accuracy: 0.7540000081062317% | Validation accuracy: 0.6494444608688354%\n",
      "Epoch: [23][0/8]\tLoss 0.6915 (0.6915)\tPrec @1 0.7188 (0.7188)\t\n",
      "Epoch 23 | Training accuracy: 0.7200000286102295% | Validation accuracy: 0.6700000166893005%\n",
      "Epoch: [24][0/8]\tLoss 0.7318 (0.7318)\tPrec @1 0.6953 (0.6953)\t\n",
      "Epoch 24 | Training accuracy: 0.718999981880188% | Validation accuracy: 0.6688888669013977%\n",
      "Epoch: [25][0/8]\tLoss 0.6668 (0.6668)\tPrec @1 0.7266 (0.7266)\t\n",
      "Epoch 25 | Training accuracy: 0.7490000128746033% | Validation accuracy: 0.676111102104187%\n",
      "Epoch: [26][0/8]\tLoss 0.6497 (0.6497)\tPrec @1 0.7344 (0.7344)\t\n",
      "Epoch 26 | Training accuracy: 0.765999972820282% | Validation accuracy: 0.676111102104187%\n",
      "Epoch: [27][0/8]\tLoss 0.5062 (0.5062)\tPrec @1 0.8672 (0.8672)\t\n",
      "Epoch 27 | Training accuracy: 0.7749999761581421% | Validation accuracy: 0.6700000166893005%\n",
      "Epoch: [28][0/8]\tLoss 0.6813 (0.6813)\tPrec @1 0.6875 (0.6875)\t\n",
      "Epoch 28 | Training accuracy: 0.7590000033378601% | Validation accuracy: 0.676111102104187%\n",
      "Epoch: [29][0/8]\tLoss 0.5635 (0.5635)\tPrec @1 0.7969 (0.7969)\t\n",
      "Epoch 29 | Training accuracy: 0.7509999871253967% | Validation accuracy: 0.6722221970558167%\n"
     ]
    },
    {
     "data": {
      "image/png": "[encoded data removed]",
      "text/plain": [
       "<Figure size 432x288 with 1 Axes>"
      ]
     },
     "metadata": {
      "needs_background": "light"
     },
     "output_type": "display_data"
    },
    {
     "data": {
      "image/png": "[encoded data removed]",
      "text/plain": [
       "<Figure size 432x288 with 1 Axes>"
      ]
     },
     "metadata": {
      "needs_background": "light"
     },
     "output_type": "display_data"
    },
    {
     "name": "stdout",
     "output_type": "stream",
     "text": [
      "Best Validation Acccuracy: 0.6783\n",
      "Wall time: 22.5 s\n"
     ]
    }
   ],
   "source": [
    "%%time\n",
    "torch.manual_seed(0)\n",
    "sub = CNN(image_size = dataset_image_sizes[SUB], in_channels = dataset_channels[SUB])\n",
    "sub_checkpoint = f'{DATASET_NAMES[SUB]}-substitute.pth' # e.g. 'MNIST-substitute.pth'\n",
    "\n",
    "loader = torch.utils.data.DataLoader(datasets[SUB], batch_size=100, shuffle=False, num_workers=0)\n",
    "# NOTE: due to a bug with lambda transforms on Windows, num_workers needs to be 0 or there will be an error\n",
    "# https://github.com/belskikh/kekas/issues/26\n",
    "\n",
    "epochs = 30\n",
    "#TODO: test with train_size 1800 and 10,000, and tune hyperparameters if necessary\n",
    "# train_size = 10000\n",
    "train_size = 1800 \n",
    "learning_rate = 0.05\n",
    "momentum = 0.5\n",
    "train = Subset(datasets[SUB], range(train_size))\n",
    "val = Subset(datasets[SUB], range(train_size, train_size*2)) # val split same size as train split\n",
    "load_or_train(sub, sub_checkpoint, train_split=train, val_split=val, epochs=epochs, learning_rate=learning_rate, momentum=momentum)"
   ]
  },
  {
   "cell_type": "code",
   "execution_count": 12,
   "id": "a9256dd0-999c-4974-8e39-ffc5561bf7f8",
   "metadata": {},
   "outputs": [],
   "source": [
    "target = oracle\n",
    "criterion = nn.CrossEntropyLoss()\n",
    "models = [(oracle, 'oracle')]"
   ]
  },
  {
   "cell_type": "code",
   "execution_count": 13,
   "id": "780fe682-d735-4fb8-bd3c-b7c907114c32",
   "metadata": {},
   "outputs": [
    {
     "name": "stdout",
     "output_type": "stream",
     "text": [
      "oracle\n",
      "oracle Regular Test Accuracy is 0.18129999935626984\n",
      "oracle Regular Test Loss is 2.4282011222839355\n",
      "Wall time: 15.7 s\n"
     ]
    }
   ],
   "source": [
    "%%time\n",
    "\"\"\"Regular Test\"\"\"\n",
    "test_set = test_datasets[ORACLE] \n",
    "\n",
    "for model, name in models:\n",
    "    print(name)\n",
    "    test_loader = torch.utils.data.DataLoader(test_set, batch_size=100, shuffle=False, num_workers=0)\n",
    "\n",
    "    test_accuracy, _, test_loss = validate(None, test_loader, model, criterion)\n",
    "\n",
    "    print(f\"{name} Regular Test Accuracy is {test_accuracy}\")\n",
    "    print(f\"{name} Regular Test Loss is {test_loss}\")"
   ]
  },
  {
   "cell_type": "code",
   "execution_count": 14,
   "id": "2dbe04ea-70d2-4783-bd9d-6d0c57bcca1b",
   "metadata": {},
   "outputs": [
    {
     "name": "stdout",
     "output_type": "stream",
     "text": [
      "oracle\n",
      "oracle Attack Test Accuracy is 0.13359999656677246\n",
      "oracle Attack Test Loss is 2.5852762818336488\n",
      "Wall time: 22.8 s\n"
     ]
    }
   ],
   "source": [
    "%%time\n",
    "\"\"\"Attack Test\"\"\"\n",
    "epsilon = 0.25 #TODO: record results for epsilon=0.25, 0.1, 0.05, and 0.01\n",
    "test_set = test_datasets[ORACLE] # since the substitute tries to mimic the oracle, we may as well test on the oracle's test set\n",
    "attack_test_set = FastSignGradientAttackDataSet(test_set, sub, criterion, epsilon=epsilon) # generate attack against substitute model\n",
    "\n",
    "for model, name in models:\n",
    "    print(name)\n",
    "    test_loader = torch.utils.data.DataLoader(attack_test_set, batch_size=100, shuffle=False, num_workers=0)\n",
    "\n",
    "    test_accuracy, _, test_loss = validate(None, test_loader, model, criterion)\n",
    "\n",
    "    print(f\"{name} Attack Test Accuracy is {test_accuracy}\")\n",
    "    print(f\"{name} Attack Test Loss is {test_loss}\")"
   ]
  }
 ],
 "metadata": {
  "kernelspec": {
   "display_name": "cs7643-final-project-cpu",
   "language": "python",
   "name": "cs7643-final-project-cpu"
  },
  "language_info": {
   "codemirror_mode": {
    "name": "ipython",
    "version": 3
   },
   "file_extension": ".py",
   "mimetype": "text/x-python",
   "name": "python",
   "nbconvert_exporter": "python",
   "pygments_lexer": "ipython3",
   "version": "3.9.4"
  }
 },
 "nbformat": 4,
 "nbformat_minor": 5
}
